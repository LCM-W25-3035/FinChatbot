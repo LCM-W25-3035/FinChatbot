{
 "cells": [
  {
   "cell_type": "code",
   "execution_count": null,
   "metadata": {},
   "outputs": [],
   "source": [
    "import numpy as np\n",
    "import pandas as pd\n",
    "\n",
    "#importing libraries"
   ]
  },
  {
   "cell_type": "code",
   "execution_count": null,
   "metadata": {},
   "outputs": [],
   "source": [
    "dataset = pd.read_json(\"../Data/FinQ&A/train1.json\")  #load the dataset"
   ]
  },
  {
   "cell_type": "code",
   "execution_count": null,
   "metadata": {},
   "outputs": [
    {
     "data": {
      "text/html": [
       "<div>\n",
       "<style scoped>\n",
       "    .dataframe tbody tr th:only-of-type {\n",
       "        vertical-align: middle;\n",
       "    }\n",
       "\n",
       "    .dataframe tbody tr th {\n",
       "        vertical-align: top;\n",
       "    }\n",
       "\n",
       "    .dataframe thead th {\n",
       "        text-align: right;\n",
       "    }\n",
       "</style>\n",
       "<table border=\"1\" class=\"dataframe\">\n",
       "  <thead>\n",
       "    <tr style=\"text-align: right;\">\n",
       "      <th></th>\n",
       "      <th>table</th>\n",
       "      <th>paragraphs</th>\n",
       "      <th>questions</th>\n",
       "    </tr>\n",
       "  </thead>\n",
       "  <tbody>\n",
       "    <tr>\n",
       "      <th>0</th>\n",
       "      <td>{'uid': 'e78f8b29-6085-43de-b32f-be1a68641be3'...</td>\n",
       "      <td>[{'uid': '62be4f5a-1693-4e6b-8bb4-0a4e1e40b409...</td>\n",
       "      <td>[{'uid': '9c569bea-e036-4c27-8e41-82c6efab1d31...</td>\n",
       "    </tr>\n",
       "    <tr>\n",
       "      <th>1</th>\n",
       "      <td>{'uid': '98c16699-d385-4631-91de-1bc3c87f9f99'...</td>\n",
       "      <td>[{'uid': '1ef0dbdd-15d0-4577-b068-dca80af4f851...</td>\n",
       "      <td>[{'uid': 'dd2a72ca-f65c-4673-9820-f7cefcb06ee4...</td>\n",
       "    </tr>\n",
       "    <tr>\n",
       "      <th>2</th>\n",
       "      <td>{'uid': '991d23d7-f32d-4954-8e1d-87ad22470fcf'...</td>\n",
       "      <td>[{'uid': '6597634c-716e-4a2d-9a19-22f8563a0b1a...</td>\n",
       "      <td>[{'uid': '9ef99ae1-e17b-4b51-b81e-48cc48a481d1...</td>\n",
       "    </tr>\n",
       "    <tr>\n",
       "      <th>3</th>\n",
       "      <td>{'uid': '806ac467-ab50-428b-8584-baef6d6c4cee'...</td>\n",
       "      <td>[{'uid': 'bc15602d-7889-4e0e-889d-722bec1e9ead...</td>\n",
       "      <td>[{'uid': 'd4919a15-b02b-4392-99ae-9eccd114e0ff...</td>\n",
       "    </tr>\n",
       "    <tr>\n",
       "      <th>4</th>\n",
       "      <td>{'uid': '67111519-017b-4638-9a74-41eb792c2f0f'...</td>\n",
       "      <td>[{'uid': '0a92704a-5cd8-4761-8c5f-afe01f89a820...</td>\n",
       "      <td>[{'uid': 'd6a3a306-fb34-48dc-838e-3d109f60d685...</td>\n",
       "    </tr>\n",
       "  </tbody>\n",
       "</table>\n",
       "</div>"
      ],
      "text/plain": [
       "                                               table  \\\n",
       "0  {'uid': 'e78f8b29-6085-43de-b32f-be1a68641be3'...   \n",
       "1  {'uid': '98c16699-d385-4631-91de-1bc3c87f9f99'...   \n",
       "2  {'uid': '991d23d7-f32d-4954-8e1d-87ad22470fcf'...   \n",
       "3  {'uid': '806ac467-ab50-428b-8584-baef6d6c4cee'...   \n",
       "4  {'uid': '67111519-017b-4638-9a74-41eb792c2f0f'...   \n",
       "\n",
       "                                          paragraphs  \\\n",
       "0  [{'uid': '62be4f5a-1693-4e6b-8bb4-0a4e1e40b409...   \n",
       "1  [{'uid': '1ef0dbdd-15d0-4577-b068-dca80af4f851...   \n",
       "2  [{'uid': '6597634c-716e-4a2d-9a19-22f8563a0b1a...   \n",
       "3  [{'uid': 'bc15602d-7889-4e0e-889d-722bec1e9ead...   \n",
       "4  [{'uid': '0a92704a-5cd8-4761-8c5f-afe01f89a820...   \n",
       "\n",
       "                                           questions  \n",
       "0  [{'uid': '9c569bea-e036-4c27-8e41-82c6efab1d31...  \n",
       "1  [{'uid': 'dd2a72ca-f65c-4673-9820-f7cefcb06ee4...  \n",
       "2  [{'uid': '9ef99ae1-e17b-4b51-b81e-48cc48a481d1...  \n",
       "3  [{'uid': 'd4919a15-b02b-4392-99ae-9eccd114e0ff...  \n",
       "4  [{'uid': 'd6a3a306-fb34-48dc-838e-3d109f60d685...  "
      ]
     },
     "execution_count": 3,
     "metadata": {},
     "output_type": "execute_result"
    }
   ],
   "source": [
    "dataset.head()  #print first 5 rows"
   ]
  },
  {
   "cell_type": "code",
   "execution_count": null,
   "metadata": {},
   "outputs": [
    {
     "data": {
      "text/plain": [
       "0       [{'uid': '9c569bea-e036-4c27-8e41-82c6efab1d31...\n",
       "1       [{'uid': 'dd2a72ca-f65c-4673-9820-f7cefcb06ee4...\n",
       "2       [{'uid': '9ef99ae1-e17b-4b51-b81e-48cc48a481d1...\n",
       "3       [{'uid': 'd4919a15-b02b-4392-99ae-9eccd114e0ff...\n",
       "4       [{'uid': 'd6a3a306-fb34-48dc-838e-3d109f60d685...\n",
       "                              ...                        \n",
       "2196    [{'uid': '1ad41c0d-3cd2-46ad-ab00-d5b4a509fbd0...\n",
       "2197    [{'uid': 'fbf8835f-8859-4d39-b970-0df9427b0568...\n",
       "2198    [{'uid': '35db303f-13aa-43d6-b157-82671b75a7b5...\n",
       "2199    [{'uid': '2a8be598-f2a7-4fa7-b6e2-b9742f4b5e4f...\n",
       "2200    [{'uid': '69b23654-bdc4-41ad-af90-5e60ffc0461c...\n",
       "Name: questions, Length: 2201, dtype: object"
      ]
     },
     "execution_count": 4,
     "metadata": {},
     "output_type": "execute_result"
    }
   ],
   "source": [
    "dataset[\"questions\"]  #printing the questions column"
   ]
  },
  {
   "cell_type": "code",
   "execution_count": null,
   "metadata": {},
   "outputs": [
    {
     "data": {
      "text/plain": [
       "[{'uid': '9c569bea-e036-4c27-8e41-82c6efab1d31',\n",
       "  'order': 1,\n",
       "  'question': 'What does the Weighted average actuarial assumptions consist of?',\n",
       "  'answer': ['Rate of inflation',\n",
       "   'Rate of increase in salaries',\n",
       "   'Discount rate'],\n",
       "  'derivation': '',\n",
       "  'answer_type': 'multi-span',\n",
       "  'answer_from': 'table',\n",
       "  'rel_paragraphs': [],\n",
       "  'req_comparison': False,\n",
       "  'scale': ''},\n",
       " {'uid': '83dcc128-9777-4ae2-ba55-50162ac43257',\n",
       "  'order': 2,\n",
       "  'question': 'How much is the 2019 rate of inflation?',\n",
       "  'answer': ['2.9'],\n",
       "  'derivation': '',\n",
       "  'answer_type': 'span',\n",
       "  'answer_from': 'table',\n",
       "  'rel_paragraphs': [],\n",
       "  'req_comparison': False,\n",
       "  'scale': 'percent'},\n",
       " {'uid': '0384152d-1f9f-4b12-85a9-2ca5e1c97682',\n",
       "  'order': 3,\n",
       "  'question': 'How much is the 2018 rate of inflation?',\n",
       "  'answer': ['2.9'],\n",
       "  'derivation': '',\n",
       "  'answer_type': 'span',\n",
       "  'answer_from': 'table',\n",
       "  'rel_paragraphs': [],\n",
       "  'req_comparison': False,\n",
       "  'scale': 'percent'},\n",
       " {'uid': 'dbee8930-0110-41c7-95fe-0178ddf4f841',\n",
       "  'order': 4,\n",
       "  'question': 'What is the 2019 average rate of inflation?',\n",
       "  'answer': 2.9,\n",
       "  'derivation': '(2.9+2.9)/2',\n",
       "  'answer_type': 'arithmetic',\n",
       "  'answer_from': 'table',\n",
       "  'rel_paragraphs': [],\n",
       "  'req_comparison': False,\n",
       "  'scale': 'percent'},\n",
       " {'uid': '1665b441-93e5-481d-b0b4-2d28ce70e1a8',\n",
       "  'order': 5,\n",
       "  'question': 'What is the 2019 average rate of increase in salaries?',\n",
       "  'answer': 2.7,\n",
       "  'derivation': '(2.7+2.7)/2',\n",
       "  'answer_type': 'arithmetic',\n",
       "  'answer_from': 'table',\n",
       "  'rel_paragraphs': [],\n",
       "  'req_comparison': False,\n",
       "  'scale': 'percent'},\n",
       " {'uid': '2cec8a99-3a83-409b-886b-dbb65a05fb25',\n",
       "  'order': 6,\n",
       "  'question': 'What is the difference between 2019 average rate of inflation and 2019 average rate of increase in salaries?',\n",
       "  'answer': 0.2,\n",
       "  'derivation': '[(2.9+2.9)/2] - [(2.7+2.7)/2]',\n",
       "  'answer_type': 'arithmetic',\n",
       "  'answer_from': 'table',\n",
       "  'rel_paragraphs': [],\n",
       "  'req_comparison': False,\n",
       "  'scale': 'percent'}]"
      ]
     },
     "execution_count": 5,
     "metadata": {},
     "output_type": "execute_result"
    }
   ],
   "source": [
    "dataset[\"questions\"].values[0]  #the values "
   ]
  },
  {
   "cell_type": "code",
   "execution_count": 6,
   "metadata": {},
   "outputs": [
    {
     "data": {
      "text/plain": [
       "{'uid': '9c569bea-e036-4c27-8e41-82c6efab1d31',\n",
       " 'order': 1,\n",
       " 'question': 'What does the Weighted average actuarial assumptions consist of?',\n",
       " 'answer': ['Rate of inflation',\n",
       "  'Rate of increase in salaries',\n",
       "  'Discount rate'],\n",
       " 'derivation': '',\n",
       " 'answer_type': 'multi-span',\n",
       " 'answer_from': 'table',\n",
       " 'rel_paragraphs': [],\n",
       " 'req_comparison': False,\n",
       " 'scale': ''}"
      ]
     },
     "execution_count": 6,
     "metadata": {},
     "output_type": "execute_result"
    }
   ],
   "source": [
    "dataset[\"questions\"].values[0][0]"
   ]
  },
  {
   "cell_type": "code",
   "execution_count": null,
   "metadata": {},
   "outputs": [
    {
     "data": {
      "text/plain": [
       "'multi-span'"
      ]
     },
     "execution_count": 7,
     "metadata": {},
     "output_type": "execute_result"
    }
   ],
   "source": [
    "dataset[\"questions\"].values[0][0][\"answer_type\"]   #the answer type"
   ]
  },
  {
   "cell_type": "code",
   "execution_count": 8,
   "metadata": {},
   "outputs": [],
   "source": [
    "span_questions = []\n",
    "\n",
    "for i in range(len(dataset)):\n",
    "    if dataset[\"questions\"].values[i][0][\"answer_type\"] == \"span\":\n",
    "        span_questions.append(dataset[\"questions\"].values[i][0])"
   ]
  },
  {
   "cell_type": "code",
   "execution_count": 9,
   "metadata": {},
   "outputs": [
    {
     "data": {
      "text/plain": [
       "1711"
      ]
     },
     "execution_count": 9,
     "metadata": {},
     "output_type": "execute_result"
    }
   ],
   "source": [
    "len(span_questions)"
   ]
  },
  {
   "cell_type": "code",
   "execution_count": null,
   "metadata": {},
   "outputs": [],
   "source": [
    "data = pd.DataFrame(span_questions)   #the span questions are converted as a dataframe"
   ]
  },
  {
   "cell_type": "code",
   "execution_count": 11,
   "metadata": {},
   "outputs": [
    {
     "data": {
      "text/html": [
       "<div>\n",
       "<style scoped>\n",
       "    .dataframe tbody tr th:only-of-type {\n",
       "        vertical-align: middle;\n",
       "    }\n",
       "\n",
       "    .dataframe tbody tr th {\n",
       "        vertical-align: top;\n",
       "    }\n",
       "\n",
       "    .dataframe thead th {\n",
       "        text-align: right;\n",
       "    }\n",
       "</style>\n",
       "<table border=\"1\" class=\"dataframe\">\n",
       "  <thead>\n",
       "    <tr style=\"text-align: right;\">\n",
       "      <th></th>\n",
       "      <th>uid</th>\n",
       "      <th>order</th>\n",
       "      <th>question</th>\n",
       "      <th>answer</th>\n",
       "      <th>derivation</th>\n",
       "      <th>answer_type</th>\n",
       "      <th>answer_from</th>\n",
       "      <th>rel_paragraphs</th>\n",
       "      <th>req_comparison</th>\n",
       "      <th>scale</th>\n",
       "    </tr>\n",
       "  </thead>\n",
       "  <tbody>\n",
       "    <tr>\n",
       "      <th>0</th>\n",
       "      <td>dd2a72ca-f65c-4673-9820-f7cefcb06ee4</td>\n",
       "      <td>1</td>\n",
       "      <td>How was internally developed software capitali...</td>\n",
       "      <td>[at cost less accumulated amortisation.]</td>\n",
       "      <td></td>\n",
       "      <td>span</td>\n",
       "      <td>text</td>\n",
       "      <td>[7]</td>\n",
       "      <td>False</td>\n",
       "      <td></td>\n",
       "    </tr>\n",
       "    <tr>\n",
       "      <th>1</th>\n",
       "      <td>d4919a15-b02b-4392-99ae-9eccd114e0ff</td>\n",
       "      <td>1</td>\n",
       "      <td>Why did the Operating revenues decreased from ...</td>\n",
       "      <td>[primarily due to decreased other operating re...</td>\n",
       "      <td></td>\n",
       "      <td>span</td>\n",
       "      <td>text</td>\n",
       "      <td>[2]</td>\n",
       "      <td>False</td>\n",
       "      <td></td>\n",
       "    </tr>\n",
       "    <tr>\n",
       "      <th>2</th>\n",
       "      <td>d6a3a306-fb34-48dc-838e-3d109f60d685</td>\n",
       "      <td>1</td>\n",
       "      <td>What led to increase in the revenue of ADG on ...</td>\n",
       "      <td>[driven by an increase in volumes of approxima...</td>\n",
       "      <td></td>\n",
       "      <td>span</td>\n",
       "      <td>text</td>\n",
       "      <td>[1]</td>\n",
       "      <td>False</td>\n",
       "      <td></td>\n",
       "    </tr>\n",
       "    <tr>\n",
       "      <th>3</th>\n",
       "      <td>6ae2c15d-9722-4ce8-8c70-0e27577d55f1</td>\n",
       "      <td>1</td>\n",
       "      <td>How were inventories valued at the lower of co...</td>\n",
       "      <td>[using the first-in, first-out method.]</td>\n",
       "      <td></td>\n",
       "      <td>span</td>\n",
       "      <td>text</td>\n",
       "      <td>[3]</td>\n",
       "      <td>False</td>\n",
       "      <td></td>\n",
       "    </tr>\n",
       "    <tr>\n",
       "      <th>4</th>\n",
       "      <td>49e19b33-4aa5-47dc-aeb1-3370f08ead0a</td>\n",
       "      <td>1</td>\n",
       "      <td>How many common shares did BCE repurchase in 2...</td>\n",
       "      <td>[3,085,697]</td>\n",
       "      <td></td>\n",
       "      <td>span</td>\n",
       "      <td>table-text</td>\n",
       "      <td>[4]</td>\n",
       "      <td>False</td>\n",
       "      <td></td>\n",
       "    </tr>\n",
       "  </tbody>\n",
       "</table>\n",
       "</div>"
      ],
      "text/plain": [
       "                                    uid  order  \\\n",
       "0  dd2a72ca-f65c-4673-9820-f7cefcb06ee4      1   \n",
       "1  d4919a15-b02b-4392-99ae-9eccd114e0ff      1   \n",
       "2  d6a3a306-fb34-48dc-838e-3d109f60d685      1   \n",
       "3  6ae2c15d-9722-4ce8-8c70-0e27577d55f1      1   \n",
       "4  49e19b33-4aa5-47dc-aeb1-3370f08ead0a      1   \n",
       "\n",
       "                                            question  \\\n",
       "0  How was internally developed software capitali...   \n",
       "1  Why did the Operating revenues decreased from ...   \n",
       "2  What led to increase in the revenue of ADG on ...   \n",
       "3  How were inventories valued at the lower of co...   \n",
       "4  How many common shares did BCE repurchase in 2...   \n",
       "\n",
       "                                              answer derivation answer_type  \\\n",
       "0           [at cost less accumulated amortisation.]                   span   \n",
       "1  [primarily due to decreased other operating re...                   span   \n",
       "2  [driven by an increase in volumes of approxima...                   span   \n",
       "3            [using the first-in, first-out method.]                   span   \n",
       "4                                        [3,085,697]                   span   \n",
       "\n",
       "  answer_from rel_paragraphs  req_comparison scale  \n",
       "0        text            [7]           False        \n",
       "1        text            [2]           False        \n",
       "2        text            [1]           False        \n",
       "3        text            [3]           False        \n",
       "4  table-text            [4]           False        "
      ]
     },
     "execution_count": 11,
     "metadata": {},
     "output_type": "execute_result"
    }
   ],
   "source": [
    "data.head()"
   ]
  },
  {
   "cell_type": "markdown",
   "metadata": {},
   "source": []
  },
  {
   "cell_type": "code",
   "execution_count": 12,
   "metadata": {},
   "outputs": [],
   "source": [
    "import numpy as np\n",
    "import pandas as pd"
   ]
  },
  {
   "cell_type": "code",
   "execution_count": null,
   "metadata": {},
   "outputs": [],
   "source": [
    "data = pd.read_json(\"../Data/manual_data_creation/data.json\")   #load the json"
   ]
  },
  {
   "cell_type": "code",
   "execution_count": 14,
   "metadata": {},
   "outputs": [
    {
     "data": {
      "text/html": [
       "<div>\n",
       "<style scoped>\n",
       "    .dataframe tbody tr th:only-of-type {\n",
       "        vertical-align: middle;\n",
       "    }\n",
       "\n",
       "    .dataframe tbody tr th {\n",
       "        vertical-align: top;\n",
       "    }\n",
       "\n",
       "    .dataframe thead th {\n",
       "        text-align: right;\n",
       "    }\n",
       "</style>\n",
       "<table border=\"1\" class=\"dataframe\">\n",
       "  <thead>\n",
       "    <tr style=\"text-align: right;\">\n",
       "      <th></th>\n",
       "      <th>table</th>\n",
       "      <th>paragraphs</th>\n",
       "      <th>questions</th>\n",
       "      <th>answer</th>\n",
       "    </tr>\n",
       "  </thead>\n",
       "  <tbody>\n",
       "    <tr>\n",
       "      <th>0</th>\n",
       "      <td>[[, 2019 %, 2018 %, 2017 %], [Weighted average...</td>\n",
       "      <td>[Actuarial assumptions, The Group’s scheme lia...</td>\n",
       "      <td>[What does the Weighted average actuarial assu...</td>\n",
       "      <td>[Rate of inflation, Rate of increase in salari...</td>\n",
       "    </tr>\n",
       "    <tr>\n",
       "      <th>1</th>\n",
       "      <td>[[, Rights and licenses, Internally generated ...</td>\n",
       "      <td>[11 Intangible assets (continued), (a) Intangi...</td>\n",
       "      <td>[How was internally developed software capital...</td>\n",
       "      <td>[at cost less accumulated amortisation.]</td>\n",
       "    </tr>\n",
       "    <tr>\n",
       "      <th>2</th>\n",
       "      <td>[[, , Years Ended December 31,, ], [, 2017, 20...</td>\n",
       "      <td>[Year Ended December 31, 2019 Compared to Year...</td>\n",
       "      <td>[Why did the Operating revenues decreased from...</td>\n",
       "      <td>[primarily due to decreased other operating re...</td>\n",
       "    </tr>\n",
       "    <tr>\n",
       "      <th>3</th>\n",
       "      <td>[[, , Years Ended December 31,, ], [, 2017, 20...</td>\n",
       "      <td>[Year Ended December 31, 2019 Compared to Year...</td>\n",
       "      <td>[Why did the Operating costs decreased from 20...</td>\n",
       "      <td>[primarily due to the decreased depreciation e...</td>\n",
       "    </tr>\n",
       "    <tr>\n",
       "      <th>4</th>\n",
       "      <td>[[For the year ended December 31:, 2019, 2018,...</td>\n",
       "      <td>[Basic earnings per share is computed on the b...</td>\n",
       "      <td>[What was the increase / (decrease) in the ave...</td>\n",
       "      <td>[23.5 million shares lower in 2019 versus 2018]</td>\n",
       "    </tr>\n",
       "    <tr>\n",
       "      <th>5</th>\n",
       "      <td>[[For the year ended December 31:, 2019, 2018,...</td>\n",
       "      <td>[Basic earnings per share is computed on the b...</td>\n",
       "      <td>[What additional charges were included in 2018?]</td>\n",
       "      <td>[Includes a charge of $2.0 billion or $2.23 of...</td>\n",
       "    </tr>\n",
       "    <tr>\n",
       "      <th>6</th>\n",
       "      <td>[[, Group, ], [, 2019, 2018], [, S$ Mil, S$ Mi...</td>\n",
       "      <td>[5. Operating Expenses, Notes: (1) Includes eq...</td>\n",
       "      <td>[What is this the topic of this note 5?]</td>\n",
       "      <td>[Operating Expenses]</td>\n",
       "    </tr>\n",
       "    <tr>\n",
       "      <th>7</th>\n",
       "      <td>[[, Group, ], [, 2019, 2018], [, S$ Mil, S$ Mi...</td>\n",
       "      <td>[5. Operating Expenses, Notes: (1) Includes eq...</td>\n",
       "      <td>[What does cost of equipment sold include?]</td>\n",
       "      <td>[Includes equipment costs related to ICT servi...</td>\n",
       "    </tr>\n",
       "    <tr>\n",
       "      <th>8</th>\n",
       "      <td>[[, Group, ], [, 2019, 2018], [, S$ Mil, S$ Mi...</td>\n",
       "      <td>[5. Operating Expenses, Notes: (1) Includes eq...</td>\n",
       "      <td>[What does selling and administrative costs in...</td>\n",
       "      <td>[Includes supplies and services, as well as re...</td>\n",
       "    </tr>\n",
       "    <tr>\n",
       "      <th>9</th>\n",
       "      <td>[[, 2019, 2018, 2017], [, S$ Mil, S$ Mil, S$ M...</td>\n",
       "      <td>[23. Associates (Cont'd), The summarised finan...</td>\n",
       "      <td>[Which associate's information does this note ...</td>\n",
       "      <td>[Intouch Holdings Public Company Limited]</td>\n",
       "    </tr>\n",
       "    <tr>\n",
       "      <th>10</th>\n",
       "      <td>[[, 2019, 2018, 2017], [, S$ Mil, S$ Mil, S$ M...</td>\n",
       "      <td>[23. Associates (Cont'd), The summarised finan...</td>\n",
       "      <td>[What information does the line item 'Others' ...</td>\n",
       "      <td>[adjustments to align the respective local acc...</td>\n",
       "    </tr>\n",
       "  </tbody>\n",
       "</table>\n",
       "</div>"
      ],
      "text/plain": [
       "                                                table  \\\n",
       "0   [[, 2019 %, 2018 %, 2017 %], [Weighted average...   \n",
       "1   [[, Rights and licenses, Internally generated ...   \n",
       "2   [[, , Years Ended December 31,, ], [, 2017, 20...   \n",
       "3   [[, , Years Ended December 31,, ], [, 2017, 20...   \n",
       "4   [[For the year ended December 31:, 2019, 2018,...   \n",
       "5   [[For the year ended December 31:, 2019, 2018,...   \n",
       "6   [[, Group, ], [, 2019, 2018], [, S$ Mil, S$ Mi...   \n",
       "7   [[, Group, ], [, 2019, 2018], [, S$ Mil, S$ Mi...   \n",
       "8   [[, Group, ], [, 2019, 2018], [, S$ Mil, S$ Mi...   \n",
       "9   [[, 2019, 2018, 2017], [, S$ Mil, S$ Mil, S$ M...   \n",
       "10  [[, 2019, 2018, 2017], [, S$ Mil, S$ Mil, S$ M...   \n",
       "\n",
       "                                           paragraphs  \\\n",
       "0   [Actuarial assumptions, The Group’s scheme lia...   \n",
       "1   [11 Intangible assets (continued), (a) Intangi...   \n",
       "2   [Year Ended December 31, 2019 Compared to Year...   \n",
       "3   [Year Ended December 31, 2019 Compared to Year...   \n",
       "4   [Basic earnings per share is computed on the b...   \n",
       "5   [Basic earnings per share is computed on the b...   \n",
       "6   [5. Operating Expenses, Notes: (1) Includes eq...   \n",
       "7   [5. Operating Expenses, Notes: (1) Includes eq...   \n",
       "8   [5. Operating Expenses, Notes: (1) Includes eq...   \n",
       "9   [23. Associates (Cont'd), The summarised finan...   \n",
       "10  [23. Associates (Cont'd), The summarised finan...   \n",
       "\n",
       "                                            questions  \\\n",
       "0   [What does the Weighted average actuarial assu...   \n",
       "1   [How was internally developed software capital...   \n",
       "2   [Why did the Operating revenues decreased from...   \n",
       "3   [Why did the Operating costs decreased from 20...   \n",
       "4   [What was the increase / (decrease) in the ave...   \n",
       "5    [What additional charges were included in 2018?]   \n",
       "6            [What is this the topic of this note 5?]   \n",
       "7         [What does cost of equipment sold include?]   \n",
       "8   [What does selling and administrative costs in...   \n",
       "9   [Which associate's information does this note ...   \n",
       "10  [What information does the line item 'Others' ...   \n",
       "\n",
       "                                               answer  \n",
       "0   [Rate of inflation, Rate of increase in salari...  \n",
       "1            [at cost less accumulated amortisation.]  \n",
       "2   [primarily due to decreased other operating re...  \n",
       "3   [primarily due to the decreased depreciation e...  \n",
       "4     [23.5 million shares lower in 2019 versus 2018]  \n",
       "5   [Includes a charge of $2.0 billion or $2.23 of...  \n",
       "6                                [Operating Expenses]  \n",
       "7   [Includes equipment costs related to ICT servi...  \n",
       "8   [Includes supplies and services, as well as re...  \n",
       "9           [Intouch Holdings Public Company Limited]  \n",
       "10  [adjustments to align the respective local acc...  "
      ]
     },
     "execution_count": 14,
     "metadata": {},
     "output_type": "execute_result"
    }
   ],
   "source": [
    "data"
   ]
  },
  {
   "cell_type": "code",
   "execution_count": 15,
   "metadata": {},
   "outputs": [],
   "source": [
    "from FinChatbot.pipeline.summarizer import get_summary"
   ]
  },
  {
   "cell_type": "code",
   "execution_count": null,
   "metadata": {},
   "outputs": [],
   "source": [
    "tables = []\n",
    "#appending the data to the tables\n",
    "for table in data[\"table\"]:   \n",
    "    tables.append(table)"
   ]
  },
  {
   "cell_type": "code",
   "execution_count": null,
   "metadata": {},
   "outputs": [],
   "source": [
    "texts = []\n",
    "#appending text\n",
    "for text in data[\"paragraphs\"]:\n",
    "    texts.append(text)"
   ]
  },
  {
   "cell_type": "code",
   "execution_count": 18,
   "metadata": {},
   "outputs": [
    {
     "data": {
      "text/plain": [
       "[[['', '2019 %', '2018 %', '2017 %'],\n",
       "  ['Weighted average actuarial assumptions used at 31 March1:', '', '', ''],\n",
       "  ['Rate of inflation2', '2.9', '2.9', '3.0'],\n",
       "  ['Rate of increase in salaries', '2.7', '2.7', '2.6'],\n",
       "  ['Discount rate', '2.3', '2.5', '2.6']],\n",
       " [['',\n",
       "   'Rights and licenses',\n",
       "   'Internally generated software',\n",
       "   'Software under development',\n",
       "   'Total'],\n",
       "  ['Movements', \"$'000\", \"$'000\", \"$'000\", \"$'000\"],\n",
       "  ['At 30 June 2019', '', '', '', ''],\n",
       "  ['Cost', '13', '12,961', '16,284', '29,259'],\n",
       "  ['Accumulated amortisation', '-', '(5,580)', '-', '(5,580)'],\n",
       "  ['Netbook amount', '13', '7,381', '16,284', '23,678'],\n",
       "  ['30 June 2018', '', '', '', ''],\n",
       "  ['Opening net book amount at 1 July 2017', '43', '442', '8,053', '8,538'],\n",
       "  ['Additions – externally acquired', '13', '-', '5,253', '5,266'],\n",
       "  ['Additions – internally developed', '-', '-', '1,256', '1,256'],\n",
       "  ['Amortisation', '(43)', '(1,746)', '-', '(1,789)'],\n",
       "  ['Transfers', '-', '7,563', '(7,563)', '-'],\n",
       "  ['Transfer between classes', '-', '744', '-', '744'],\n",
       "  ['Disposals', '-', '(618)', '(490)', '(1,108)'],\n",
       "  ['Closing net book amount', '13', '6,385', '6,509', '12,907'],\n",
       "  ['At 30 June 2018', '', '', '', ''],\n",
       "  ['Cost', '104', '9,555', '6,509', '16,168'],\n",
       "  ['Accumulated amortisation', '(91)', '(3,170)', '-', '(3,261)'],\n",
       "  ['Net book amount', '13', '6,385', '6,509', '12,907']],\n",
       " [['', '', 'Years Ended December 31,', ''],\n",
       "  ['', '2017', '2018', '2019'],\n",
       "  ['', '%', '%', '%'],\n",
       "  ['Operating revenues', '100.0', '100.0', '100.0'],\n",
       "  ['Operating costs', '(81.9)', '(84.9)', '(85.6)'],\n",
       "  ['Gross profit', '18.1', '15.1', '14.4'],\n",
       "  ['Operating expenses', '', '', ''],\n",
       "  ['Sales and marketing', '(2.8)', '(2.6)', '(2.6)'],\n",
       "  ['General and administrative', '(2.8)', '(3.2)', '(3.6)'],\n",
       "  ['Research and development', '(9.2)', '(8.6)', '(8.0)'],\n",
       "  ['Expected credit losses', '—', '(0.3)', '(0.4)'],\n",
       "  ['Subtotal', '(14.8)', '(14.7)', '(14.6)'],\n",
       "  ['Net other operating income and expenses', '1.1', '3.4', '3.5'],\n",
       "  ['Operating income', '4.4', '3.8', '3.3'],\n",
       "  ['Non-operating income and expenses', '0.7', '(2.4)', '(0.1)'],\n",
       "  ['Income from continuing operations before income tax', '5.1', '1.4', '3.2'],\n",
       "  ['Income tax benefit (expense)', '(0.6)', '0.7', '(0.1)'],\n",
       "  ['Net income', '4.5', '2.1', '3.1'],\n",
       "  ['Total other comprehensive income (loss), net of tax',\n",
       "   '(3.2)',\n",
       "   '0.6',\n",
       "   '1.9'],\n",
       "  ['Total comprehensive income', '1.3', '2.7', '5.0'],\n",
       "  ['Net income attributable to:', '', '', ''],\n",
       "  ['Stockholders of the parent', '6.5', '5.1', '5.5'],\n",
       "  ['Non-controlling interests', '(2.0)', '(3.0)', '(2.4)'],\n",
       "  ['Total comprehensive income attributable to:', '', '', ''],\n",
       "  ['Stockholders of the parent', '3.3', '5.7', '7.4'],\n",
       "  ['Non-controlling interests', '(2.0)', '(3.0)', '(2.4)']],\n",
       " [['', '', 'Years Ended December 31,', ''],\n",
       "  ['', '2017', '2018', '2019'],\n",
       "  ['', '%', '%', '%'],\n",
       "  ['Operating revenues', '100.0', '100.0', '100.0'],\n",
       "  ['Operating costs', '(81.9)', '(84.9)', '(85.6)'],\n",
       "  ['Gross profit', '18.1', '15.1', '14.4'],\n",
       "  ['Operating expenses', '', '', ''],\n",
       "  ['Sales and marketing', '(2.8)', '(2.6)', '(2.6)'],\n",
       "  ['General and administrative', '(2.8)', '(3.2)', '(3.6)'],\n",
       "  ['Research and development', '(9.2)', '(8.6)', '(8.0)'],\n",
       "  ['Expected credit losses', '—', '(0.3)', '(0.4)'],\n",
       "  ['Subtotal', '(14.8)', '(14.7)', '(14.6)'],\n",
       "  ['Net other operating income and expenses', '1.1', '3.4', '3.5'],\n",
       "  ['Operating income', '4.4', '3.8', '3.3'],\n",
       "  ['Non-operating income and expenses', '0.7', '(2.4)', '(0.1)'],\n",
       "  ['Income from continuing operations before income tax', '5.1', '1.4', '3.2'],\n",
       "  ['Income tax benefit (expense)', '(0.6)', '0.7', '(0.1)'],\n",
       "  ['Net income', '4.5', '2.1', '3.1'],\n",
       "  ['Total other comprehensive income (loss), net of tax',\n",
       "   '(3.2)',\n",
       "   '0.6',\n",
       "   '1.9'],\n",
       "  ['Total comprehensive income', '1.3', '2.7', '5.0'],\n",
       "  ['Net income attributable to:', '', '', ''],\n",
       "  ['Stockholders of the parent', '6.5', '5.1', '5.5'],\n",
       "  ['Non-controlling interests', '(2.0)', '(3.0)', '(2.4)'],\n",
       "  ['Total comprehensive income attributable to:', '', '', ''],\n",
       "  ['Stockholders of the parent', '3.3', '5.7', '7.4'],\n",
       "  ['Non-controlling interests', '(2.0)', '(3.0)', '(2.4)']],\n",
       " [['For the year ended December 31:',\n",
       "   '2019',\n",
       "   '2018',\n",
       "   'Yr.-to-Yr. Percent Change'],\n",
       "  ['Earnings per share of common stock from continuing operations',\n",
       "   '',\n",
       "   '',\n",
       "   ''],\n",
       "  ['Assuming dilution', '$10.57', '$9.51*', '11.1%'],\n",
       "  ['Basic', '$10.63', '$9.56*', '11.2%'],\n",
       "  ['Diluted operating (non-GAAP)', '$12.81', '$13.81', '(7.2)%'],\n",
       "  ['Weighted-average shares outstanding (in millions)', '', '', ''],\n",
       "  ['Assuming dilution', '892.8', '916.3', '(2.6)%'],\n",
       "  ['Basic', '887.2', '912.0', '(2.7)%']],\n",
       " [['For the year ended December 31:',\n",
       "   '2019',\n",
       "   '2018',\n",
       "   'Yr.-to-Yr. Percent Change'],\n",
       "  ['Earnings per share of common stock from continuing operations',\n",
       "   '',\n",
       "   '',\n",
       "   ''],\n",
       "  ['Assuming dilution', '$10.57', '$9.51*', '11.1%'],\n",
       "  ['Basic', '$10.63', '$9.56*', '11.2%'],\n",
       "  ['Diluted operating (non-GAAP)', '$12.81', '$13.81', '(7.2)%'],\n",
       "  ['Weighted-average shares outstanding (in millions)', '', '', ''],\n",
       "  ['Assuming dilution', '892.8', '916.3', '(2.6)%'],\n",
       "  ['Basic', '887.2', '912.0', '(2.7)%']],\n",
       " [['', 'Group', ''],\n",
       "  ['', '2019', '2018'],\n",
       "  ['', 'S$ Mil', 'S$ Mil'],\n",
       "  ['Cost of equipment sold (1)', '3,106.1', '2,696.7'],\n",
       "  ['Other cost of sales', '2,767.1', '2,499.2'],\n",
       "  ['Staff costs', '2,597.3', '2,760.1'],\n",
       "  ['Selling and administrative costs (2)', '2,472.6', '2,536.6'],\n",
       "  ['Traffic expenses', '1,573.4', '1,615.8'],\n",
       "  ['Repair and maintenance', '388.0', '367.9'],\n",
       "  ['', '12,904.5', '12,476.3']],\n",
       " [['', 'Group', ''],\n",
       "  ['', '2019', '2018'],\n",
       "  ['', 'S$ Mil', 'S$ Mil'],\n",
       "  ['Cost of equipment sold (1)', '3,106.1', '2,696.7'],\n",
       "  ['Other cost of sales', '2,767.1', '2,499.2'],\n",
       "  ['Staff costs', '2,597.3', '2,760.1'],\n",
       "  ['Selling and administrative costs (2)', '2,472.6', '2,536.6'],\n",
       "  ['Traffic expenses', '1,573.4', '1,615.8'],\n",
       "  ['Repair and maintenance', '388.0', '367.9'],\n",
       "  ['', '12,904.5', '12,476.3']],\n",
       " [['', 'Group', ''],\n",
       "  ['', '2019', '2018'],\n",
       "  ['', 'S$ Mil', 'S$ Mil'],\n",
       "  ['Cost of equipment sold (1)', '3,106.1', '2,696.7'],\n",
       "  ['Other cost of sales', '2,767.1', '2,499.2'],\n",
       "  ['Staff costs', '2,597.3', '2,760.1'],\n",
       "  ['Selling and administrative costs (2)', '2,472.6', '2,536.6'],\n",
       "  ['Traffic expenses', '1,573.4', '1,615.8'],\n",
       "  ['Repair and maintenance', '388.0', '367.9'],\n",
       "  ['', '12,904.5', '12,476.3']],\n",
       " [['', '2019', '2018', '2017'],\n",
       "  ['', 'S$ Mil', 'S$ Mil', 'S$ Mil'],\n",
       "  ['Statement of comprehensive income', '', '', ''],\n",
       "  ['Revenue', '250.1', '353.9', '144.1'],\n",
       "  ['Profit after tax', '451.7', '488.2', '166.1'],\n",
       "  ['Other comprehensive (loss)/ income', '(0.9)', '10.9', '(1.6)'],\n",
       "  ['Total comprehensive income', '450.8', '499.1', '164.5'],\n",
       "  ['Statement of financial position', '', '', ''],\n",
       "  ['Current assets', '743.1', '720.0', '701.9'],\n",
       "  ['Non-current assets', '1,532.5', '1,554.3', '1,629.3'],\n",
       "  ['Current liabilities', '(305.1)', '(444.4)', '(483.6)'],\n",
       "  ['Non-current liabilities', '(205.5)', '(313.4)', '(395.3)'],\n",
       "  ['Net assets', '1,765.0', '1,516.5', '1,452.3'],\n",
       "  ['Less: Non-controlling interests', '(304.6)', '(342.2)', '(411.6)'],\n",
       "  ['Net assets attributable to equity holders',\n",
       "   '1,460.4',\n",
       "   '1,174.3',\n",
       "   '1,040.7'],\n",
       "  ['Proportion of the Group’s ownership', '21.0%', '21.0%', '21.0%'],\n",
       "  ['Group’s share of net assets', '306.7', '246.6', '218.5'],\n",
       "  ['Goodwill and other identifiable intangible assets',\n",
       "   '1,441.7',\n",
       "   '1,417.6',\n",
       "   '1,371.7'],\n",
       "  ['Others (1)', '(46.8)', '(23.0)', '(8.4)'],\n",
       "  ['Carrying amount of the investment', '1,701.6', '1,641.2', '1,581.8'],\n",
       "  ['Other items', '', '', ''],\n",
       "  ['Group’s share of market value', '1,653.2', '1,639.6', '1,525.0'],\n",
       "  ['Dividends received during the year', '78.5', '77.8', '-']],\n",
       " [['', '2019', '2018', '2017'],\n",
       "  ['', 'S$ Mil', 'S$ Mil', 'S$ Mil'],\n",
       "  ['Statement of comprehensive income', '', '', ''],\n",
       "  ['Revenue', '250.1', '353.9', '144.1'],\n",
       "  ['Profit after tax', '451.7', '488.2', '166.1'],\n",
       "  ['Other comprehensive (loss)/ income', '(0.9)', '10.9', '(1.6)'],\n",
       "  ['Total comprehensive income', '450.8', '499.1', '164.5'],\n",
       "  ['Statement of financial position', '', '', ''],\n",
       "  ['Current assets', '743.1', '720.0', '701.9'],\n",
       "  ['Non-current assets', '1,532.5', '1,554.3', '1,629.3'],\n",
       "  ['Current liabilities', '(305.1)', '(444.4)', '(483.6)'],\n",
       "  ['Non-current liabilities', '(205.5)', '(313.4)', '(395.3)'],\n",
       "  ['Net assets', '1,765.0', '1,516.5', '1,452.3'],\n",
       "  ['Less: Non-controlling interests', '(304.6)', '(342.2)', '(411.6)'],\n",
       "  ['Net assets attributable to equity holders',\n",
       "   '1,460.4',\n",
       "   '1,174.3',\n",
       "   '1,040.7'],\n",
       "  ['Proportion of the Group’s ownership', '21.0%', '21.0%', '21.0%'],\n",
       "  ['Group’s share of net assets', '306.7', '246.6', '218.5'],\n",
       "  ['Goodwill and other identifiable intangible assets',\n",
       "   '1,441.7',\n",
       "   '1,417.6',\n",
       "   '1,371.7'],\n",
       "  ['Others (1)', '(46.8)', '(23.0)', '(8.4)'],\n",
       "  ['Carrying amount of the investment', '1,701.6', '1,641.2', '1,581.8'],\n",
       "  ['Other items', '', '', ''],\n",
       "  ['Group’s share of market value', '1,653.2', '1,639.6', '1,525.0'],\n",
       "  ['Dividends received during the year', '78.5', '77.8', '-']]]"
      ]
     },
     "execution_count": 18,
     "metadata": {},
     "output_type": "execute_result"
    }
   ],
   "source": [
    "tables"
   ]
  },
  {
   "cell_type": "code",
   "execution_count": 19,
   "metadata": {},
   "outputs": [],
   "source": [
    "table_summaries, text_summaries = get_summary(tables, texts)"
   ]
  },
  {
   "cell_type": "code",
   "execution_count": 20,
   "metadata": {},
   "outputs": [],
   "source": [
    "from langchain_community.vectorstores import Chroma\n",
    "from langchain_openai import OpenAIEmbeddings, ChatOpenAI\n",
    "from langchain_core.output_parsers import StrOutputParser\n",
    "from langchain_core.prompts import ChatPromptTemplate\n",
    "from FinChatbot.pipeline.mvr import create_multi_vector_retriever"
   ]
  },
  {
   "cell_type": "code",
   "execution_count": 21,
   "metadata": {},
   "outputs": [
    {
     "name": "stderr",
     "output_type": "stream",
     "text": [
      "C:\\Users\\rahul\\AppData\\Local\\Temp\\ipykernel_18948\\1829633486.py:1: LangChainDeprecationWarning: The class `Chroma` was deprecated in LangChain 0.2.9 and will be removed in 1.0. An updated version of the class exists in the :class:`~langchain-chroma package and should be used instead. To use it run `pip install -U :class:`~langchain-chroma` and import as `from :class:`~langchain_chroma import Chroma``.\n",
      "  vector_store = Chroma(\n"
     ]
    }
   ],
   "source": [
    "vector_store = Chroma(\n",
    "    collection_name = \"eval\",\n",
    "    embedding_function = OpenAIEmbeddings()\n",
    ")"
   ]
  },
  {
   "cell_type": "code",
   "execution_count": 22,
   "metadata": {},
   "outputs": [],
   "source": [
    "retriever = create_multi_vector_retriever(vectorstore = vector_store,\n",
    "                                          text_summaries = text_summaries,\n",
    "                                          texts = texts,\n",
    "                                          table_summaries = table_summaries,\n",
    "                                          tables = tables)"
   ]
  },
  {
   "cell_type": "code",
   "execution_count": 23,
   "metadata": {},
   "outputs": [
    {
     "data": {
      "text/plain": [
       "[['Actuarial assumptions',\n",
       "  'The Group’s scheme liabilities are measured using the projected unit credit method using the principal actuarial assumptions set out below:',\n",
       "  'Notes: 1 Figures shown represent a weighted average assumption of the individual schemes.',\n",
       "  '2 The rate of increases in pensions in payment and deferred revaluation are dependent on the rate of inflation.'],\n",
       " [['', '2019 %', '2018 %', '2017 %'],\n",
       "  ['Weighted average actuarial assumptions used at 31 March1:', '', '', ''],\n",
       "  ['Rate of inflation2', '2.9', '2.9', '3.0'],\n",
       "  ['Rate of increase in salaries', '2.7', '2.7', '2.6'],\n",
       "  ['Discount rate', '2.3', '2.5', '2.6']],\n",
       " [['For the year ended December 31:',\n",
       "   '2019',\n",
       "   '2018',\n",
       "   'Yr.-to-Yr. Percent Change'],\n",
       "  ['Earnings per share of common stock from continuing operations',\n",
       "   '',\n",
       "   '',\n",
       "   ''],\n",
       "  ['Assuming dilution', '$10.57', '$9.51*', '11.1%'],\n",
       "  ['Basic', '$10.63', '$9.56*', '11.2%'],\n",
       "  ['Diluted operating (non-GAAP)', '$12.81', '$13.81', '(7.2)%'],\n",
       "  ['Weighted-average shares outstanding (in millions)', '', '', ''],\n",
       "  ['Assuming dilution', '892.8', '916.3', '(2.6)%'],\n",
       "  ['Basic', '887.2', '912.0', '(2.7)%']],\n",
       " ['5. Operating Expenses',\n",
       "  'Notes: (1) Includes equipment costs related to ICT services.',\n",
       "  '(2) Includes supplies and services, as well as rentals of properties and mobile base stations.']]"
      ]
     },
     "execution_count": 23,
     "metadata": {},
     "output_type": "execute_result"
    }
   ],
   "source": [
    "retriever.invoke(\"What does the Weighted average actuarial assumptions consist of?\")"
   ]
  },
  {
   "cell_type": "code",
   "execution_count": 24,
   "metadata": {},
   "outputs": [],
   "source": [
    "prompt = ChatPromptTemplate.from_template(\n",
    "        \"\"\"\n",
    "\n",
    "        Current context from document:\n",
    "        {context}\n",
    "\n",
    "        Current question: {question}\n",
    "\n",
    "        Please provide a response that considers both the conversation history and the current context.\n",
    "        JUST GIVE THE ANSWER IN FEW WORDS.\n",
    "        DO NOT MAKE THINGS ON YOUR OWN.\n",
    "        \"\"\")"
   ]
  },
  {
   "cell_type": "code",
   "execution_count": 25,
   "metadata": {},
   "outputs": [],
   "source": [
    "model = ChatOpenAI(\n",
    "            temperature = 0, \n",
    "            model = \"gpt-4o-mini\"\n",
    "            )"
   ]
  },
  {
   "cell_type": "code",
   "execution_count": 26,
   "metadata": {},
   "outputs": [],
   "source": [
    "def get_response(user_input):\n",
    "    \"\"\"Generates a response using the retriever and conversation memory.\"\"\"\n",
    "    context = retriever.invoke(user_input)\n",
    "\n",
    "    full_prompt = prompt.format(\n",
    "            context = context,\n",
    "            question = user_input\n",
    "            )\n",
    "        \n",
    "    response = model.invoke(full_prompt)\n",
    "    parsed_response = StrOutputParser().invoke(response)\n",
    "\n",
    "\n",
    "    return parsed_response"
   ]
  },
  {
   "cell_type": "code",
   "execution_count": 27,
   "metadata": {},
   "outputs": [],
   "source": [
    "questions = []\n",
    "for question in data[\"questions\"]:\n",
    "    questions.append(question)"
   ]
  },
  {
   "cell_type": "code",
   "execution_count": 28,
   "metadata": {},
   "outputs": [
    {
     "data": {
      "text/plain": [
       "['Rate of inflation', 'Rate of increase in salaries', 'Discount rate']"
      ]
     },
     "execution_count": 28,
     "metadata": {},
     "output_type": "execute_result"
    }
   ],
   "source": [
    "data[\"answer\"].values[0]"
   ]
  },
  {
   "cell_type": "code",
   "execution_count": 29,
   "metadata": {},
   "outputs": [],
   "source": [
    "answers = []\n",
    "for answer in data[\"answer\"]:\n",
    "    answers.append(answer)"
   ]
  },
  {
   "cell_type": "code",
   "execution_count": 30,
   "metadata": {},
   "outputs": [
    {
     "data": {
      "text/plain": [
       "[['Rate of inflation', 'Rate of increase in salaries', 'Discount rate'],\n",
       " ['at cost less accumulated amortisation.'],\n",
       " ['primarily due to decreased other operating revenues, decreased foundry wafer sale, and 2.5% depreciation of the NTD in 2019 from 2018.'],\n",
       " ['primarily due to the decreased depreciation expense and other operating costs, which was partially offset by the increased direct material costs.'],\n",
       " ['23.5 million shares lower in 2019 versus 2018'],\n",
       " ['Includes a charge of $2.0 billion or $2.23 of basic and diluted earnings per share in 2018 associated with U.S. tax reform.'],\n",
       " ['Operating Expenses'],\n",
       " ['Includes equipment costs related to ICT services.'],\n",
       " ['Includes supplies and services, as well as rentals of properties and mobile base stations.'],\n",
       " ['Intouch Holdings Public Company Limited'],\n",
       " ['adjustments to align the respective local accounting standards to SFRS(I)']]"
      ]
     },
     "execution_count": 30,
     "metadata": {},
     "output_type": "execute_result"
    }
   ],
   "source": [
    "answers"
   ]
  },
  {
   "cell_type": "code",
   "execution_count": 31,
   "metadata": {},
   "outputs": [
    {
     "data": {
      "text/plain": [
       "['Rate of inflation', 'Rate of increase in salaries', 'Discount rate']"
      ]
     },
     "execution_count": 31,
     "metadata": {},
     "output_type": "execute_result"
    }
   ],
   "source": [
    "answers[0]"
   ]
  },
  {
   "cell_type": "code",
   "execution_count": 32,
   "metadata": {},
   "outputs": [
    {
     "data": {
      "text/plain": [
       "'What does the Weighted average actuarial assumptions consist of?'"
      ]
     },
     "execution_count": 32,
     "metadata": {},
     "output_type": "execute_result"
    }
   ],
   "source": [
    "questions[0][0]"
   ]
  },
  {
   "cell_type": "code",
   "execution_count": 33,
   "metadata": {},
   "outputs": [],
   "source": [
    "llm_asnwers = []\n",
    "for q in questions:\n",
    "    response = get_response(q[0])\n",
    "    llm_asnwers.append(response)"
   ]
  },
  {
   "cell_type": "code",
   "execution_count": null,
   "metadata": {},
   "outputs": [
    {
     "data": {
      "text/plain": [
       "['Rate of inflation, rate of increase in salaries, discount rate.',\n",
       " 'Internally developed software is capitalised at cost less accumulated amortisation.',\n",
       " 'Decreased other operating revenues, decreased foundry wafer sales, and 2.5% depreciation of the NTD.',\n",
       " 'Operating costs increased from 2018 to 2019, not decreased.',\n",
       " 'The average number of common shares outstanding assuming dilution decreased by 23.5 million shares in 2019.',\n",
       " 'Expected credit losses (0.3) and non-controlling interests (3.0).',\n",
       " 'The topic of note 5 is \"Actuarial assumptions.\"',\n",
       " 'Includes equipment costs related to ICT services.',\n",
       " 'Includes supplies and services, as well as rentals of properties and mobile base stations.',\n",
       " 'Intouch Holdings Public Company Limited',\n",
       " \"The current context does not provide information about the line item 'Others'.\"]"
      ]
     },
     "execution_count": 34,
     "metadata": {},
     "output_type": "execute_result"
    }
   ],
   "source": [
    "llm_asnwers  #printing the answers that we get from llm"
   ]
  },
  {
   "cell_type": "code",
   "execution_count": 35,
   "metadata": {},
   "outputs": [
    {
     "name": "stdout",
     "output_type": "stream",
     "text": [
      "Text pair 1:\n",
      "  ROUGE-1: Score(precision=0.0, recall=0.0, fmeasure=0.0)\n",
      "  ROUGE-2: Score(precision=0.0, recall=0.0, fmeasure=0.0)\n",
      "  ROUGE-L: Score(precision=0.0, recall=0.0, fmeasure=0.0)\n",
      "------------------------------\n",
      "Text pair 2:\n",
      "  ROUGE-1: Score(precision=0.0, recall=0.0, fmeasure=0.0)\n",
      "  ROUGE-2: Score(precision=0.0, recall=0.0, fmeasure=0.0)\n",
      "  ROUGE-L: Score(precision=0.0, recall=0.0, fmeasure=0.0)\n",
      "------------------------------\n",
      "Text pair 3:\n",
      "  ROUGE-1: Score(precision=0.024390243902439025, recall=0.09090909090909091, fmeasure=0.038461538461538464)\n",
      "  ROUGE-2: Score(precision=0.012345679012345678, recall=0.047619047619047616, fmeasure=0.019607843137254898)\n",
      "  ROUGE-L: Score(precision=0.024390243902439025, recall=0.09090909090909091, fmeasure=0.038461538461538464)\n",
      "------------------------------\n",
      "Text pair 4:\n",
      "  ROUGE-1: Score(precision=0.0, recall=0.0, fmeasure=0.0)\n",
      "  ROUGE-2: Score(precision=0.0, recall=0.0, fmeasure=0.0)\n",
      "  ROUGE-L: Score(precision=0.0, recall=0.0, fmeasure=0.0)\n",
      "------------------------------\n",
      "Text pair 5:\n",
      "  ROUGE-1: Score(precision=0.011111111111111112, recall=0.1111111111111111, fmeasure=0.020202020202020204)\n",
      "  ROUGE-2: Score(precision=0.0, recall=0.0, fmeasure=0.0)\n",
      "  ROUGE-L: Score(precision=0.011111111111111112, recall=0.1111111111111111, fmeasure=0.020202020202020204)\n",
      "------------------------------\n",
      "Text pair 6:\n",
      "  ROUGE-1: Score(precision=0.06, recall=0.12, fmeasure=0.08)\n",
      "  ROUGE-2: Score(precision=0.0, recall=0.0, fmeasure=0.0)\n",
      "  ROUGE-L: Score(precision=0.04, recall=0.08, fmeasure=0.05333333333333334)\n",
      "------------------------------\n",
      "Text pair 7:\n",
      "  ROUGE-1: Score(precision=0.0, recall=0.0, fmeasure=0.0)\n",
      "  ROUGE-2: Score(precision=0.0, recall=0.0, fmeasure=0.0)\n",
      "  ROUGE-L: Score(precision=0.0, recall=0.0, fmeasure=0.0)\n",
      "------------------------------\n",
      "Text pair 8:\n",
      "  ROUGE-1: Score(precision=0.0, recall=0.0, fmeasure=0.0)\n",
      "  ROUGE-2: Score(precision=0.0, recall=0.0, fmeasure=0.0)\n",
      "  ROUGE-L: Score(precision=0.0, recall=0.0, fmeasure=0.0)\n",
      "------------------------------\n",
      "Text pair 9:\n",
      "  ROUGE-1: Score(precision=0.0, recall=0.0, fmeasure=0.0)\n",
      "  ROUGE-2: Score(precision=0.0, recall=0.0, fmeasure=0.0)\n",
      "  ROUGE-L: Score(precision=0.0, recall=0.0, fmeasure=0.0)\n",
      "------------------------------\n",
      "Text pair 10:\n",
      "  ROUGE-1: Score(precision=0.0, recall=0.0, fmeasure=0.0)\n",
      "  ROUGE-2: Score(precision=0.0, recall=0.0, fmeasure=0.0)\n",
      "  ROUGE-L: Score(precision=0.0, recall=0.0, fmeasure=0.0)\n",
      "------------------------------\n",
      "Text pair 11:\n",
      "  ROUGE-1: Score(precision=0.015625, recall=0.09090909090909091, fmeasure=0.02666666666666667)\n",
      "  ROUGE-2: Score(precision=0.0, recall=0.0, fmeasure=0.0)\n",
      "  ROUGE-L: Score(precision=0.015625, recall=0.09090909090909091, fmeasure=0.02666666666666667)\n",
      "------------------------------\n"
     ]
    }
   ],
   "source": [
    "from rouge_score import rouge_scorer\n",
    "\n",
    "# Initialize the ROUGE scorer\n",
    "scorer = rouge_scorer.RougeScorer(['rouge1', 'rouge2', 'rougeL'], use_stemmer=True)\n",
    "\n",
    "# List to hold ROUGE scores\n",
    "rouge_scores = []\n",
    "\n",
    "# Loop over the generated and reference texts\n",
    "for generated_list, reference_list in zip(llm_asnwers, answers):\n",
    "    # Extracting strings from the lists\n",
    "    generated = ' '.join(generated_list)  # Flatten to a single string\n",
    "    reference = ' '.join(reference_list)  # Flatten to a single string\n",
    "    \n",
    "    # Calculate ROUGE scores\n",
    "    scores = scorer.score(reference, generated)\n",
    "    rouge_scores.append(scores)\n",
    "\n",
    "# Print the ROUGE scores for each pair\n",
    "for i, scores in enumerate(rouge_scores):\n",
    "    print(f\"Text pair {i + 1}:\")\n",
    "    print(f\"  ROUGE-1: {scores['rouge1']}\")\n",
    "    print(f\"  ROUGE-2: {scores['rouge2']}\")\n",
    "    print(f\"  ROUGE-L: {scores['rougeL']}\")\n",
    "    print(\"-\" * 30)"
   ]
  },
  {
   "cell_type": "code",
   "execution_count": 36,
   "metadata": {},
   "outputs": [
    {
     "data": {
      "text/plain": [
       "[['What does the Weighted average actuarial assumptions consist of?'],\n",
       " ['How was internally developed software capitalised?'],\n",
       " ['Why did the Operating revenues decreased from 2018 to 2019? '],\n",
       " ['Why did the Operating costs decreased from 2018 to 2019?'],\n",
       " ['What was the increase / (decrease) in the average number of common shares in 2019?'],\n",
       " ['What additional charges were included in 2018?'],\n",
       " ['What is this the topic of this note 5?'],\n",
       " ['What does cost of equipment sold include?'],\n",
       " ['What does selling and administrative costs include?'],\n",
       " [\"Which associate's information does this note contain?\"],\n",
       " [\"What information does the line item 'Others' relate to?\"]]"
      ]
     },
     "execution_count": 36,
     "metadata": {},
     "output_type": "execute_result"
    }
   ],
   "source": [
    "questions"
   ]
  },
  {
   "cell_type": "code",
   "execution_count": 37,
   "metadata": {},
   "outputs": [
    {
     "data": {
      "text/plain": [
       "[['Rate of inflation', 'Rate of increase in salaries', 'Discount rate'],\n",
       " ['at cost less accumulated amortisation.'],\n",
       " ['primarily due to decreased other operating revenues, decreased foundry wafer sale, and 2.5% depreciation of the NTD in 2019 from 2018.'],\n",
       " ['primarily due to the decreased depreciation expense and other operating costs, which was partially offset by the increased direct material costs.'],\n",
       " ['23.5 million shares lower in 2019 versus 2018'],\n",
       " ['Includes a charge of $2.0 billion or $2.23 of basic and diluted earnings per share in 2018 associated with U.S. tax reform.'],\n",
       " ['Operating Expenses'],\n",
       " ['Includes equipment costs related to ICT services.'],\n",
       " ['Includes supplies and services, as well as rentals of properties and mobile base stations.'],\n",
       " ['Intouch Holdings Public Company Limited'],\n",
       " ['adjustments to align the respective local accounting standards to SFRS(I)']]"
      ]
     },
     "execution_count": 37,
     "metadata": {},
     "output_type": "execute_result"
    }
   ],
   "source": [
    "answers"
   ]
  },
  {
   "cell_type": "code",
   "execution_count": 38,
   "metadata": {},
   "outputs": [
    {
     "data": {
      "text/plain": [
       "['Rate of inflation, rate of increase in salaries, discount rate.',\n",
       " 'Internally developed software is capitalised at cost less accumulated amortisation.',\n",
       " 'Decreased other operating revenues, decreased foundry wafer sales, and 2.5% depreciation of the NTD.',\n",
       " 'Operating costs increased from 2018 to 2019, not decreased.',\n",
       " 'The average number of common shares outstanding assuming dilution decreased by 23.5 million shares in 2019.',\n",
       " 'Expected credit losses (0.3) and non-controlling interests (3.0).',\n",
       " 'The topic of note 5 is \"Actuarial assumptions.\"',\n",
       " 'Includes equipment costs related to ICT services.',\n",
       " 'Includes supplies and services, as well as rentals of properties and mobile base stations.',\n",
       " 'Intouch Holdings Public Company Limited',\n",
       " \"The current context does not provide information about the line item 'Others'.\"]"
      ]
     },
     "execution_count": 38,
     "metadata": {},
     "output_type": "execute_result"
    }
   ],
   "source": [
    "llm_asnwers"
   ]
  },
  {
   "cell_type": "markdown",
   "metadata": {},
   "source": [
    "We have both asnwers and llm answers, we can compare both"
   ]
  }
 ],
 "metadata": {
  "kernelspec": {
   "display_name": ".venv",
   "language": "python",
   "name": "python3"
  },
  "language_info": {
   "codemirror_mode": {
    "name": "ipython",
    "version": 3
   },
   "file_extension": ".py",
   "mimetype": "text/x-python",
   "name": "python",
   "nbconvert_exporter": "python",
   "pygments_lexer": "ipython3",
   "version": "3.11.8"
  }
 },
 "nbformat": 4,
 "nbformat_minor": 2
}
