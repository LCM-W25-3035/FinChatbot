{
 "cells": [
  {
   "cell_type": "code",
   "execution_count": 1,
   "metadata": {},
   "outputs": [],
   "source": [
    "import numpy as np\n",
    "import pandas as pd"
   ]
  },
  {
   "cell_type": "code",
   "execution_count": 14,
   "metadata": {},
   "outputs": [],
   "source": [
    "dataset = pd.read_json(\"../Data/FinQ&A/train1.json\")"
   ]
  },
  {
   "cell_type": "code",
   "execution_count": 15,
   "metadata": {},
   "outputs": [
    {
     "data": {
      "text/html": [
       "<div>\n",
       "<style scoped>\n",
       "    .dataframe tbody tr th:only-of-type {\n",
       "        vertical-align: middle;\n",
       "    }\n",
       "\n",
       "    .dataframe tbody tr th {\n",
       "        vertical-align: top;\n",
       "    }\n",
       "\n",
       "    .dataframe thead th {\n",
       "        text-align: right;\n",
       "    }\n",
       "</style>\n",
       "<table border=\"1\" class=\"dataframe\">\n",
       "  <thead>\n",
       "    <tr style=\"text-align: right;\">\n",
       "      <th></th>\n",
       "      <th>table</th>\n",
       "      <th>paragraphs</th>\n",
       "      <th>questions</th>\n",
       "    </tr>\n",
       "  </thead>\n",
       "  <tbody>\n",
       "    <tr>\n",
       "      <th>0</th>\n",
       "      <td>{'uid': 'e78f8b29-6085-43de-b32f-be1a68641be3'...</td>\n",
       "      <td>[{'uid': '62be4f5a-1693-4e6b-8bb4-0a4e1e40b409...</td>\n",
       "      <td>[{'uid': '9c569bea-e036-4c27-8e41-82c6efab1d31...</td>\n",
       "    </tr>\n",
       "    <tr>\n",
       "      <th>1</th>\n",
       "      <td>{'uid': '98c16699-d385-4631-91de-1bc3c87f9f99'...</td>\n",
       "      <td>[{'uid': '1ef0dbdd-15d0-4577-b068-dca80af4f851...</td>\n",
       "      <td>[{'uid': 'dd2a72ca-f65c-4673-9820-f7cefcb06ee4...</td>\n",
       "    </tr>\n",
       "    <tr>\n",
       "      <th>2</th>\n",
       "      <td>{'uid': '991d23d7-f32d-4954-8e1d-87ad22470fcf'...</td>\n",
       "      <td>[{'uid': '6597634c-716e-4a2d-9a19-22f8563a0b1a...</td>\n",
       "      <td>[{'uid': '9ef99ae1-e17b-4b51-b81e-48cc48a481d1...</td>\n",
       "    </tr>\n",
       "    <tr>\n",
       "      <th>3</th>\n",
       "      <td>{'uid': '806ac467-ab50-428b-8584-baef6d6c4cee'...</td>\n",
       "      <td>[{'uid': 'bc15602d-7889-4e0e-889d-722bec1e9ead...</td>\n",
       "      <td>[{'uid': 'd4919a15-b02b-4392-99ae-9eccd114e0ff...</td>\n",
       "    </tr>\n",
       "    <tr>\n",
       "      <th>4</th>\n",
       "      <td>{'uid': '67111519-017b-4638-9a74-41eb792c2f0f'...</td>\n",
       "      <td>[{'uid': '0a92704a-5cd8-4761-8c5f-afe01f89a820...</td>\n",
       "      <td>[{'uid': 'd6a3a306-fb34-48dc-838e-3d109f60d685...</td>\n",
       "    </tr>\n",
       "  </tbody>\n",
       "</table>\n",
       "</div>"
      ],
      "text/plain": [
       "                                               table  \\\n",
       "0  {'uid': 'e78f8b29-6085-43de-b32f-be1a68641be3'...   \n",
       "1  {'uid': '98c16699-d385-4631-91de-1bc3c87f9f99'...   \n",
       "2  {'uid': '991d23d7-f32d-4954-8e1d-87ad22470fcf'...   \n",
       "3  {'uid': '806ac467-ab50-428b-8584-baef6d6c4cee'...   \n",
       "4  {'uid': '67111519-017b-4638-9a74-41eb792c2f0f'...   \n",
       "\n",
       "                                          paragraphs  \\\n",
       "0  [{'uid': '62be4f5a-1693-4e6b-8bb4-0a4e1e40b409...   \n",
       "1  [{'uid': '1ef0dbdd-15d0-4577-b068-dca80af4f851...   \n",
       "2  [{'uid': '6597634c-716e-4a2d-9a19-22f8563a0b1a...   \n",
       "3  [{'uid': 'bc15602d-7889-4e0e-889d-722bec1e9ead...   \n",
       "4  [{'uid': '0a92704a-5cd8-4761-8c5f-afe01f89a820...   \n",
       "\n",
       "                                           questions  \n",
       "0  [{'uid': '9c569bea-e036-4c27-8e41-82c6efab1d31...  \n",
       "1  [{'uid': 'dd2a72ca-f65c-4673-9820-f7cefcb06ee4...  \n",
       "2  [{'uid': '9ef99ae1-e17b-4b51-b81e-48cc48a481d1...  \n",
       "3  [{'uid': 'd4919a15-b02b-4392-99ae-9eccd114e0ff...  \n",
       "4  [{'uid': 'd6a3a306-fb34-48dc-838e-3d109f60d685...  "
      ]
     },
     "execution_count": 15,
     "metadata": {},
     "output_type": "execute_result"
    }
   ],
   "source": [
    "dataset.head()"
   ]
  },
  {
   "cell_type": "code",
   "execution_count": 21,
   "metadata": {},
   "outputs": [
    {
     "data": {
      "text/plain": [
       "0       [{'uid': '9c569bea-e036-4c27-8e41-82c6efab1d31...\n",
       "1       [{'uid': 'dd2a72ca-f65c-4673-9820-f7cefcb06ee4...\n",
       "2       [{'uid': '9ef99ae1-e17b-4b51-b81e-48cc48a481d1...\n",
       "3       [{'uid': 'd4919a15-b02b-4392-99ae-9eccd114e0ff...\n",
       "4       [{'uid': 'd6a3a306-fb34-48dc-838e-3d109f60d685...\n",
       "                              ...                        \n",
       "2196    [{'uid': '1ad41c0d-3cd2-46ad-ab00-d5b4a509fbd0...\n",
       "2197    [{'uid': 'fbf8835f-8859-4d39-b970-0df9427b0568...\n",
       "2198    [{'uid': '35db303f-13aa-43d6-b157-82671b75a7b5...\n",
       "2199    [{'uid': '2a8be598-f2a7-4fa7-b6e2-b9742f4b5e4f...\n",
       "2200    [{'uid': '69b23654-bdc4-41ad-af90-5e60ffc0461c...\n",
       "Name: questions, Length: 2201, dtype: object"
      ]
     },
     "execution_count": 21,
     "metadata": {},
     "output_type": "execute_result"
    }
   ],
   "source": [
    "dataset[\"questions\"]"
   ]
  },
  {
   "cell_type": "code",
   "execution_count": 22,
   "metadata": {},
   "outputs": [
    {
     "data": {
      "text/plain": [
       "[{'uid': '9c569bea-e036-4c27-8e41-82c6efab1d31',\n",
       "  'order': 1,\n",
       "  'question': 'What does the Weighted average actuarial assumptions consist of?',\n",
       "  'answer': ['Rate of inflation',\n",
       "   'Rate of increase in salaries',\n",
       "   'Discount rate'],\n",
       "  'derivation': '',\n",
       "  'answer_type': 'multi-span',\n",
       "  'answer_from': 'table',\n",
       "  'rel_paragraphs': [],\n",
       "  'req_comparison': False,\n",
       "  'scale': ''},\n",
       " {'uid': '83dcc128-9777-4ae2-ba55-50162ac43257',\n",
       "  'order': 2,\n",
       "  'question': 'How much is the 2019 rate of inflation?',\n",
       "  'answer': ['2.9'],\n",
       "  'derivation': '',\n",
       "  'answer_type': 'span',\n",
       "  'answer_from': 'table',\n",
       "  'rel_paragraphs': [],\n",
       "  'req_comparison': False,\n",
       "  'scale': 'percent'},\n",
       " {'uid': '0384152d-1f9f-4b12-85a9-2ca5e1c97682',\n",
       "  'order': 3,\n",
       "  'question': 'How much is the 2018 rate of inflation?',\n",
       "  'answer': ['2.9'],\n",
       "  'derivation': '',\n",
       "  'answer_type': 'span',\n",
       "  'answer_from': 'table',\n",
       "  'rel_paragraphs': [],\n",
       "  'req_comparison': False,\n",
       "  'scale': 'percent'},\n",
       " {'uid': 'dbee8930-0110-41c7-95fe-0178ddf4f841',\n",
       "  'order': 4,\n",
       "  'question': 'What is the 2019 average rate of inflation?',\n",
       "  'answer': 2.9,\n",
       "  'derivation': '(2.9+2.9)/2',\n",
       "  'answer_type': 'arithmetic',\n",
       "  'answer_from': 'table',\n",
       "  'rel_paragraphs': [],\n",
       "  'req_comparison': False,\n",
       "  'scale': 'percent'},\n",
       " {'uid': '1665b441-93e5-481d-b0b4-2d28ce70e1a8',\n",
       "  'order': 5,\n",
       "  'question': 'What is the 2019 average rate of increase in salaries?',\n",
       "  'answer': 2.7,\n",
       "  'derivation': '(2.7+2.7)/2',\n",
       "  'answer_type': 'arithmetic',\n",
       "  'answer_from': 'table',\n",
       "  'rel_paragraphs': [],\n",
       "  'req_comparison': False,\n",
       "  'scale': 'percent'},\n",
       " {'uid': '2cec8a99-3a83-409b-886b-dbb65a05fb25',\n",
       "  'order': 6,\n",
       "  'question': 'What is the difference between 2019 average rate of inflation and 2019 average rate of increase in salaries?',\n",
       "  'answer': 0.2,\n",
       "  'derivation': '[(2.9+2.9)/2] - [(2.7+2.7)/2]',\n",
       "  'answer_type': 'arithmetic',\n",
       "  'answer_from': 'table',\n",
       "  'rel_paragraphs': [],\n",
       "  'req_comparison': False,\n",
       "  'scale': 'percent'}]"
      ]
     },
     "execution_count": 22,
     "metadata": {},
     "output_type": "execute_result"
    }
   ],
   "source": [
    "dataset[\"questions\"].values[0]"
   ]
  },
  {
   "cell_type": "code",
   "execution_count": 23,
   "metadata": {},
   "outputs": [
    {
     "data": {
      "text/plain": [
       "{'uid': '9c569bea-e036-4c27-8e41-82c6efab1d31',\n",
       " 'order': 1,\n",
       " 'question': 'What does the Weighted average actuarial assumptions consist of?',\n",
       " 'answer': ['Rate of inflation',\n",
       "  'Rate of increase in salaries',\n",
       "  'Discount rate'],\n",
       " 'derivation': '',\n",
       " 'answer_type': 'multi-span',\n",
       " 'answer_from': 'table',\n",
       " 'rel_paragraphs': [],\n",
       " 'req_comparison': False,\n",
       " 'scale': ''}"
      ]
     },
     "execution_count": 23,
     "metadata": {},
     "output_type": "execute_result"
    }
   ],
   "source": [
    "dataset[\"questions\"].values[0][0]"
   ]
  },
  {
   "cell_type": "code",
   "execution_count": 20,
   "metadata": {},
   "outputs": [
    {
     "data": {
      "text/plain": [
       "'multi-span'"
      ]
     },
     "execution_count": 20,
     "metadata": {},
     "output_type": "execute_result"
    }
   ],
   "source": [
    "dataset[\"questions\"].values[0][0][\"answer_type\"]"
   ]
  },
  {
   "cell_type": "code",
   "execution_count": 38,
   "metadata": {},
   "outputs": [],
   "source": [
    "span_questions = []\n",
    "\n",
    "for i in range(len(dataset)):\n",
    "    if dataset[\"questions\"].values[i][0][\"answer_type\"] == \"span\":\n",
    "        span_questions.append(dataset[\"questions\"].values[i][0])"
   ]
  },
  {
   "cell_type": "code",
   "execution_count": 39,
   "metadata": {},
   "outputs": [
    {
     "data": {
      "text/plain": [
       "1711"
      ]
     },
     "execution_count": 39,
     "metadata": {},
     "output_type": "execute_result"
    }
   ],
   "source": [
    "len(span_questions)"
   ]
  },
  {
   "cell_type": "code",
   "execution_count": 40,
   "metadata": {},
   "outputs": [],
   "source": [
    "data = pd.DataFrame(span_questions)"
   ]
  },
  {
   "cell_type": "code",
   "execution_count": 42,
   "metadata": {},
   "outputs": [
    {
     "data": {
      "text/html": [
       "<div>\n",
       "<style scoped>\n",
       "    .dataframe tbody tr th:only-of-type {\n",
       "        vertical-align: middle;\n",
       "    }\n",
       "\n",
       "    .dataframe tbody tr th {\n",
       "        vertical-align: top;\n",
       "    }\n",
       "\n",
       "    .dataframe thead th {\n",
       "        text-align: right;\n",
       "    }\n",
       "</style>\n",
       "<table border=\"1\" class=\"dataframe\">\n",
       "  <thead>\n",
       "    <tr style=\"text-align: right;\">\n",
       "      <th></th>\n",
       "      <th>uid</th>\n",
       "      <th>order</th>\n",
       "      <th>question</th>\n",
       "      <th>answer</th>\n",
       "      <th>derivation</th>\n",
       "      <th>answer_type</th>\n",
       "      <th>answer_from</th>\n",
       "      <th>rel_paragraphs</th>\n",
       "      <th>req_comparison</th>\n",
       "      <th>scale</th>\n",
       "    </tr>\n",
       "  </thead>\n",
       "  <tbody>\n",
       "    <tr>\n",
       "      <th>0</th>\n",
       "      <td>dd2a72ca-f65c-4673-9820-f7cefcb06ee4</td>\n",
       "      <td>1</td>\n",
       "      <td>How was internally developed software capitali...</td>\n",
       "      <td>[at cost less accumulated amortisation.]</td>\n",
       "      <td></td>\n",
       "      <td>span</td>\n",
       "      <td>text</td>\n",
       "      <td>[7]</td>\n",
       "      <td>False</td>\n",
       "      <td></td>\n",
       "    </tr>\n",
       "    <tr>\n",
       "      <th>1</th>\n",
       "      <td>d4919a15-b02b-4392-99ae-9eccd114e0ff</td>\n",
       "      <td>1</td>\n",
       "      <td>Why did the Operating revenues decreased from ...</td>\n",
       "      <td>[primarily due to decreased other operating re...</td>\n",
       "      <td></td>\n",
       "      <td>span</td>\n",
       "      <td>text</td>\n",
       "      <td>[2]</td>\n",
       "      <td>False</td>\n",
       "      <td></td>\n",
       "    </tr>\n",
       "    <tr>\n",
       "      <th>2</th>\n",
       "      <td>d6a3a306-fb34-48dc-838e-3d109f60d685</td>\n",
       "      <td>1</td>\n",
       "      <td>What led to increase in the revenue of ADG on ...</td>\n",
       "      <td>[driven by an increase in volumes of approxima...</td>\n",
       "      <td></td>\n",
       "      <td>span</td>\n",
       "      <td>text</td>\n",
       "      <td>[1]</td>\n",
       "      <td>False</td>\n",
       "      <td></td>\n",
       "    </tr>\n",
       "    <tr>\n",
       "      <th>3</th>\n",
       "      <td>6ae2c15d-9722-4ce8-8c70-0e27577d55f1</td>\n",
       "      <td>1</td>\n",
       "      <td>How were inventories valued at the lower of co...</td>\n",
       "      <td>[using the first-in, first-out method.]</td>\n",
       "      <td></td>\n",
       "      <td>span</td>\n",
       "      <td>text</td>\n",
       "      <td>[3]</td>\n",
       "      <td>False</td>\n",
       "      <td></td>\n",
       "    </tr>\n",
       "    <tr>\n",
       "      <th>4</th>\n",
       "      <td>49e19b33-4aa5-47dc-aeb1-3370f08ead0a</td>\n",
       "      <td>1</td>\n",
       "      <td>How many common shares did BCE repurchase in 2...</td>\n",
       "      <td>[3,085,697]</td>\n",
       "      <td></td>\n",
       "      <td>span</td>\n",
       "      <td>table-text</td>\n",
       "      <td>[4]</td>\n",
       "      <td>False</td>\n",
       "      <td></td>\n",
       "    </tr>\n",
       "  </tbody>\n",
       "</table>\n",
       "</div>"
      ],
      "text/plain": [
       "                                    uid  order  \\\n",
       "0  dd2a72ca-f65c-4673-9820-f7cefcb06ee4      1   \n",
       "1  d4919a15-b02b-4392-99ae-9eccd114e0ff      1   \n",
       "2  d6a3a306-fb34-48dc-838e-3d109f60d685      1   \n",
       "3  6ae2c15d-9722-4ce8-8c70-0e27577d55f1      1   \n",
       "4  49e19b33-4aa5-47dc-aeb1-3370f08ead0a      1   \n",
       "\n",
       "                                            question  \\\n",
       "0  How was internally developed software capitali...   \n",
       "1  Why did the Operating revenues decreased from ...   \n",
       "2  What led to increase in the revenue of ADG on ...   \n",
       "3  How were inventories valued at the lower of co...   \n",
       "4  How many common shares did BCE repurchase in 2...   \n",
       "\n",
       "                                              answer derivation answer_type  \\\n",
       "0           [at cost less accumulated amortisation.]                   span   \n",
       "1  [primarily due to decreased other operating re...                   span   \n",
       "2  [driven by an increase in volumes of approxima...                   span   \n",
       "3            [using the first-in, first-out method.]                   span   \n",
       "4                                        [3,085,697]                   span   \n",
       "\n",
       "  answer_from rel_paragraphs  req_comparison scale  \n",
       "0        text            [7]           False        \n",
       "1        text            [2]           False        \n",
       "2        text            [1]           False        \n",
       "3        text            [3]           False        \n",
       "4  table-text            [4]           False        "
      ]
     },
     "execution_count": 42,
     "metadata": {},
     "output_type": "execute_result"
    }
   ],
   "source": [
    "data.head()"
   ]
  },
  {
   "cell_type": "markdown",
   "metadata": {},
   "source": []
  },
  {
   "cell_type": "code",
   "execution_count": 1,
   "metadata": {},
   "outputs": [],
   "source": [
    "import numpy as np\n",
    "import pandas as pd"
   ]
  },
  {
   "cell_type": "code",
   "execution_count": 2,
   "metadata": {},
   "outputs": [],
   "source": [
    "data = pd.read_json(\"../Data/manual_data_creation/data.json\")"
   ]
  },
  {
   "cell_type": "code",
   "execution_count": 3,
   "metadata": {},
   "outputs": [
    {
     "data": {
      "text/html": [
       "<div>\n",
       "<style scoped>\n",
       "    .dataframe tbody tr th:only-of-type {\n",
       "        vertical-align: middle;\n",
       "    }\n",
       "\n",
       "    .dataframe tbody tr th {\n",
       "        vertical-align: top;\n",
       "    }\n",
       "\n",
       "    .dataframe thead th {\n",
       "        text-align: right;\n",
       "    }\n",
       "</style>\n",
       "<table border=\"1\" class=\"dataframe\">\n",
       "  <thead>\n",
       "    <tr style=\"text-align: right;\">\n",
       "      <th></th>\n",
       "      <th>table</th>\n",
       "      <th>paragraphs</th>\n",
       "      <th>questions</th>\n",
       "      <th>answer</th>\n",
       "    </tr>\n",
       "  </thead>\n",
       "  <tbody>\n",
       "    <tr>\n",
       "      <th>0</th>\n",
       "      <td>[[, 2019 %, 2018 %, 2017 %], [Weighted average...</td>\n",
       "      <td>[Actuarial assumptions, The Group’s scheme lia...</td>\n",
       "      <td>[What does the Weighted average actuarial assu...</td>\n",
       "      <td>[Rate of inflation, Rate of increase in salari...</td>\n",
       "    </tr>\n",
       "    <tr>\n",
       "      <th>1</th>\n",
       "      <td>[[, 2019 %, 2018 %, 2017 %], [Weighted average...</td>\n",
       "      <td>[Actuarial assumptions, The Group’s scheme lia...</td>\n",
       "      <td>[How much is the 2019 rate of inflation?]</td>\n",
       "      <td>[2.9]</td>\n",
       "    </tr>\n",
       "    <tr>\n",
       "      <th>2</th>\n",
       "      <td>[[, Rights and licenses, Internally generated ...</td>\n",
       "      <td>[11 Intangible assets (continued), (a) Intangi...</td>\n",
       "      <td>[How was internally developed software capital...</td>\n",
       "      <td>[at cost less accumulated amortisation.]</td>\n",
       "    </tr>\n",
       "    <tr>\n",
       "      <th>3</th>\n",
       "      <td>[[, Rights and licenses, Internally generated ...</td>\n",
       "      <td>[11 Intangible assets (continued), (a) Intangi...</td>\n",
       "      <td>[How much was the closing net book amount for ...</td>\n",
       "      <td>[16,284]</td>\n",
       "    </tr>\n",
       "    <tr>\n",
       "      <th>4</th>\n",
       "      <td>[[, Rights and licenses, Internally generated ...</td>\n",
       "      <td>[11 Intangible assets (continued), (a) Intangi...</td>\n",
       "      <td>[What was the total cost for 2019?]</td>\n",
       "      <td>[29,259]</td>\n",
       "    </tr>\n",
       "    <tr>\n",
       "      <th>5</th>\n",
       "      <td>[[, , 2019, , 2018], [In thousands, $, %, $, %...</td>\n",
       "      <td>[Our product categories are:, Drinkable Kefir,...</td>\n",
       "      <td>[What is net sales from cheese in 2018 and 201...</td>\n",
       "      <td>[11,486, 11,459]</td>\n",
       "    </tr>\n",
       "    <tr>\n",
       "      <th>6</th>\n",
       "      <td>[[, , 2019, , 2018], [In thousands, $, %, $, %...</td>\n",
       "      <td>[Our product categories are:, Drinkable Kefir,...</td>\n",
       "      <td>[What is net sales from cream and other in 201...</td>\n",
       "      <td>[5,276, 4,228]</td>\n",
       "    </tr>\n",
       "    <tr>\n",
       "      <th>7</th>\n",
       "      <td>[[, , 2019, , 2018], [In thousands, $, %, $, %...</td>\n",
       "      <td>[Our product categories are:, Drinkable Kefir,...</td>\n",
       "      <td>[What is net sales from ProBugs Kefir in 2018 ...</td>\n",
       "      <td>[2,795, 2,780]</td>\n",
       "    </tr>\n",
       "    <tr>\n",
       "      <th>8</th>\n",
       "      <td>[[, , Years Ended December 31,, ], [, 2017, 20...</td>\n",
       "      <td>[Year Ended December 31, 2019 Compared to Year...</td>\n",
       "      <td>[Why did the Operating revenues decreased from...</td>\n",
       "      <td>[primarily due to decreased other operating re...</td>\n",
       "    </tr>\n",
       "    <tr>\n",
       "      <th>9</th>\n",
       "      <td>[[, , Years Ended December 31,, ], [, 2017, 20...</td>\n",
       "      <td>[Year Ended December 31, 2019 Compared to Year...</td>\n",
       "      <td>[Why did the Operating costs decreased from 20...</td>\n",
       "      <td>[primarily due to the decreased depreciation e...</td>\n",
       "    </tr>\n",
       "  </tbody>\n",
       "</table>\n",
       "</div>"
      ],
      "text/plain": [
       "                                               table  \\\n",
       "0  [[, 2019 %, 2018 %, 2017 %], [Weighted average...   \n",
       "1  [[, 2019 %, 2018 %, 2017 %], [Weighted average...   \n",
       "2  [[, Rights and licenses, Internally generated ...   \n",
       "3  [[, Rights and licenses, Internally generated ...   \n",
       "4  [[, Rights and licenses, Internally generated ...   \n",
       "5  [[, , 2019, , 2018], [In thousands, $, %, $, %...   \n",
       "6  [[, , 2019, , 2018], [In thousands, $, %, $, %...   \n",
       "7  [[, , 2019, , 2018], [In thousands, $, %, $, %...   \n",
       "8  [[, , Years Ended December 31,, ], [, 2017, 20...   \n",
       "9  [[, , Years Ended December 31,, ], [, 2017, 20...   \n",
       "\n",
       "                                          paragraphs  \\\n",
       "0  [Actuarial assumptions, The Group’s scheme lia...   \n",
       "1  [Actuarial assumptions, The Group’s scheme lia...   \n",
       "2  [11 Intangible assets (continued), (a) Intangi...   \n",
       "3  [11 Intangible assets (continued), (a) Intangi...   \n",
       "4  [11 Intangible assets (continued), (a) Intangi...   \n",
       "5  [Our product categories are:, Drinkable Kefir,...   \n",
       "6  [Our product categories are:, Drinkable Kefir,...   \n",
       "7  [Our product categories are:, Drinkable Kefir,...   \n",
       "8  [Year Ended December 31, 2019 Compared to Year...   \n",
       "9  [Year Ended December 31, 2019 Compared to Year...   \n",
       "\n",
       "                                           questions  \\\n",
       "0  [What does the Weighted average actuarial assu...   \n",
       "1          [How much is the 2019 rate of inflation?]   \n",
       "2  [How was internally developed software capital...   \n",
       "3  [How much was the closing net book amount for ...   \n",
       "4                [What was the total cost for 2019?]   \n",
       "5  [What is net sales from cheese in 2018 and 201...   \n",
       "6  [What is net sales from cream and other in 201...   \n",
       "7  [What is net sales from ProBugs Kefir in 2018 ...   \n",
       "8  [Why did the Operating revenues decreased from...   \n",
       "9  [Why did the Operating costs decreased from 20...   \n",
       "\n",
       "                                              answer  \n",
       "0  [Rate of inflation, Rate of increase in salari...  \n",
       "1                                              [2.9]  \n",
       "2           [at cost less accumulated amortisation.]  \n",
       "3                                           [16,284]  \n",
       "4                                           [29,259]  \n",
       "5                                   [11,486, 11,459]  \n",
       "6                                     [5,276, 4,228]  \n",
       "7                                     [2,795, 2,780]  \n",
       "8  [primarily due to decreased other operating re...  \n",
       "9  [primarily due to the decreased depreciation e...  "
      ]
     },
     "execution_count": 3,
     "metadata": {},
     "output_type": "execute_result"
    }
   ],
   "source": [
    "data"
   ]
  },
  {
   "cell_type": "code",
   "execution_count": 4,
   "metadata": {},
   "outputs": [],
   "source": [
    "from FinChatbot.pipeline.summarizer import get_summary"
   ]
  },
  {
   "cell_type": "code",
   "execution_count": 5,
   "metadata": {},
   "outputs": [],
   "source": [
    "tables = []\n",
    "for table in data[\"table\"]:\n",
    "    tables.append(table)"
   ]
  },
  {
   "cell_type": "code",
   "execution_count": 6,
   "metadata": {},
   "outputs": [],
   "source": [
    "texts = []\n",
    "for text in data[\"paragraphs\"]:\n",
    "    texts.append(text)"
   ]
  },
  {
   "cell_type": "code",
   "execution_count": 9,
   "metadata": {},
   "outputs": [
    {
     "data": {
      "text/plain": [
       "[[['', '2019 %', '2018 %', '2017 %'],\n",
       "  ['Weighted average actuarial assumptions used at 31 March1:', '', '', ''],\n",
       "  ['Rate of inflation2', '2.9', '2.9', '3.0'],\n",
       "  ['Rate of increase in salaries', '2.7', '2.7', '2.6'],\n",
       "  ['Discount rate', '2.3', '2.5', '2.6']],\n",
       " [['', '2019 %', '2018 %', '2017 %'],\n",
       "  ['Weighted average actuarial assumptions used at 31 March1:', '', '', ''],\n",
       "  ['Rate of inflation2', '2.9', '2.9', '3.0'],\n",
       "  ['Rate of increase in salaries', '2.7', '2.7', '2.6'],\n",
       "  ['Discount rate', '2.3', '2.5', '2.6']],\n",
       " [['',\n",
       "   'Rights and licenses',\n",
       "   'Internally generated software',\n",
       "   'Software under development',\n",
       "   'Total'],\n",
       "  ['Movements', \"$'000\", \"$'000\", \"$'000\", \"$'000\"],\n",
       "  ['At 30 June 2019', '', '', '', ''],\n",
       "  ['Cost', '13', '12,961', '16,284', '29,259'],\n",
       "  ['Accumulated amortisation', '-', '(5,580)', '-', '(5,580)'],\n",
       "  ['Netbook amount', '13', '7,381', '16,284', '23,678'],\n",
       "  ['30 June 2018', '', '', '', ''],\n",
       "  ['Opening net book amount at 1 July 2017', '43', '442', '8,053', '8,538'],\n",
       "  ['Additions – externally acquired', '13', '-', '5,253', '5,266'],\n",
       "  ['Additions – internally developed', '-', '-', '1,256', '1,256'],\n",
       "  ['Amortisation', '(43)', '(1,746)', '-', '(1,789)'],\n",
       "  ['Transfers', '-', '7,563', '(7,563)', '-'],\n",
       "  ['Transfer between classes', '-', '744', '-', '744'],\n",
       "  ['Disposals', '-', '(618)', '(490)', '(1,108)'],\n",
       "  ['Closing net book amount', '13', '6,385', '6,509', '12,907'],\n",
       "  ['At 30 June 2018', '', '', '', ''],\n",
       "  ['Cost', '104', '9,555', '6,509', '16,168'],\n",
       "  ['Accumulated amortisation', '(91)', '(3,170)', '-', '(3,261)'],\n",
       "  ['Net book amount', '13', '6,385', '6,509', '12,907']],\n",
       " [['',\n",
       "   'Rights and licenses',\n",
       "   'Internally generated software',\n",
       "   'Software under development',\n",
       "   'Total'],\n",
       "  ['Movements', \"$'000\", \"$'000\", \"$'000\", \"$'000\"],\n",
       "  ['At 30 June 2019', '', '', '', ''],\n",
       "  ['Cost', '13', '12,961', '16,284', '29,259'],\n",
       "  ['Accumulated amortisation', '-', '(5,580)', '-', '(5,580)'],\n",
       "  ['Netbook amount', '13', '7,381', '16,284', '23,678'],\n",
       "  ['30 June 2018', '', '', '', ''],\n",
       "  ['Opening net book amount at 1 July 2017', '43', '442', '8,053', '8,538'],\n",
       "  ['Additions – externally acquired', '13', '-', '5,253', '5,266'],\n",
       "  ['Additions – internally developed', '-', '-', '1,256', '1,256'],\n",
       "  ['Amortisation', '(43)', '(1,746)', '-', '(1,789)'],\n",
       "  ['Transfers', '-', '7,563', '(7,563)', '-'],\n",
       "  ['Transfer between classes', '-', '744', '-', '744'],\n",
       "  ['Disposals', '-', '(618)', '(490)', '(1,108)'],\n",
       "  ['Closing net book amount', '13', '6,385', '6,509', '12,907'],\n",
       "  ['At 30 June 2018', '', '', '', ''],\n",
       "  ['Cost', '104', '9,555', '6,509', '16,168'],\n",
       "  ['Accumulated amortisation', '(91)', '(3,170)', '-', '(3,261)'],\n",
       "  ['Net book amount', '13', '6,385', '6,509', '12,907']],\n",
       " [['',\n",
       "   'Rights and licenses',\n",
       "   'Internally generated software',\n",
       "   'Software under development',\n",
       "   'Total'],\n",
       "  ['Movements', \"$'000\", \"$'000\", \"$'000\", \"$'000\"],\n",
       "  ['At 30 June 2019', '', '', '', ''],\n",
       "  ['Cost', '13', '12,961', '16,284', '29,259'],\n",
       "  ['Accumulated amortisation', '-', '(5,580)', '-', '(5,580)'],\n",
       "  ['Netbook amount', '13', '7,381', '16,284', '23,678'],\n",
       "  ['30 June 2018', '', '', '', ''],\n",
       "  ['Opening net book amount at 1 July 2017', '43', '442', '8,053', '8,538'],\n",
       "  ['Additions – externally acquired', '13', '-', '5,253', '5,266'],\n",
       "  ['Additions – internally developed', '-', '-', '1,256', '1,256'],\n",
       "  ['Amortisation', '(43)', '(1,746)', '-', '(1,789)'],\n",
       "  ['Transfers', '-', '7,563', '(7,563)', '-'],\n",
       "  ['Transfer between classes', '-', '744', '-', '744'],\n",
       "  ['Disposals', '-', '(618)', '(490)', '(1,108)'],\n",
       "  ['Closing net book amount', '13', '6,385', '6,509', '12,907'],\n",
       "  ['At 30 June 2018', '', '', '', ''],\n",
       "  ['Cost', '104', '9,555', '6,509', '16,168'],\n",
       "  ['Accumulated amortisation', '(91)', '(3,170)', '-', '(3,261)'],\n",
       "  ['Net book amount', '13', '6,385', '6,509', '12,907']],\n",
       " [['', '', '2019', '', '2018'],\n",
       "  ['In thousands', '$', '%', '$', '%'],\n",
       "  ['Drinkable Kefir other than ProBugs', '$ 71,822', '77%', '$ 78,523', '76%'],\n",
       "  ['Cheese', '11,459', '12%', '11,486', '11%'],\n",
       "  ['Cream and other', '4,228', '4%', '5,276', '5%'],\n",
       "  ['ProBugs Kefir', '2,780', '3%', '2,795', '3%'],\n",
       "  ['Other dairy', '1,756', '2%', '3,836', '4%'],\n",
       "  ['Frozen Kefir (a)', '1,617', '2%', '1,434', '1%'],\n",
       "  ['Net Sales', '$ 93,662', '100%', '$ 103,350', '100%']],\n",
       " [['', '', '2019', '', '2018'],\n",
       "  ['In thousands', '$', '%', '$', '%'],\n",
       "  ['Drinkable Kefir other than ProBugs', '$ 71,822', '77%', '$ 78,523', '76%'],\n",
       "  ['Cheese', '11,459', '12%', '11,486', '11%'],\n",
       "  ['Cream and other', '4,228', '4%', '5,276', '5%'],\n",
       "  ['ProBugs Kefir', '2,780', '3%', '2,795', '3%'],\n",
       "  ['Other dairy', '1,756', '2%', '3,836', '4%'],\n",
       "  ['Frozen Kefir (a)', '1,617', '2%', '1,434', '1%'],\n",
       "  ['Net Sales', '$ 93,662', '100%', '$ 103,350', '100%']],\n",
       " [['', '', '2019', '', '2018'],\n",
       "  ['In thousands', '$', '%', '$', '%'],\n",
       "  ['Drinkable Kefir other than ProBugs', '$ 71,822', '77%', '$ 78,523', '76%'],\n",
       "  ['Cheese', '11,459', '12%', '11,486', '11%'],\n",
       "  ['Cream and other', '4,228', '4%', '5,276', '5%'],\n",
       "  ['ProBugs Kefir', '2,780', '3%', '2,795', '3%'],\n",
       "  ['Other dairy', '1,756', '2%', '3,836', '4%'],\n",
       "  ['Frozen Kefir (a)', '1,617', '2%', '1,434', '1%'],\n",
       "  ['Net Sales', '$ 93,662', '100%', '$ 103,350', '100%']],\n",
       " [['', '', 'Years Ended December 31,', ''],\n",
       "  ['', '2017', '2018', '2019'],\n",
       "  ['', '%', '%', '%'],\n",
       "  ['Operating revenues', '100.0', '100.0', '100.0'],\n",
       "  ['Operating costs', '(81.9)', '(84.9)', '(85.6)'],\n",
       "  ['Gross profit', '18.1', '15.1', '14.4'],\n",
       "  ['Operating expenses', '', '', ''],\n",
       "  ['Sales and marketing', '(2.8)', '(2.6)', '(2.6)'],\n",
       "  ['General and administrative', '(2.8)', '(3.2)', '(3.6)'],\n",
       "  ['Research and development', '(9.2)', '(8.6)', '(8.0)'],\n",
       "  ['Expected credit losses', '—', '(0.3)', '(0.4)'],\n",
       "  ['Subtotal', '(14.8)', '(14.7)', '(14.6)'],\n",
       "  ['Net other operating income and expenses', '1.1', '3.4', '3.5'],\n",
       "  ['Operating income', '4.4', '3.8', '3.3'],\n",
       "  ['Non-operating income and expenses', '0.7', '(2.4)', '(0.1)'],\n",
       "  ['Income from continuing operations before income tax', '5.1', '1.4', '3.2'],\n",
       "  ['Income tax benefit (expense)', '(0.6)', '0.7', '(0.1)'],\n",
       "  ['Net income', '4.5', '2.1', '3.1'],\n",
       "  ['Total other comprehensive income (loss), net of tax',\n",
       "   '(3.2)',\n",
       "   '0.6',\n",
       "   '1.9'],\n",
       "  ['Total comprehensive income', '1.3', '2.7', '5.0'],\n",
       "  ['Net income attributable to:', '', '', ''],\n",
       "  ['Stockholders of the parent', '6.5', '5.1', '5.5'],\n",
       "  ['Non-controlling interests', '(2.0)', '(3.0)', '(2.4)'],\n",
       "  ['Total comprehensive income attributable to:', '', '', ''],\n",
       "  ['Stockholders of the parent', '3.3', '5.7', '7.4'],\n",
       "  ['Non-controlling interests', '(2.0)', '(3.0)', '(2.4)']],\n",
       " [['', '', 'Years Ended December 31,', ''],\n",
       "  ['', '2017', '2018', '2019'],\n",
       "  ['', '%', '%', '%'],\n",
       "  ['Operating revenues', '100.0', '100.0', '100.0'],\n",
       "  ['Operating costs', '(81.9)', '(84.9)', '(85.6)'],\n",
       "  ['Gross profit', '18.1', '15.1', '14.4'],\n",
       "  ['Operating expenses', '', '', ''],\n",
       "  ['Sales and marketing', '(2.8)', '(2.6)', '(2.6)'],\n",
       "  ['General and administrative', '(2.8)', '(3.2)', '(3.6)'],\n",
       "  ['Research and development', '(9.2)', '(8.6)', '(8.0)'],\n",
       "  ['Expected credit losses', '—', '(0.3)', '(0.4)'],\n",
       "  ['Subtotal', '(14.8)', '(14.7)', '(14.6)'],\n",
       "  ['Net other operating income and expenses', '1.1', '3.4', '3.5'],\n",
       "  ['Operating income', '4.4', '3.8', '3.3'],\n",
       "  ['Non-operating income and expenses', '0.7', '(2.4)', '(0.1)'],\n",
       "  ['Income from continuing operations before income tax', '5.1', '1.4', '3.2'],\n",
       "  ['Income tax benefit (expense)', '(0.6)', '0.7', '(0.1)'],\n",
       "  ['Net income', '4.5', '2.1', '3.1'],\n",
       "  ['Total other comprehensive income (loss), net of tax',\n",
       "   '(3.2)',\n",
       "   '0.6',\n",
       "   '1.9'],\n",
       "  ['Total comprehensive income', '1.3', '2.7', '5.0'],\n",
       "  ['Net income attributable to:', '', '', ''],\n",
       "  ['Stockholders of the parent', '6.5', '5.1', '5.5'],\n",
       "  ['Non-controlling interests', '(2.0)', '(3.0)', '(2.4)'],\n",
       "  ['Total comprehensive income attributable to:', '', '', ''],\n",
       "  ['Stockholders of the parent', '3.3', '5.7', '7.4'],\n",
       "  ['Non-controlling interests', '(2.0)', '(3.0)', '(2.4)']]]"
      ]
     },
     "execution_count": 9,
     "metadata": {},
     "output_type": "execute_result"
    }
   ],
   "source": [
    "tables"
   ]
  },
  {
   "cell_type": "code",
   "execution_count": 10,
   "metadata": {},
   "outputs": [],
   "source": [
    "table_summaries, text_summaries = get_summary(tables, texts)"
   ]
  },
  {
   "cell_type": "code",
   "execution_count": 11,
   "metadata": {},
   "outputs": [],
   "source": [
    "from langchain_community.vectorstores import Chroma\n",
    "from langchain_openai import OpenAIEmbeddings, ChatOpenAI\n",
    "from langchain_core.output_parsers import StrOutputParser\n",
    "from langchain_core.prompts import ChatPromptTemplate\n",
    "from FinChatbot.pipeline.mvr import create_multi_vector_retriever"
   ]
  },
  {
   "cell_type": "code",
   "execution_count": 12,
   "metadata": {},
   "outputs": [
    {
     "name": "stderr",
     "output_type": "stream",
     "text": [
      "C:\\Users\\rahul\\AppData\\Local\\Temp\\ipykernel_29912\\1829633486.py:1: LangChainDeprecationWarning: The class `Chroma` was deprecated in LangChain 0.2.9 and will be removed in 1.0. An updated version of the class exists in the :class:`~langchain-chroma package and should be used instead. To use it run `pip install -U :class:`~langchain-chroma` and import as `from :class:`~langchain_chroma import Chroma``.\n",
      "  vector_store = Chroma(\n"
     ]
    }
   ],
   "source": [
    "vector_store = Chroma(\n",
    "    collection_name = \"eval\",\n",
    "    embedding_function = OpenAIEmbeddings()\n",
    ")"
   ]
  },
  {
   "cell_type": "code",
   "execution_count": 13,
   "metadata": {},
   "outputs": [],
   "source": [
    "retriever = create_multi_vector_retriever(vectorstore = vector_store,\n",
    "                                          text_summaries = text_summaries,\n",
    "                                          texts = texts,\n",
    "                                          table_summaries = table_summaries,\n",
    "                                          tables = tables)"
   ]
  },
  {
   "cell_type": "code",
   "execution_count": 14,
   "metadata": {},
   "outputs": [
    {
     "data": {
      "text/plain": [
       "[['Actuarial assumptions',\n",
       "  'The Group’s scheme liabilities are measured using the projected unit credit method using the principal actuarial assumptions set out below:',\n",
       "  'Notes: 1 Figures shown represent a weighted average assumption of the individual schemes.',\n",
       "  '2 The rate of increases in pensions in payment and deferred revaluation are dependent on the rate of inflation.'],\n",
       " ['Actuarial assumptions',\n",
       "  'The Group’s scheme liabilities are measured using the projected unit credit method using the principal actuarial assumptions set out below:',\n",
       "  'Notes: 1 Figures shown represent a weighted average assumption of the individual schemes.',\n",
       "  '2 The rate of increases in pensions in payment and deferred revaluation are dependent on the rate of inflation.'],\n",
       " [['', '2019 %', '2018 %', '2017 %'],\n",
       "  ['Weighted average actuarial assumptions used at 31 March1:', '', '', ''],\n",
       "  ['Rate of inflation2', '2.9', '2.9', '3.0'],\n",
       "  ['Rate of increase in salaries', '2.7', '2.7', '2.6'],\n",
       "  ['Discount rate', '2.3', '2.5', '2.6']],\n",
       " [['', '2019 %', '2018 %', '2017 %'],\n",
       "  ['Weighted average actuarial assumptions used at 31 March1:', '', '', ''],\n",
       "  ['Rate of inflation2', '2.9', '2.9', '3.0'],\n",
       "  ['Rate of increase in salaries', '2.7', '2.7', '2.6'],\n",
       "  ['Discount rate', '2.3', '2.5', '2.6']]]"
      ]
     },
     "execution_count": 14,
     "metadata": {},
     "output_type": "execute_result"
    }
   ],
   "source": [
    "retriever.invoke(\"What does the Weighted average actuarial assumptions consist of?\")"
   ]
  },
  {
   "cell_type": "code",
   "execution_count": 15,
   "metadata": {},
   "outputs": [],
   "source": [
    "prompt = ChatPromptTemplate.from_template(\n",
    "        \"\"\"\n",
    "\n",
    "        Current context from document:\n",
    "        {context}\n",
    "\n",
    "        Current question: {question}\n",
    "\n",
    "        Please provide a response that considers both the conversation history and the current context.\n",
    "        JUST GIVE THE ANSWER IN FEW WORDS.\n",
    "        DO NOT MAKE THINGS ON YOUR OWN.\n",
    "        \"\"\")"
   ]
  },
  {
   "cell_type": "code",
   "execution_count": 16,
   "metadata": {},
   "outputs": [],
   "source": [
    "model = ChatOpenAI(\n",
    "            temperature = 0, \n",
    "            model = \"gpt-4o-mini\"\n",
    "            )"
   ]
  },
  {
   "cell_type": "code",
   "execution_count": 17,
   "metadata": {},
   "outputs": [],
   "source": [
    "def get_response(user_input):\n",
    "    \"\"\"Generates a response using the retriever and conversation memory.\"\"\"\n",
    "    context = retriever.invoke(user_input)\n",
    "\n",
    "    full_prompt = prompt.format(\n",
    "            context = context,\n",
    "            question = user_input\n",
    "            )\n",
    "        \n",
    "    response = model.invoke(full_prompt)\n",
    "    parsed_response = StrOutputParser().invoke(response)\n",
    "\n",
    "\n",
    "    return parsed_response"
   ]
  },
  {
   "cell_type": "code",
   "execution_count": 18,
   "metadata": {},
   "outputs": [],
   "source": [
    "questions = []\n",
    "for question in data[\"questions\"]:\n",
    "    questions.append(question)"
   ]
  },
  {
   "cell_type": "code",
   "execution_count": 19,
   "metadata": {},
   "outputs": [
    {
     "data": {
      "text/plain": [
       "['Rate of inflation', 'Rate of increase in salaries', 'Discount rate']"
      ]
     },
     "execution_count": 19,
     "metadata": {},
     "output_type": "execute_result"
    }
   ],
   "source": [
    "data[\"answer\"].values[0]"
   ]
  },
  {
   "cell_type": "code",
   "execution_count": 20,
   "metadata": {},
   "outputs": [],
   "source": [
    "answers = []\n",
    "for answer in data[\"answer\"]:\n",
    "    answers.append(answer)"
   ]
  },
  {
   "cell_type": "code",
   "execution_count": 21,
   "metadata": {},
   "outputs": [
    {
     "data": {
      "text/plain": [
       "[['Rate of inflation', 'Rate of increase in salaries', 'Discount rate'],\n",
       " ['2.9'],\n",
       " ['at cost less accumulated amortisation.'],\n",
       " ['16,284'],\n",
       " ['29,259'],\n",
       " ['11,486', '11,459'],\n",
       " ['5,276', '4,228'],\n",
       " ['2,795', '2,780'],\n",
       " ['primarily due to decreased other operating revenues, decreased foundry wafer sale, and 2.5% depreciation of the NTD in 2019 from 2018.'],\n",
       " ['primarily due to the decreased depreciation expense and other operating costs, which was partially offset by the increased direct material costs.']]"
      ]
     },
     "execution_count": 21,
     "metadata": {},
     "output_type": "execute_result"
    }
   ],
   "source": [
    "answers"
   ]
  },
  {
   "cell_type": "code",
   "execution_count": 105,
   "metadata": {},
   "outputs": [
    {
     "data": {
      "text/plain": [
       "['Rate of inflation', 'Rate of increase in salaries', 'Discount rate']"
      ]
     },
     "execution_count": 105,
     "metadata": {},
     "output_type": "execute_result"
    }
   ],
   "source": [
    "answers[0]"
   ]
  },
  {
   "cell_type": "code",
   "execution_count": 97,
   "metadata": {},
   "outputs": [
    {
     "data": {
      "text/plain": [
       "'What does the Weighted average actuarial assumptions consist of?'"
      ]
     },
     "execution_count": 97,
     "metadata": {},
     "output_type": "execute_result"
    }
   ],
   "source": [
    "questions[0][0]"
   ]
  },
  {
   "cell_type": "code",
   "execution_count": 22,
   "metadata": {},
   "outputs": [],
   "source": [
    "llm_asnwers = []\n",
    "for q in questions:\n",
    "    response = get_response(q[0])\n",
    "    llm_asnwers.append(response)"
   ]
  },
  {
   "cell_type": "code",
   "execution_count": 23,
   "metadata": {},
   "outputs": [
    {
     "data": {
      "text/plain": [
       "['Rate of inflation, rate of increase in salaries, discount rate.',\n",
       " '2.9%',\n",
       " 'Internally developed software is capitalised at cost less accumulated amortisation.',\n",
       " '16,284',\n",
       " 'NT$126,887 million (US$4,242 million)',\n",
       " 'Net sales from cheese: $11,486 (2018), $11,459 (2019).',\n",
       " 'Net sales from cream and other: 2018 - $5,276; 2019 - $4,228.',\n",
       " 'Net sales from ProBugs Kefir: $2,795 in 2018 and $2,780 in 2019.',\n",
       " 'Decreased other operating revenues, decreased foundry wafer sales, and 2.5% depreciation of the NTD.',\n",
       " 'Operating costs decreased due to decreased depreciation expense and other operating costs, partially offset by increased direct material costs.']"
      ]
     },
     "execution_count": 23,
     "metadata": {},
     "output_type": "execute_result"
    }
   ],
   "source": [
    "llm_asnwers"
   ]
  },
  {
   "cell_type": "code",
   "execution_count": 30,
   "metadata": {},
   "outputs": [
    {
     "name": "stdout",
     "output_type": "stream",
     "text": [
      "Text pair 1:\n",
      "  ROUGE-1: Score(precision=0.0, recall=0.0, fmeasure=0.0)\n",
      "  ROUGE-2: Score(precision=0.0, recall=0.0, fmeasure=0.0)\n",
      "  ROUGE-L: Score(precision=0.0, recall=0.0, fmeasure=0.0)\n",
      "------------------------------\n",
      "Text pair 2:\n",
      "  ROUGE-1: Score(precision=1.0, recall=1.0, fmeasure=1.0)\n",
      "  ROUGE-2: Score(precision=1.0, recall=1.0, fmeasure=1.0)\n",
      "  ROUGE-L: Score(precision=1.0, recall=1.0, fmeasure=1.0)\n",
      "------------------------------\n",
      "Text pair 3:\n",
      "  ROUGE-1: Score(precision=0.0, recall=0.0, fmeasure=0.0)\n",
      "  ROUGE-2: Score(precision=0.0, recall=0.0, fmeasure=0.0)\n",
      "  ROUGE-L: Score(precision=0.0, recall=0.0, fmeasure=0.0)\n",
      "------------------------------\n",
      "Text pair 4:\n",
      "  ROUGE-1: Score(precision=0.0, recall=0.0, fmeasure=0.0)\n",
      "  ROUGE-2: Score(precision=0.0, recall=0.0, fmeasure=0.0)\n",
      "  ROUGE-L: Score(precision=0.0, recall=0.0, fmeasure=0.0)\n",
      "------------------------------\n",
      "Text pair 5:\n",
      "  ROUGE-1: Score(precision=0.0, recall=0.0, fmeasure=0.0)\n",
      "  ROUGE-2: Score(precision=0.0, recall=0.0, fmeasure=0.0)\n",
      "  ROUGE-L: Score(precision=0.0, recall=0.0, fmeasure=0.0)\n",
      "------------------------------\n",
      "Text pair 6:\n",
      "  ROUGE-1: Score(precision=0.0, recall=0.0, fmeasure=0.0)\n",
      "  ROUGE-2: Score(precision=0.0, recall=0.0, fmeasure=0.0)\n",
      "  ROUGE-L: Score(precision=0.0, recall=0.0, fmeasure=0.0)\n",
      "------------------------------\n",
      "Text pair 7:\n",
      "  ROUGE-1: Score(precision=0.04878048780487805, recall=0.5, fmeasure=0.08888888888888888)\n",
      "  ROUGE-2: Score(precision=0.0, recall=0.0, fmeasure=0.0)\n",
      "  ROUGE-L: Score(precision=0.04878048780487805, recall=0.5, fmeasure=0.08888888888888888)\n",
      "------------------------------\n",
      "Text pair 8:\n",
      "  ROUGE-1: Score(precision=0.0425531914893617, recall=0.5, fmeasure=0.0784313725490196)\n",
      "  ROUGE-2: Score(precision=0.0, recall=0.0, fmeasure=0.0)\n",
      "  ROUGE-L: Score(precision=0.0425531914893617, recall=0.5, fmeasure=0.0784313725490196)\n",
      "------------------------------\n",
      "Text pair 9:\n",
      "  ROUGE-1: Score(precision=0.024390243902439025, recall=0.09090909090909091, fmeasure=0.038461538461538464)\n",
      "  ROUGE-2: Score(precision=0.012345679012345678, recall=0.047619047619047616, fmeasure=0.019607843137254898)\n",
      "  ROUGE-L: Score(precision=0.024390243902439025, recall=0.09090909090909091, fmeasure=0.038461538461538464)\n",
      "------------------------------\n",
      "Text pair 10:\n",
      "  ROUGE-1: Score(precision=0.0, recall=0.0, fmeasure=0.0)\n",
      "  ROUGE-2: Score(precision=0.0, recall=0.0, fmeasure=0.0)\n",
      "  ROUGE-L: Score(precision=0.0, recall=0.0, fmeasure=0.0)\n",
      "------------------------------\n"
     ]
    }
   ],
   "source": [
    "from rouge_score import rouge_scorer\n",
    "\n",
    "# Initialize the ROUGE scorer\n",
    "scorer = rouge_scorer.RougeScorer(['rouge1', 'rouge2', 'rougeL'], use_stemmer=True)\n",
    "\n",
    "# List to hold ROUGE scores\n",
    "rouge_scores = []\n",
    "\n",
    "# Loop over the generated and reference texts\n",
    "for generated_list, reference_list in zip(llm_asnwers, answers):\n",
    "    # Extracting strings from the lists\n",
    "    generated = ' '.join(generated_list)  # Flatten to a single string\n",
    "    reference = ' '.join(reference_list)  # Flatten to a single string\n",
    "    \n",
    "    # Calculate ROUGE scores\n",
    "    scores = scorer.score(reference, generated)\n",
    "    rouge_scores.append(scores)\n",
    "\n",
    "# Print the ROUGE scores for each pair\n",
    "for i, scores in enumerate(rouge_scores):\n",
    "    print(f\"Text pair {i + 1}:\")\n",
    "    print(f\"  ROUGE-1: {scores['rouge1']}\")\n",
    "    print(f\"  ROUGE-2: {scores['rouge2']}\")\n",
    "    print(f\"  ROUGE-L: {scores['rougeL']}\")\n",
    "    print(\"-\" * 30)"
   ]
  },
  {
   "cell_type": "code",
   "execution_count": 31,
   "metadata": {},
   "outputs": [
    {
     "data": {
      "text/plain": [
       "[['What does the Weighted average actuarial assumptions consist of?'],\n",
       " ['How much is the 2019 rate of inflation?'],\n",
       " ['How was internally developed software capitalised?'],\n",
       " ['How much was the closing net book amount for software under development in 2019?'],\n",
       " ['What was the total cost for 2019?'],\n",
       " ['What is net sales from cheese in 2018 and 2019 respectively?'],\n",
       " ['What is net sales from cream and other in 2018 and 2019 respectively?'],\n",
       " ['What is net sales from ProBugs Kefir in 2018 and 2019 respectively?'],\n",
       " ['Why did the Operating revenues decreased from 2018 to 2019? '],\n",
       " ['Why did the Operating costs decreased from 2018 to 2019?']]"
      ]
     },
     "execution_count": 31,
     "metadata": {},
     "output_type": "execute_result"
    }
   ],
   "source": [
    "questions"
   ]
  },
  {
   "cell_type": "code",
   "execution_count": 32,
   "metadata": {},
   "outputs": [
    {
     "data": {
      "text/plain": [
       "[['Rate of inflation', 'Rate of increase in salaries', 'Discount rate'],\n",
       " ['2.9'],\n",
       " ['at cost less accumulated amortisation.'],\n",
       " ['16,284'],\n",
       " ['29,259'],\n",
       " ['11,486', '11,459'],\n",
       " ['5,276', '4,228'],\n",
       " ['2,795', '2,780'],\n",
       " ['primarily due to decreased other operating revenues, decreased foundry wafer sale, and 2.5% depreciation of the NTD in 2019 from 2018.'],\n",
       " ['primarily due to the decreased depreciation expense and other operating costs, which was partially offset by the increased direct material costs.']]"
      ]
     },
     "execution_count": 32,
     "metadata": {},
     "output_type": "execute_result"
    }
   ],
   "source": [
    "answers"
   ]
  },
  {
   "cell_type": "code",
   "execution_count": 33,
   "metadata": {},
   "outputs": [
    {
     "data": {
      "text/plain": [
       "['Rate of inflation, rate of increase in salaries, discount rate.',\n",
       " '2.9%',\n",
       " 'Internally developed software is capitalised at cost less accumulated amortisation.',\n",
       " '16,284',\n",
       " 'NT$126,887 million (US$4,242 million)',\n",
       " 'Net sales from cheese: $11,486 (2018), $11,459 (2019).',\n",
       " 'Net sales from cream and other: 2018 - $5,276; 2019 - $4,228.',\n",
       " 'Net sales from ProBugs Kefir: $2,795 in 2018 and $2,780 in 2019.',\n",
       " 'Decreased other operating revenues, decreased foundry wafer sales, and 2.5% depreciation of the NTD.',\n",
       " 'Operating costs decreased due to decreased depreciation expense and other operating costs, partially offset by increased direct material costs.']"
      ]
     },
     "execution_count": 33,
     "metadata": {},
     "output_type": "execute_result"
    }
   ],
   "source": [
    "llm_asnwers"
   ]
  }
 ],
 "metadata": {
  "kernelspec": {
   "display_name": ".venv",
   "language": "python",
   "name": "python3"
  },
  "language_info": {
   "codemirror_mode": {
    "name": "ipython",
    "version": 3
   },
   "file_extension": ".py",
   "mimetype": "text/x-python",
   "name": "python",
   "nbconvert_exporter": "python",
   "pygments_lexer": "ipython3",
   "version": "3.11.8"
  }
 },
 "nbformat": 4,
 "nbformat_minor": 2
}
