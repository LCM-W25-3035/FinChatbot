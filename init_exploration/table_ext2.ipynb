{
 "cells": [
  {
   "cell_type": "code",
   "execution_count": 1,
   "metadata": {},
   "outputs": [],
   "source": [
    "import requests\n",
    "import os\n",
    "from dotenv import load_dotenv, find_dotenv"
   ]
  },
  {
   "cell_type": "code",
   "execution_count": 17,
   "metadata": {},
   "outputs": [],
   "source": [
    "load_dotenv(find_dotenv())\n",
    "\n",
    "unstructured_api_url = os.getenv(\"UNSTRUCTURED_API_URL\")\n",
    "unstructured_api_key = os.getenv(\"UNSTRUCTURED_API_KEY\")"
   ]
  },
  {
   "cell_type": "code",
   "execution_count": 18,
   "metadata": {},
   "outputs": [],
   "source": [
    "url = unstructured_api_url\n",
    "\n",
    "headers = {\n",
    "        \"Accept\": \"application/json\",\n",
    "        \"unstructured-api-key\": unstructured_api_key\n",
    "}\n",
    "\n",
    "file_path = \"../Data/example_pdf/2023q4-alphabet-earnings-release.pdf\"\n",
    "with open(file_path, \"rb\") as file:\n",
    "    file_bytes = file.read()\n",
    "\n",
    "files = {\n",
    "        \"files\": (\"document\", file_bytes, \"application/pdf\")\n",
    "}"
   ]
  },
  {
   "cell_type": "code",
   "execution_count": 4,
   "metadata": {},
   "outputs": [],
   "source": [
    "response = requests.post(url, headers = headers, files = files)"
   ]
  },
  {
   "cell_type": "code",
   "execution_count": 5,
   "metadata": {},
   "outputs": [],
   "source": [
    "response.raise_for_status()"
   ]
  },
  {
   "cell_type": "code",
   "execution_count": 21,
   "metadata": {},
   "outputs": [],
   "source": [
    "t = set()\n",
    "\n",
    "for element in response.json():\n",
    "    t.add(element[\"type\"])"
   ]
  },
  {
   "cell_type": "code",
   "execution_count": 22,
   "metadata": {},
   "outputs": [
    {
     "data": {
      "text/plain": [
       "{'NarrativeText', 'PageNumber', 'Table', 'Title', 'UncategorizedText'}"
      ]
     },
     "execution_count": 22,
     "metadata": {},
     "output_type": "execute_result"
    }
   ],
   "source": [
    "t"
   ]
  },
  {
   "cell_type": "code",
   "execution_count": 26,
   "metadata": {},
   "outputs": [],
   "source": [
    "texts = []\n",
    "for element in response.json():\n",
    "    if (element.get(\"type\") in [\"NarrativeText\", \"UncategorizedText\"]):\n",
    "        texts.append(element[\"text\"])"
   ]
  },
  {
   "cell_type": "code",
   "execution_count": 27,
   "metadata": {},
   "outputs": [
    {
     "data": {
      "text/plain": [
       "['MOUNTAIN VIEW, Calif. – January 30, 2024 – Alphabet Inc. (NASDAQ: GOOG, GOOGL) today announced financial results for the quarter and fiscal year ended December 31, 2023.',\n",
       " 'Sundar Pichai, CEO, said: “We are pleased with the ongoing strength in Search and the growing contribution from YouTube and Cloud. Each of these is already benefiting from our AI investments and innovation. As we enter the Gemini era, the best is yet to come.”',\n",
       " 'Ruth Porat, President and Chief Investment Officer; CFO said: “We ended 2023 with very strong fourth quarter financial results, with Q4 consolidated revenues of $86 billion, up 13% year over year. We remain committed to our work to durably re-engineer our cost base as we invest to support our growth opportunities.”',\n",
       " 'The following table summarizes our consolidated financial results for the quarters and years ended December 31, 2022 and 2023 (in millions, except for per share information and percentages).',\n",
       " '(1) Non-GAAP measure. See the table captioned “Reconciliation from GAAP revenues to non-GAAP constant currency revenues and GAAP percentage change in revenues to non-GAAP percentage change in constant currency revenues” for more details.',\n",
       " 'Q4 2023 Supplemental Information (in millions, except for number of employees; unaudited)',\n",
       " '(1) Formerly “Google other.”',\n",
       " '(1) Formerly “corporate costs, unallocated.” In addition to the costs included in Alphabet-level activities, hedging gains (losses) related to revenue were $669 million and $150 million for the three months ended December 31, 2022 and 2023, respectively. For the quarter ended December 31, 2023, Alphabet-level activities included charges related to the reduction in force and our office space optimization efforts totaling $1.2 billion and $62 million in accelerated rent and accelerated depreciation.',\n",
       " 'Additional Information Relating to the Quarter Ended December 31, 2023 (unaudited)',\n",
       " 'In January 2023, we announced a reduction of our workforce, and as a result we recorded employee severance and related charges of $2.1 billion for the twelve months ended December 31, 2023. In addition, we are taking actions to optimize our global office space. As a result, exit charges recorded during the three and twelve months ended December 31, 2023, were $1.2 billion and $1.8 billion, respectively. In addition to these exit charges, for the three and twelve months ended December 31, 2023, we incurred $62 million and $269 million, respectively, in accelerated rent and accelerated depreciation.',\n",
       " 'Severance and office space exit charges are included within our consolidated statements of income as follows (in millions):',\n",
       " 'For segment reporting, the substantial majority of these charges are included within Alphabet-level activities in our segment results.',\n",
       " 'In January 2023, we completed an assessment of the useful lives of our servers and network equipment and adjusted the estimated useful life of our servers from four years to six years and the estimated useful life of certain network equipment from five years to six years. This change in accounting estimate was effective beginning in fiscal year 2023, and the effect was a reduction in depreciation expense of $983 million and $3.9 billion and an increase in net income of $765 million and $3.0 billion, or $0.06 and $0.24 per basic and $0.06 and $0.24 per diluted share for the three and twelve months ended December 31, 2023, respectively.',\n",
       " 'A live audio webcast of our fourth quarter 2023 earnings release call will be available on YouTube at https:// www.youtube.com/watch?v=b4alwdVvn4Q. The call begins today at 1:30 PM (PT) / 4:30 PM (ET). This press release, including the reconciliations of certain non-GAAP measures to their nearest comparable GAAP measures, is also available at http://abc.xyz/investor.',\n",
       " 'We also provide announcements regarding our financial performance, including SEC filings, investor events, press and earnings releases, and blogs, on our investor relations website (http://abc.xyz/investor).',\n",
       " 'We also share Google news and product updates on Google’s Keyword blog at https://www.blog.google/, which may be of interest or material to our investors.',\n",
       " 'This press release may contain forward-looking statements that involve risks and uncertainties. Actual results may differ materially from the results predicted, and reported results should not be considered as an indication of future performance. The potential risks and uncertainties that could cause actual results to differ from the results predicted include, among others, those risks and uncertainties included under the captions “Risk Factors” and “Management’s Discussion and Analysis of Financial Condition and Results of Operations” in our Annual Report on Form 10-K for the year ended December 31, 2022 and our most recent Quarterly Report on Form 10-Q for the quarter ended September 30, 2023, which are on file with the SEC and are available on our investor relations website at http:// abc.xyz/investor and on the SEC website at www.sec.gov. Additional information will also be set forth in our Annual Report on Form 10-K for the year ended December 31, 2023, and may be set forth in other reports and filings we make with the SEC. All information provided in this release and in the attachments is as of January 30, 2024. Undue reliance should not be placed on the forward-looking statements in this press release, which are based on information available to us on the date hereof. We undertake no duty to update this information unless required by law.',\n",
       " 'To supplement our consolidated financial statements, which are prepared and presented in accordance with GAAP, we use the following non-GAAP financial measures: free cash flow; constant currency revenues; and percentage change in constant currency revenues. The presentation of this financial information is not intended to be considered in isolation or as a substitute for, or superior to, the financial information prepared and presented in accordance with GAAP.',\n",
       " 'We use these non-GAAP financial measures for financial and operational decision-making and as a means to evaluate period-to-period comparisons. We believe that these non-GAAP financial measures provide meaningful',\n",
       " 'supplemental information regarding our performance and liquidity by excluding certain items that may not be indicative of our recurring core business operating results, such as our revenues excluding the effect of foreign exchange rate movements and hedging activities, which are recognized at the consolidated level. We believe that both management and investors benefit from referring to these non-GAAP financial measures in assessing our performance and when planning, forecasting, and analyzing future periods. These non-GAAP financial measures also facilitate management’s internal comparisons to our historical performance and liquidity as well as comparisons to our competitors’ operating results. We believe these non-GAAP financial measures are useful to investors both because (1) they allow for greater transparency with respect to key metrics used by management in its financial and operational decision-making and (2) they are used by our institutional investors and the analyst community to help them analyze the health of our business.',\n",
       " 'There are a number of limitations related to the use of non-GAAP financial measures. We compensate for these limitations by providing specific information regarding the GAAP amounts excluded from these non-GAAP financial measures and evaluating these non-GAAP financial measures together with their relevant financial measures in accordance with GAAP.',\n",
       " 'For more information on these non-GAAP financial measures, please see the tables captioned “Reconciliation from GAAP net cash provided by operating activities to non-GAAP free cash flow” and “Reconciliation from GAAP revenues to non-GAAP constant currency revenues and GAAP percentage change in revenues to non-GAAP percentage change in constant currency revenues” included at the end of this release.',\n",
       " 'Investor relations',\n",
       " 'Media',\n",
       " 'investor-relations@abc.xyz press@abc.xyz',\n",
       " '(In millions, except par value per share amounts)',\n",
       " '(In millions, except per share amounts)',\n",
       " 'The following table presents our segment revenues and operating income (loss) (in millions; unaudited):',\n",
       " 'We report our segment results as Google Services, Google Cloud, and Other Bets:',\n",
       " '• Google Services includes products and services such as ads, Android, Chrome, devices, Google Maps, Google Play, Search, and YouTube. Google Services generates revenues primarily from advertising; fees received for consumer subscription-based products such as YouTube TV, YouTube Music and Premium, and NFL Sunday Ticket; the sale of apps and in-app purchases and devices.',\n",
       " '• Google Cloud includes infrastructure and platform services, collaboration tools, and other services for enterprise customers. Google Cloud generates revenues primarily from consumption-based fees and subscriptions received for Google Cloud Platform services, Google Workspace communication and collaboration tools, and other enterprise services.',\n",
       " '• Other Bets is a combination of multiple operating segments that are not individually material. Revenues from Other Bets are generated primarily from the sale of healthcare-related services and internet services.',\n",
       " 'Certain costs are not allocated to our segments because they represent Alphabet-level activities. These costs primarily include AI-focused shared R&D activities, including development costs of our general AI models; corporate initiatives such as our philanthropic activities; corporate shared costs such as certain finance, human resource, and legal costs, including certain fines and settlements. Charges associated with reductions in our workforce and office space during 2023 were not allocated to our segments. Additionally, hedging gains (losses) related to revenue are not allocated to our segments.',\n",
       " 'The following table presents our other income (expense), net (in millions; unaudited):',\n",
       " 'Includes all gains and losses, unrealized and realized, on equity securities. For Q4 2023, the net effect of the gain on equity securities of $586 million and the $45 million of performance fees related to certain investments increased the provision for',\n",
       " '()',\n",
       " 'income tax, net income, and diluted EPS by $114 million, $427 million, and $0.03, respectively. Fluctuations in the value of our investments may be affected by market dynamics and other factors and could significantly contribute to the volatility of OI&E in future periods.',\n",
       " 'We provide non-GAAP free cash flow because it is a liquidity measure that provides useful information to management and investors about the amount of cash generated by the business that can be used for strategic opportunities, including investing in our business and acquisitions, and to strengthen our balance sheet.',\n",
       " 'Free cash flow: We define free cash flow as net cash provided by operating activities less capital expenditures.',\n",
       " 'Reconciliation from GAAP Revenues to Non-GAAP Constant Currency Revenues and GAAP Percentage Change in Revenues to Non-GAAP Percentage Change in Constant Currency Revenues (in millions, except percentages; unaudited):',\n",
       " 'We provide non-GAAP constant currency revenues (“constant currency revenues”) and non-GAAP percentage change in constant currency revenues (“percentage change in constant currency revenues”), because they facilitate the comparison of current results to historic performance by excluding the effect of foreign exchange rate movements (“FX Effect”) as well as hedging activities, which are recognized at the consolidated level, as they are not indicative of our core operating results.',\n",
       " 'Non-GAAP constant currency revenues is defined as revenues excluding the effect of foreign exchange rate movements and hedging activities and is calculated by translating current period revenues using prior period exchange rates and excluding any hedging effect recognized in the current period. We calculate the percentage change in constant currency revenues by comparing constant currency revenues to the prior year comparable period revenues, excluding any hedging effect recognized in the prior period.',\n",
       " 'Comparison from the Quarter Ended December 31, 2022 to the Quarter Ended December 31, 2023',\n",
       " '(1) Total constant currency revenues of $85.2 billion for the quarter ended December 31, 2023 increased $9.8 billion compared to $75.4 billion in revenues, excluding hedging effect for the quarter ended December 31, 2022.',\n",
       " 'Comparison from the Quarter Ended September 30, 2023 to the Quarter Ended December 31, 2023',\n",
       " 'Total constant currency revenues of $87.0 billion for the quarter ended December 31, 2023 increased $10.3 billion compared to $76.7 billion in revenues, excluding hedging effect for the quarter ended September 30, 2023.',\n",
       " '1)',\n",
       " 'Comparison from the Year Ended December 31, 2022 to the Year Ended December 31, 2023',\n",
       " 'Total constant currency revenues of $309.1 billion for the year ended December 31, 2023 increased $28.2 billion compared to $280.9 billion in revenues, excluding hedging effect for the year ended December 31, 2022.',\n",
       " 'Comparison from the Quarter Ended December 31, 2021 to the Quarter Ended December 31, 2022',\n",
       " 'Comparison from the Year Ended December 31, 2021 to the Year Ended December 31, 2022']"
      ]
     },
     "execution_count": 27,
     "metadata": {},
     "output_type": "execute_result"
    }
   ],
   "source": [
    "texts"
   ]
  },
  {
   "cell_type": "code",
   "execution_count": null,
   "metadata": {},
   "outputs": [],
   "source": [
    "tables = []\n",
    "\n",
    "for element in response.json():\n",
    "    if (element.get(\"type\") in [\"NarrativeText\", \"UncategorizedText\"]):\n",
    "        tables.append(element[\"metadata\"][\"text_as_html\"])"
   ]
  },
  {
   "cell_type": "code",
   "execution_count": 15,
   "metadata": {},
   "outputs": [],
   "source": [
    "tables = []\n",
    "\n",
    "for element in response.json():\n",
    "    if (element.get(\"type\") == \"Table\"):\n",
    "        tables.append(element[\"metadata\"][\"text_as_html\"])"
   ]
  },
  {
   "cell_type": "code",
   "execution_count": null,
   "metadata": {},
   "outputs": [],
   "source": [
    "tables = []\n",
    "\n",
    "for element in response.json():\n",
    "    if element.get(\"type\") == \"Table\":\n",
    "        tables.append(element.get(\"text_as_html\"))\n"
   ]
  },
  {
   "cell_type": "code",
   "execution_count": 16,
   "metadata": {},
   "outputs": [
    {
     "data": {
      "text/plain": [
       "['<table><thead><tr><th></th><th colspan=\"2\">Quarter Ended December 31,</th><th colspan=\"2\">Year Ended December 31,</th></tr><tr><th></th><th>2022</th><th>2023</th><th>2022</th><th>2023</th></tr><tr><th></th><th></th><th>(unaudited)</th><th></th><th>(unaudited)</th></tr></thead><tbody><tr><td>Revenues</td><td>76,048</td><td>$ 86,310</td><td>$ 282,836</td><td>$ 307,394</td></tr><tr><td>Change in revenues year over year</td><td>1%</td><td>13 %</td><td>10 %\\n %</td><td>9 %</td></tr><tr><td>Change in constant currency revenues year over year\\'\"</td><td>7 %</td><td>13 %</td><td>14 %\\n %</td><td>10 %\\n %</td></tr><tr><td>Operating income</td><td>18,160</td><td>$ 23,697</td><td>$ 74,842</td><td>$ 84,293</td></tr><tr><td>Operating margin</td><td>24 %\\n %</td><td>27 %\\n %</td><td>26 %\\n %</td><td>27 %\\n %</td></tr><tr><td>Other income (expense), net</td><td>(1,013) \\n $</td><td>715 $</td><td>$ (3,514)</td><td>$ 1,424</td></tr><tr><td>Net income</td><td>13,624</td><td>20,687</td><td>$ 59,972</td><td>$ 73,795</td></tr><tr><td>Diluted EPS</td><td>1.05 $</td><td>¢ 1.64</td><td>$ 4.56</td><td>$ 5.80</td></tr></tbody></table>',\n",
       " '<table><thead><tr><th></th><th colspan=\"2\">Quarter Ended December 31,</th></tr><tr><th></th><th>2022</th><th>2023</th></tr></thead><tbody><tr><td>Google Search &amp; other</td><td>$ 42,604</td><td>$ 48,020</td></tr><tr><td>YouTube ads</td><td>7,963</td><td>9,200</td></tr><tr><td>Google Network</td><td>8,475</td><td>8,297</td></tr><tr><td>Google advertising</td><td>59,042</td><td>65,517</td></tr><tr><td>Google subscriptions, platforms, and devices\\'\"</td><td>8,796</td><td>10,794</td></tr><tr><td>Google Services total</td><td>67,838</td><td>76,311</td></tr><tr><td>Google Cloud</td><td>7,315</td><td>9,192</td></tr><tr><td>Other Bets</td><td>226</td><td>657</td></tr><tr><td>Hedging gains (losses)</td><td>669</td><td>150</td></tr><tr><td>Total revenues</td><td>76,048 $</td><td>86,310</td></tr><tr><td>Total TAC</td><td>12,925 $</td><td>13,986</td></tr><tr><td>Number of employees</td><td>190,234</td><td>182,502</td></tr></tbody></table>',\n",
       " '<table><thead><tr><th></th><th colspan=\"2\">Quarter Ended December 31, 2022 2023</th></tr></thead><tbody><tr><td colspan=\"3\">Operating income (loss):</td></tr><tr><td>Google Services</td><td>20,222 $</td><td>$ 26,730</td></tr><tr><td>Google Cloud</td><td>(186)</td><td>864</td></tr><tr><td>Other Bets</td><td>(1,237)</td><td>(863)</td></tr><tr><td>Alphabet-level activities\\'\"</td><td>(639)</td><td>(3,034)</td></tr><tr><td>Total income from operations</td><td>18,160 $</td><td>$ 23,697</td></tr></tbody></table>',\n",
       " '<table><thead><tr><th></th><th colspan=\"3\">Quarter Ended December 31, 2023</th><th colspan=\"3\">Year Ended December 31, 2023</th></tr><tr><th></th><th>Severance and Related</th><th>Office Space</th><th>Total</th><th>Severance and Related</th><th>Office Space</th><th>Total</th></tr></thead><tbody><tr><td>Cost of revenues</td><td>$</td><td>235 2  $</td><td>237</td><td>$ 479</td><td>% 481</td><td>960</td></tr><tr><td>Research and development</td><td>;  \\n 1</td><td>602</td><td>603</td><td>848</td><td>870</td><td>1,718</td></tr><tr><td>Sales and marketing</td><td>3</td><td>198</td><td>201</td><td>497</td><td>257</td><td>754</td></tr><tr><td>General and administrative</td><td>_—  \\n 1</td><td>161</td><td>162</td><td>264</td><td>237</td><td>501</td></tr><tr><td>Total charges</td><td>_— $</td><td>R A 1,196 7  $</td><td>A 1,203</td><td>A R 2,088</td><td>A A $ 1,845</td><td>A § 3,933</td></tr></tbody></table>',\n",
       " '<table><thead><tr><th></th><th colspan=\"2\">As of December 31,</th></tr><tr><th></th><th>2022</th><th>2023 (unaudited)</th></tr></thead><tbody><tr><td colspan=\"3\">Assets</td></tr><tr><td colspan=\"3\">Current assets:</td></tr><tr><td>Cash and cash equivalents</td><td>21,879 $</td><td>24,048</td></tr><tr><td>Marketable securities</td><td>91,883</td><td>86,868</td></tr><tr><td>Total cash, cash equivalents, and marketable securities</td><td>113,762</td><td>110,916</td></tr><tr><td>Accounts receivable, net</td><td>40,258</td><td>47,964</td></tr><tr><td>Other current assets</td><td>10,775</td><td>12,650</td></tr><tr><td>Total current assets</td><td>164,795</td><td>171,530</td></tr><tr><td>Non-marketable securities</td><td>30,492</td><td>31,008</td></tr><tr><td>Deferred income taxes</td><td>5,261</td><td>12,169</td></tr><tr><td>Property and equipment, net</td><td>112,668</td><td>134,345</td></tr><tr><td>Operating lease assets</td><td>14,381</td><td>14,091</td></tr><tr><td>Goodwill</td><td>28,960</td><td>29,198</td></tr><tr><td>Other non-current assets</td><td>8,707</td><td>10,051</td></tr><tr><td>Total assets</td><td>365,264 $</td><td>402,392</td></tr><tr><td>Liabilities and Stockholders’ Equity</td><td></td><td></td></tr><tr><td colspan=\"3\">Current liabilities:</td></tr><tr><td>Accounts payable</td><td>5,128 $</td><td>7,493</td></tr><tr><td>Accrued compensation and benefits</td><td>14,028</td><td>15,140</td></tr><tr><td>Accrued expenses and other current liabilities</td><td>37,866</td><td>46,168</td></tr><tr><td>Accrued revenue share</td><td>8,370</td><td>8,876</td></tr><tr><td>Deferred revenue</td><td>3,908</td><td>4,137</td></tr><tr><td>Total current liabilities</td><td>69,300</td><td>81,814</td></tr><tr><td>Long-term debt</td><td>14,701</td><td>13,253</td></tr><tr><td>Deferred revenue, non-current</td><td>599</td><td>911</td></tr><tr><td>Income taxes payable, non-current</td><td>9,258</td><td>8,474</td></tr><tr><td>Deferred income taxes</td><td>514</td><td>485</td></tr><tr><td>Operating lease liabilities</td><td>12,501</td><td>12,460</td></tr><tr><td>Other long-term liabilities</td><td>2,247</td><td>1,616</td></tr><tr><td>Total liabilities</td><td>109,120</td><td>119,013</td></tr><tr><td colspan=\"3\">Commitments and contingencies</td></tr><tr><td colspan=\"3\">Stockholders’ equity:</td></tr><tr><td>Preferred stock, $0.001 par value per share, 100 shares authorized; no shares issued and outstanding</td><td>0</td><td>0</td></tr><tr><td>Class A, Class B, and Class C stock and additional paid-in capital, $0.001 par value per share: 300,000 shares authorized (Class A 180,000, Class B 60,000, Class C 60,000); 12,849 (Class A 5,964, Class B 883, Class C 6,002) and 12,460 (Class A 5,899, Class B 870, Class C 5,691) shares issued and outstanding</td><td>68,184</td><td>76,534</td></tr><tr><td>Accumulated other comprehensive income (loss)</td><td>(7,603)</td><td>(4,402)</td></tr><tr><td>Retained earnings</td><td>195,563</td><td>211,247</td></tr><tr><td>Total stockholders’ equity</td><td>256,144</td><td>283,379</td></tr><tr><td>Total liabilities and stockholders’ equity</td><td>365,264 $</td><td>§ 402,392</td></tr></tbody></table>',\n",
       " '<table><thead><tr><th></th><th colspan=\"2\">Quarter Ended December 31,</th><th colspan=\"2\">Year Ended December 31,</th></tr><tr><th></th><th>2022</th><th>2023 (unaudited)</th><th>2022</th><th>2023 (unaudited)</th></tr></thead><tbody><tr><td>Revenues</td><td>76,048 $</td><td>$ 86,310</td><td>$ 282,836</td><td>$ 307,394</td></tr><tr><td colspan=\"5\">Costs and expenses:</td></tr><tr><td>Cost of revenues</td><td>35,342</td><td>37,575</td><td>126,203</td><td>133,332</td></tr><tr><td>Research and development</td><td>10,267</td><td>12,113</td><td>39,500</td><td>45,427</td></tr><tr><td>Sales and marketing</td><td>7,183</td><td>7,719</td><td>26,567</td><td>27,917</td></tr><tr><td>General and administrative</td><td>5,096</td><td>5,206</td><td>15,724</td><td>16,425</td></tr><tr><td>Total costs and expenses</td><td>57,888</td><td>62,613</td><td>207,994</td><td>223,101</td></tr><tr><td>Income from operations</td><td>18,160</td><td>23,697</td><td>74,842</td><td>84,293</td></tr><tr><td>Other income (expense), net</td><td>(1,013)</td><td>715</td><td>(3,514)</td><td>1,424</td></tr><tr><td>Income before income taxes</td><td>17,147</td><td>24,412</td><td>71,328</td><td>85,717</td></tr><tr><td>Provision for income taxes</td><td>3,523</td><td>3,725</td><td>11,356</td><td>11,922</td></tr><tr><td>Net income</td><td>13,624 $</td><td>20,687</td><td>59,972</td><td>73,795</td></tr><tr><td>Basic earnings per share of Class A, Class B, and Class C stock</td><td>1.06 $</td><td>1.66</td><td>4.59</td><td>5.84</td></tr><tr><td>Diluted earnings per share of Class A, Class B, and Class C stocl</td><td>1.05 $</td><td>1.64</td><td>4.56</td><td>5.80</td></tr><tr><td>Number of shares used in basic earnings per share calculation</td><td>12,897</td><td>12,488</td><td>13,063</td><td>12,630</td></tr><tr><td>Number of shares used in diluted earnings per share calculation</td><td>12,947</td><td>12,602</td><td>13,159</td><td>12,722</td></tr></tbody></table>',\n",
       " '<table><thead><tr><th></th><th colspan=\"2\">Quarter Ended December 31,</th><th colspan=\"2\">Year Ended December 31,</th></tr><tr><th></th><th>2022</th><th>2023 (unaudited)</th><th>2022</th><th>2023 (unaudited)</th></tr></thead><tbody><tr><td colspan=\"5\">Operating activities</td></tr><tr><td colspan=\"5\">Net income 13,624 $ 20,687 $ 59,972 § 73,795 \\n $</td></tr><tr><td colspan=\"5\">Adjustments:</td></tr><tr><td>Depreciation of property and equipment</td><td>3,602</td><td>3,316</td><td>13,475</td><td>11,946</td></tr><tr><td>Stock-based compensation expense</td><td>5,100</td><td>5,659</td><td>19,362</td><td>22,460</td></tr><tr><td>Deferred income taxes</td><td>(1,924)</td><td>(1,670)</td><td>(8,081)</td><td>(7,763)</td></tr><tr><td>(Gain) loss on debt and equity securities, net</td><td>1,663</td><td>(471)</td><td>5,519</td><td>823</td></tr><tr><td>Other</td><td>1,260</td><td>1,665</td><td>3,483</td><td>4,330</td></tr><tr><td colspan=\"5\">Changes in assets and liabilities, net of effects of acquisitions:</td></tr><tr><td>Accounts receivable, net</td><td>(4,615)</td><td>(6,518)</td><td>(2,317)</td><td>(7,833)</td></tr><tr><td>Income taxes, net</td><td>1,446</td><td>(9,869)</td><td>584</td><td>523</td></tr><tr><td>Other assets</td><td>(778)</td><td>740</td><td>(5,046)</td><td>(2,143)</td></tr><tr><td>Accounts payable</td><td>(28)</td><td>427</td><td>707</td><td>664</td></tr><tr><td>Accrued expenses and other liabilities</td><td>3,424</td><td>4,317</td><td>3,915</td><td>3,937</td></tr><tr><td>Accrued revenue share</td><td>577</td><td>797</td><td>(445)</td><td>482</td></tr><tr><td>Deferred revenue</td><td>263</td><td>(165)</td><td>367</td><td>525</td></tr><tr><td>Net cash provided by operating activities</td><td>23,614</td><td>18,915</td><td>91,495</td><td>101,746</td></tr><tr><td colspan=\"5\">Investing activities</td></tr><tr><td>Purchases of property and equipment</td><td>(7,595)</td><td>(11,019)</td><td>(31,485)</td><td>(32,251)</td></tr><tr><td>Purchases of marketable securities</td><td>(11,621)</td><td>(28,436)</td><td>(78,874)</td><td>(77,858)</td></tr><tr><td>Maturities and sales of marketable securities</td><td>13,735</td><td>34,030</td><td>97,822</td><td>86,672</td></tr><tr><td>Purchases of non-marketable securities</td><td>(903)</td><td>(851)</td><td>(2,531)</td><td>(3,027)</td></tr><tr><td>Maturities and sales of non-marketable securities</td><td>19</td><td>204</td><td>150</td><td>947</td></tr><tr><td>Acquisitions, net of cash acquired, and purchases of intangible assets</td><td>(84)</td><td>(29)</td><td>(6,969)</td><td>(495)</td></tr><tr><td>Other investing activities</td><td>222</td><td>(66)</td><td>1,589</td><td>(1,051)</td></tr><tr><td>Net cash used in investing activities</td><td>(6,227)</td><td>(6,167)</td><td>(20,298)</td><td>(27,063)</td></tr><tr><td colspan=\"5\">Financing activities</td></tr><tr><td>Net payments related to stock-based award activities</td><td>(2,079)</td><td>(2,680)</td><td>(9,300)</td><td>(9,837)</td></tr><tr><td>Repurchases of stock</td><td>(15,407)</td><td>(16,191)</td><td>(59,296)</td><td>(61,504)</td></tr><tr><td>Proceeds from issuance of debt, net of costs</td><td>8,550</td><td>1,492</td><td>52,872</td><td>10,790</td></tr><tr><td>Repayments of debt</td><td>(8,718)</td><td>(1,929)</td><td>(54,068)</td><td>(11,550)</td></tr><tr><td>Proceeds from sale of interest in consolidated entities, net</td><td>25</td><td>0</td><td>35</td><td>8</td></tr><tr><td>Net cash used in financing activities</td><td>(17,629)</td><td>(19,308)</td><td>(69,757)</td><td>(72,093)</td></tr><tr><td>Effect of exchange rate changes on cash and cash equivalents</td><td>137</td><td>(94)</td><td>(506)</td><td>(421)</td></tr><tr><td>Net increase (decrease) in cash and cash equivalents</td><td>(105)</td><td>(6,654)</td><td>934</td><td>2,169</td></tr><tr><td>Cash and cash equivalents at beginning of period</td><td>21,984</td><td>30,702</td><td>20,945</td><td>21,879</td></tr><tr><td>Cash and cash equivalents at end of period</td><td>$ 21,879</td><td>§ 24,048</td><td>$ 21,879</td><td>$ 24,048</td></tr></tbody></table>',\n",
       " '<table><thead><tr><th></th><th>Quarter Ended 2022</th><th>December 31, 2023</th></tr></thead><tbody><tr><td colspan=\"3\">Revenues:</td></tr><tr><td>Google Services</td><td>67,838 $</td><td>76,311</td></tr><tr><td>Google Cloud</td><td>7,315</td><td>9,192</td></tr><tr><td>Other Bets</td><td>226</td><td>657</td></tr><tr><td>Hedging gains (losses)</td><td>669</td><td>150</td></tr><tr><td>Total revenues</td><td>76,048 $</td><td>86,310</td></tr><tr><td colspan=\"3\">Operating income (loss):</td></tr><tr><td>Google Services</td><td>20,222 $</td><td>26,730</td></tr><tr><td>Google Cloud</td><td>(186)</td><td>864</td></tr><tr><td>Other Bets</td><td>(1,237)</td><td>(863)</td></tr><tr><td>Alphabet-level activities</td><td>(639)</td><td>(3,034)</td></tr><tr><td>Total income from operations</td><td>18,160 $</td><td>23,697</td></tr></tbody></table>',\n",
       " '<table><thead><tr><th></th><th colspan=\"2\">Quarter Ended December 31 2022 2023</th></tr></thead><tbody><tr><td>Interest income</td><td>659 $</td><td>$ 1,110</td></tr><tr><td>Interest expense</td><td>( 0)</td><td>(69)</td></tr><tr><td>Foreign currency exchange gain (loss), net</td><td>(185</td><td>(449)</td></tr><tr><td>Gain (loss) on debt securities, net</td><td>(176 i</td><td>(115)</td></tr><tr><td>Gain (loss) on equity securities, net</td><td>(1,487</td><td>586</td></tr><tr><td>Performance fees</td><td>193</td><td>(45)</td></tr><tr><td>Income (loss) and impairment from equity method investments, net</td><td>(31)</td><td>(256)</td></tr><tr><td>Other</td><td>104</td><td>(47)</td></tr><tr><td>Other income (expense), net</td><td>(1,013) $</td><td>§ 715</td></tr></tbody></table>',\n",
       " '<table><thead><tr><th></th><th>Quarter Ended December 31, 2023</th></tr></thead><tbody><tr><td>Net cash provided by operating activities</td><td>$ 18,915</td></tr><tr><td>Less: purchases of property and equipment</td><td>(11,019)</td></tr><tr><td>Free cash flow</td><td>7,896 \\n $</td></tr></tbody></table>',\n",
       " '<table><thead><tr><th></th><th></th><th></th><th colspan=\"6\">Quarter Ended December 31, 2023</th></tr><tr><th></th><th colspan=\"2\" rowspan=\"2\">Quarter Ended December 31,</th><th rowspan=\"3\">Less FX _ Effect</th><th rowspan=\"3\">Constant Currency \\n Revenues</th><th colspan=\"4\">% Change from Prior Period</th></tr><tr><th></th><th rowspan=\"2\">As Reported</th><th rowspan=\"2\">Less Hedging \\n Effect</th><th rowspan=\"2\">Less FX Effect</th><th rowspan=\"2\">Constant Currency \\n Revenues</th></tr><tr><th></th><th>2022</th><th>2023</th></tr></thead><tbody><tr><td>United States</td><td>36,982 $</td><td>$ 41,995</td><td>0</td><td>$ 41,99</td><td>14 %\\n %</td><td></td><td>%</td><td>14 %\\n %</td></tr><tr><td>EMEA</td><td>21,762</td><td>25,010</td><td>1,105</td><td>23,905</td><td>15 %\\n %</td><td></td><td>%</td><td>10 %</td></tr><tr><td>APAC</td><td>11,979</td><td>13,979</td><td>(90)</td><td>14,069</td><td>17 %\\n %</td><td></td><td>%</td><td>17 %\\n %</td></tr><tr><td>Other Americas</td><td>4,656</td><td>5,176</td><td>(75)</td><td>5,251</td><td>11 %</td><td></td><td>(2) %</td><td>13 %</td></tr><tr><td>Revenues, excluding hedging effect</td><td>75,379</td><td>86,160</td><td>940</td><td>85,220</td><td>14 %\\n %</td><td></td><td>1%</td><td>13 %\\n %</td></tr><tr><td>Hedging gains (losses)</td><td>669</td><td>150</td><td></td><td></td><td></td><td></td><td></td><td></td></tr><tr><td>Total revenues\\'”</td><td>76,048 $</td><td>86,310</td><td></td><td>$ 85,220</td><td>13 %\\n %</td><td>(1) %</td><td>1 %</td><td>13 %\\n %</td></tr></tbody></table>',\n",
       " '<table><thead><tr><th></th><th></th><th></th><th colspan=\"6\">Quarter Ended December 31, 2023</th></tr><tr><th></th><th colspan=\"2\"></th><th rowspan=\"2\">Less FX Effect</th><th rowspan=\"2\">Constant Currency \\n Revenues</th><th colspan=\"4\">% Change from Prior Period</th></tr><tr><th></th><th>Quarter September \\n 30, 2023</th><th>Ended December 31, 2023</th><th>As Reported</th><th>Less Hedging \\n Effect</th><th>Less FX Effect</th><th>Constant Currency \\n Revenues</th></tr></thead><tbody><tr><td>United States</td><td>$ 36,354</td><td>$ 41,995</td><td>_— 0</td><td>§ 41995</td><td>e  16 %\\n %</td><td></td><td>0 %</td><td>16 %\\n %</td></tr><tr><td>EMEA</td><td>22,661</td><td>25,010</td><td>508</td><td>25,518</td><td>10 %</td><td></td><td>(3) %</td><td>13 %</td></tr><tr><td>APAC</td><td>13,126</td><td>13,979</td><td>196 é %</td><td>14,175</td><td>%</td><td></td><td>(2) %\\n é</td><td>%</td></tr><tr><td>Other Americas</td><td>4,553</td><td>5,176</td><td>151</td><td>5,327</td><td>14 %</td><td></td><td>(3) %</td><td>17 %</td></tr><tr><td>Revenues, excluding hedging effect</td><td>76,694</td><td>86,160</td><td>855</td><td>87,015</td><td>12 %\\n %</td><td></td><td>(1) %</td><td>13 %\\n %</td></tr><tr><td>Hedging gains (losses)</td><td>(1)</td><td>150</td><td></td><td></td><td></td><td></td><td></td><td></td></tr><tr><td>Total revenues\\'”</td><td>76,693 $</td><td>§ 86,310</td><td></td><td>$ 87,015</td><td>13 %\\n %</td><td>1%</td><td>(1) %</td><td>13 %\\n %</td></tr></tbody></table>',\n",
       " '<table><thead><tr><th></th><th></th><th></th><th colspan=\"6\">Year Ended December 31, 2023</th></tr><tr><th></th><th colspan=\"2\"></th><th rowspan=\"2\">Less FX _— Effect</th><th rowspan=\"2\">Constant Currenc Revenues</th><th colspan=\"4\">% Change from Prior Period</th></tr><tr><th></th><th>Year Ended 2022</th><th>December 31, 2023</th><th>As Reported</th><th>Less Hedging \\n Effect</th><th>Less FX Effect</th><th>Constant Currency \\n Revenues</th></tr></thead><tbody><tr><td>United States</td><td>$ 134,814</td><td>$ 146,286</td><td></td><td>$ 146,286</td><td>%</td><td></td><td>0 %</td><td>%</td></tr><tr><td>EMEA</td><td>82,062</td><td>91,038</td><td>460</td><td>90,578</td><td>11 %</td><td></td><td>1%</td><td>10 %\\n %</td></tr><tr><td>APAC</td><td>47,024</td><td>51,514</td><td>(1,759)</td><td>53,273</td><td>10 %\\n %</td><td></td><td>(3) %</td><td>13 %\\n %</td></tr><tr><td>Other Americas</td><td>16,976</td><td>18,320</td><td>(654)</td><td>18,974</td><td>8 %</td><td></td><td>(4) %</td><td>12 %\\n %</td></tr><tr><td>Revenues, excluding hedging effect</td><td>280,876</td><td>307,158</td><td>(1,953)</td><td>309,111</td><td>9 %</td><td></td><td>(1) %</td><td>10 %\\n %</td></tr><tr><td>Hedging gains (losses)</td><td>1,960</td><td>236</td><td></td><td></td><td></td><td></td><td></td><td></td></tr><tr><td>Total revenues\\'”</td><td>$ 282,836</td><td>$ 307,394</td><td></td><td>$ 309,111</td><td>9 %</td><td>0 %</td><td>(1) %</td><td>10 %\\n %</td></tr></tbody></table>',\n",
       " '<table><thead><tr><th></th><th colspan=\"2\" rowspan=\"2\">Quarter Ended December</th><th colspan=\"6\">Quarter Ended December 31, 2022</th></tr><tr><th></th><th rowspan=\"2\">Less FX Effect</th><th rowspan=\"2\">Constant Currency \\n Revenues</th><th colspan=\"4\">% Change from Prior Period</th></tr><tr><th></th><th>2021</th><th>31,\\n 2022</th><th>As Reported</th><th>Less Hedging \\n Effect</th><th>Less FX Effect</th><th>Constant Currency \\n Revenues</th></tr></thead><tbody><tr><td>Revenues excluding hedging effect</td><td>$ 75122</td><td>§ 75,379</td><td>_— (4,733)</td><td>$ 80,112</td><td>%</td><td></td><td>(7) %</td><td>%</td></tr><tr><td>Hedging gains (losses)</td><td>203</td><td>669</td><td></td><td></td><td></td><td></td><td></td><td></td></tr><tr><td>Total revenues</td><td>$ 75325</td><td>§ 76,048</td><td></td><td>$ 80,112</td><td>1%</td><td>1%</td><td>% @)</td><td>%</td></tr></tbody></table>',\n",
       " '<table><thead><tr><th></th><th></th><th></th><th colspan=\"6\">Year Ended December 31, 2022</th></tr><tr><th></th><th colspan=\"2\" rowspan=\"2\">Year Ended December 31, 2021 2022</th><th rowspan=\"2\">Less FX Effect</th><th rowspan=\"2\">Constant Revenues\\n Currency</th><th colspan=\"4\">% Change from Prior Period</th></tr><tr><th></th><th>As Reported</th><th>Less Hedging \\n Effect</th><th>Less FX Effect</th><th>Constant Revenues\\n Currency</th></tr></thead><tbody><tr><td>Revenues excluding hedging effect</td><td>$ 257,488</td><td>$ 280,876</td><td>$ (13,324)</td><td>$ 294,200</td><td>9 %</td><td></td><td>(5) %</td><td>14 %\\n %</td></tr><tr><td>Hedging gains (losses)</td><td>149</td><td>1,960</td><td></td><td></td><td></td><td></td><td></td><td></td></tr><tr><td>Total revenues</td><td>$ 257,637</td><td>$ 282,836</td><td></td><td>$ 294,200</td><td>10 %\\n %</td><td>1%</td><td>(5) %</td><td>14 %\\n %</td></tr></tbody></table>']"
      ]
     },
     "execution_count": 16,
     "metadata": {},
     "output_type": "execute_result"
    }
   ],
   "source": [
    "tables"
   ]
  },
  {
   "cell_type": "code",
   "execution_count": 28,
   "metadata": {},
   "outputs": [],
   "source": [
    "def get_data(file_bytes):\n",
    "    url = unstructured_api_url\n",
    "\n",
    "    headers = {\n",
    "        \"Accept\": \"application/json\",\n",
    "        \"unstructured-api-key\": unstructured_api_key\n",
    "    }\n",
    "\n",
    "    files = {\n",
    "        \"files\": (\"document\", file_bytes, \"application/pdf\")\n",
    "    }\n",
    "\n",
    "    response = requests.post(url, headers = headers, files = files)\n",
    "\n",
    "    tables = []\n",
    "    texts = []\n",
    "\n",
    "    for element in response.json():\n",
    "        if (element.get(\"type\") == \"Table\"):\n",
    "            tables.append(element[\"metadata\"][\"text_as_html\"])\n",
    "\n",
    "        elif (element.get(\"type\") in [\"NarrativeText\", \"UncategorizedText\"]):\n",
    "            texts.append(element[\"text\"])"
   ]
  },
  {
   "cell_type": "code",
   "execution_count": null,
   "metadata": {},
   "outputs": [],
   "source": []
  }
 ],
 "metadata": {
  "kernelspec": {
   "display_name": ".venv",
   "language": "python",
   "name": "python3"
  },
  "language_info": {
   "codemirror_mode": {
    "name": "ipython",
    "version": 3
   },
   "file_extension": ".py",
   "mimetype": "text/x-python",
   "name": "python",
   "nbconvert_exporter": "python",
   "pygments_lexer": "ipython3",
   "version": "3.11.8"
  }
 },
 "nbformat": 4,
 "nbformat_minor": 2
}
