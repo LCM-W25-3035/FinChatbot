{
 "cells": [
  {
   "cell_type": "markdown",
   "metadata": {},
   "source": [
    "To load the data, first we need to change the current working directory to the main folder, so that we can have access to the Data folder."
   ]
  },
  {
   "cell_type": "code",
   "execution_count": 17,
   "metadata": {},
   "outputs": [
    {
     "data": {
      "text/plain": [
       "'c:\\\\Users\\\\nav6d'"
      ]
     },
     "execution_count": 17,
     "metadata": {},
     "output_type": "execute_result"
    }
   ],
   "source": [
    "%pwd"
   ]
  },
  {
   "cell_type": "code",
   "execution_count": 18,
   "metadata": {},
   "outputs": [],
   "source": [
    "import os"
   ]
  },
  {
   "cell_type": "code",
   "execution_count": 19,
   "metadata": {},
   "outputs": [],
   "source": [
    "os.chdir(\"../\")"
   ]
  },
  {
   "cell_type": "code",
   "execution_count": 20,
   "metadata": {},
   "outputs": [
    {
     "data": {
      "text/plain": [
       "'c:\\\\Users'"
      ]
     },
     "execution_count": 20,
     "metadata": {},
     "output_type": "execute_result"
    }
   ],
   "source": [
    "%pwd"
   ]
  },
  {
   "cell_type": "markdown",
   "metadata": {},
   "source": [
    "Calling the Data"
   ]
  },
  {
   "cell_type": "code",
   "execution_count": 21,
   "metadata": {},
   "outputs": [],
   "source": [
    "import numpy as np\n",
    "import pandas as pd"
   ]
  },
  {
   "cell_type": "code",
   "execution_count": 22,
   "metadata": {},
   "outputs": [
    {
     "ename": "FileNotFoundError",
     "evalue": "File Data/FinQ&A/train_t.json does not exist",
     "output_type": "error",
     "traceback": [
      "\u001b[31m---------------------------------------------------------------------------\u001b[39m",
      "\u001b[31mFileNotFoundError\u001b[39m                         Traceback (most recent call last)",
      "\u001b[36mCell\u001b[39m\u001b[36m \u001b[39m\u001b[32mIn[22]\u001b[39m\u001b[32m, line 1\u001b[39m\n\u001b[32m----> \u001b[39m\u001b[32m1\u001b[39m dataset = \u001b[43mpd\u001b[49m\u001b[43m.\u001b[49m\u001b[43mread_json\u001b[49m\u001b[43m(\u001b[49m\u001b[33;43m\"\u001b[39;49m\u001b[33;43mData/FinQ&A/train_t.json\u001b[39;49m\u001b[33;43m\"\u001b[39;49m\u001b[43m)\u001b[49m\n\u001b[32m      2\u001b[39m dataset.head()\n",
      "\u001b[36mFile \u001b[39m\u001b[32mc:\\Users\\nav6d\\FinChatbot\\.venv\\Lib\\site-packages\\pandas\\io\\json\\_json.py:791\u001b[39m, in \u001b[36mread_json\u001b[39m\u001b[34m(path_or_buf, orient, typ, dtype, convert_axes, convert_dates, keep_default_dates, precise_float, date_unit, encoding, encoding_errors, lines, chunksize, compression, nrows, storage_options, dtype_backend, engine)\u001b[39m\n\u001b[32m    788\u001b[39m \u001b[38;5;28;01mif\u001b[39;00m convert_axes \u001b[38;5;129;01mis\u001b[39;00m \u001b[38;5;28;01mNone\u001b[39;00m \u001b[38;5;129;01mand\u001b[39;00m orient != \u001b[33m\"\u001b[39m\u001b[33mtable\u001b[39m\u001b[33m\"\u001b[39m:\n\u001b[32m    789\u001b[39m     convert_axes = \u001b[38;5;28;01mTrue\u001b[39;00m\n\u001b[32m--> \u001b[39m\u001b[32m791\u001b[39m json_reader = \u001b[43mJsonReader\u001b[49m\u001b[43m(\u001b[49m\n\u001b[32m    792\u001b[39m \u001b[43m    \u001b[49m\u001b[43mpath_or_buf\u001b[49m\u001b[43m,\u001b[49m\n\u001b[32m    793\u001b[39m \u001b[43m    \u001b[49m\u001b[43morient\u001b[49m\u001b[43m=\u001b[49m\u001b[43morient\u001b[49m\u001b[43m,\u001b[49m\n\u001b[32m    794\u001b[39m \u001b[43m    \u001b[49m\u001b[43mtyp\u001b[49m\u001b[43m=\u001b[49m\u001b[43mtyp\u001b[49m\u001b[43m,\u001b[49m\n\u001b[32m    795\u001b[39m \u001b[43m    \u001b[49m\u001b[43mdtype\u001b[49m\u001b[43m=\u001b[49m\u001b[43mdtype\u001b[49m\u001b[43m,\u001b[49m\n\u001b[32m    796\u001b[39m \u001b[43m    \u001b[49m\u001b[43mconvert_axes\u001b[49m\u001b[43m=\u001b[49m\u001b[43mconvert_axes\u001b[49m\u001b[43m,\u001b[49m\n\u001b[32m    797\u001b[39m \u001b[43m    \u001b[49m\u001b[43mconvert_dates\u001b[49m\u001b[43m=\u001b[49m\u001b[43mconvert_dates\u001b[49m\u001b[43m,\u001b[49m\n\u001b[32m    798\u001b[39m \u001b[43m    \u001b[49m\u001b[43mkeep_default_dates\u001b[49m\u001b[43m=\u001b[49m\u001b[43mkeep_default_dates\u001b[49m\u001b[43m,\u001b[49m\n\u001b[32m    799\u001b[39m \u001b[43m    \u001b[49m\u001b[43mprecise_float\u001b[49m\u001b[43m=\u001b[49m\u001b[43mprecise_float\u001b[49m\u001b[43m,\u001b[49m\n\u001b[32m    800\u001b[39m \u001b[43m    \u001b[49m\u001b[43mdate_unit\u001b[49m\u001b[43m=\u001b[49m\u001b[43mdate_unit\u001b[49m\u001b[43m,\u001b[49m\n\u001b[32m    801\u001b[39m \u001b[43m    \u001b[49m\u001b[43mencoding\u001b[49m\u001b[43m=\u001b[49m\u001b[43mencoding\u001b[49m\u001b[43m,\u001b[49m\n\u001b[32m    802\u001b[39m \u001b[43m    \u001b[49m\u001b[43mlines\u001b[49m\u001b[43m=\u001b[49m\u001b[43mlines\u001b[49m\u001b[43m,\u001b[49m\n\u001b[32m    803\u001b[39m \u001b[43m    \u001b[49m\u001b[43mchunksize\u001b[49m\u001b[43m=\u001b[49m\u001b[43mchunksize\u001b[49m\u001b[43m,\u001b[49m\n\u001b[32m    804\u001b[39m \u001b[43m    \u001b[49m\u001b[43mcompression\u001b[49m\u001b[43m=\u001b[49m\u001b[43mcompression\u001b[49m\u001b[43m,\u001b[49m\n\u001b[32m    805\u001b[39m \u001b[43m    \u001b[49m\u001b[43mnrows\u001b[49m\u001b[43m=\u001b[49m\u001b[43mnrows\u001b[49m\u001b[43m,\u001b[49m\n\u001b[32m    806\u001b[39m \u001b[43m    \u001b[49m\u001b[43mstorage_options\u001b[49m\u001b[43m=\u001b[49m\u001b[43mstorage_options\u001b[49m\u001b[43m,\u001b[49m\n\u001b[32m    807\u001b[39m \u001b[43m    \u001b[49m\u001b[43mencoding_errors\u001b[49m\u001b[43m=\u001b[49m\u001b[43mencoding_errors\u001b[49m\u001b[43m,\u001b[49m\n\u001b[32m    808\u001b[39m \u001b[43m    \u001b[49m\u001b[43mdtype_backend\u001b[49m\u001b[43m=\u001b[49m\u001b[43mdtype_backend\u001b[49m\u001b[43m,\u001b[49m\n\u001b[32m    809\u001b[39m \u001b[43m    \u001b[49m\u001b[43mengine\u001b[49m\u001b[43m=\u001b[49m\u001b[43mengine\u001b[49m\u001b[43m,\u001b[49m\n\u001b[32m    810\u001b[39m \u001b[43m\u001b[49m\u001b[43m)\u001b[49m\n\u001b[32m    812\u001b[39m \u001b[38;5;28;01mif\u001b[39;00m chunksize:\n\u001b[32m    813\u001b[39m     \u001b[38;5;28;01mreturn\u001b[39;00m json_reader\n",
      "\u001b[36mFile \u001b[39m\u001b[32mc:\\Users\\nav6d\\FinChatbot\\.venv\\Lib\\site-packages\\pandas\\io\\json\\_json.py:904\u001b[39m, in \u001b[36mJsonReader.__init__\u001b[39m\u001b[34m(self, filepath_or_buffer, orient, typ, dtype, convert_axes, convert_dates, keep_default_dates, precise_float, date_unit, encoding, lines, chunksize, compression, nrows, storage_options, encoding_errors, dtype_backend, engine)\u001b[39m\n\u001b[32m    902\u001b[39m     \u001b[38;5;28mself\u001b[39m.data = filepath_or_buffer\n\u001b[32m    903\u001b[39m \u001b[38;5;28;01melif\u001b[39;00m \u001b[38;5;28mself\u001b[39m.engine == \u001b[33m\"\u001b[39m\u001b[33mujson\u001b[39m\u001b[33m\"\u001b[39m:\n\u001b[32m--> \u001b[39m\u001b[32m904\u001b[39m     data = \u001b[38;5;28;43mself\u001b[39;49m\u001b[43m.\u001b[49m\u001b[43m_get_data_from_filepath\u001b[49m\u001b[43m(\u001b[49m\u001b[43mfilepath_or_buffer\u001b[49m\u001b[43m)\u001b[49m\n\u001b[32m    905\u001b[39m     \u001b[38;5;28mself\u001b[39m.data = \u001b[38;5;28mself\u001b[39m._preprocess_data(data)\n",
      "\u001b[36mFile \u001b[39m\u001b[32mc:\\Users\\nav6d\\FinChatbot\\.venv\\Lib\\site-packages\\pandas\\io\\json\\_json.py:960\u001b[39m, in \u001b[36mJsonReader._get_data_from_filepath\u001b[39m\u001b[34m(self, filepath_or_buffer)\u001b[39m\n\u001b[32m    952\u001b[39m     filepath_or_buffer = \u001b[38;5;28mself\u001b[39m.handles.handle\n\u001b[32m    953\u001b[39m \u001b[38;5;28;01melif\u001b[39;00m (\n\u001b[32m    954\u001b[39m     \u001b[38;5;28misinstance\u001b[39m(filepath_or_buffer, \u001b[38;5;28mstr\u001b[39m)\n\u001b[32m    955\u001b[39m     \u001b[38;5;129;01mand\u001b[39;00m filepath_or_buffer.lower().endswith(\n\u001b[32m   (...)\u001b[39m\u001b[32m    958\u001b[39m     \u001b[38;5;129;01mand\u001b[39;00m \u001b[38;5;129;01mnot\u001b[39;00m file_exists(filepath_or_buffer)\n\u001b[32m    959\u001b[39m ):\n\u001b[32m--> \u001b[39m\u001b[32m960\u001b[39m     \u001b[38;5;28;01mraise\u001b[39;00m \u001b[38;5;167;01mFileNotFoundError\u001b[39;00m(\u001b[33mf\u001b[39m\u001b[33m\"\u001b[39m\u001b[33mFile \u001b[39m\u001b[38;5;132;01m{\u001b[39;00mfilepath_or_buffer\u001b[38;5;132;01m}\u001b[39;00m\u001b[33m does not exist\u001b[39m\u001b[33m\"\u001b[39m)\n\u001b[32m    961\u001b[39m \u001b[38;5;28;01melse\u001b[39;00m:\n\u001b[32m    962\u001b[39m     warnings.warn(\n\u001b[32m    963\u001b[39m         \u001b[33m\"\u001b[39m\u001b[33mPassing literal json to \u001b[39m\u001b[33m'\u001b[39m\u001b[33mread_json\u001b[39m\u001b[33m'\u001b[39m\u001b[33m is deprecated and \u001b[39m\u001b[33m\"\u001b[39m\n\u001b[32m    964\u001b[39m         \u001b[33m\"\u001b[39m\u001b[33mwill be removed in a future version. To read from a \u001b[39m\u001b[33m\"\u001b[39m\n\u001b[32m   (...)\u001b[39m\u001b[32m    967\u001b[39m         stacklevel=find_stack_level(),\n\u001b[32m    968\u001b[39m     )\n",
      "\u001b[31mFileNotFoundError\u001b[39m: File Data/FinQ&A/train_t.json does not exist"
     ]
    }
   ],
   "source": [
    "dataset = pd.read_json(\"Data/FinQ&A/train_t.json\")\n",
    "dataset.head()"
   ]
  },
  {
   "cell_type": "markdown",
   "metadata": {},
   "source": [
    "Exploring the first 2 columns data.\n",
    "- pre_text\n",
    "- post_text"
   ]
  },
  {
   "cell_type": "code",
   "execution_count": null,
   "metadata": {},
   "outputs": [
    {
     "data": {
      "text/plain": [
       "['26 | 2009 annual report in fiscal 2008 , revenues in the credit union systems and services business segment increased 14% ( 14 % ) from fiscal 2007 .',\n",
       " 'all revenue components within the segment experienced growth during fiscal 2008 .',\n",
       " 'license revenue generated the largest dollar growth in revenue as episys ae , our flagship core processing system aimed at larger credit unions , experienced strong sales throughout the year .',\n",
       " 'support and service revenue , which is the largest component of total revenues for the credit union segment , experienced 34 percent growth in eft support and 10 percent growth in in-house support .',\n",
       " 'gross profit in this business segment increased $ 9344 in fiscal 2008 compared to fiscal 2007 , due primarily to the increase in license revenue , which carries the highest margins .',\n",
       " 'liquidity and capital resources we have historically generated positive cash flow from operations and have generally used funds generated from operations and short-term borrowings on our revolving credit facility to meet capital requirements .',\n",
       " 'we expect this trend to continue in the future .',\n",
       " 'the company 2019s cash and cash equivalents increased to $ 118251 at june 30 , 2009 from $ 65565 at june 30 , 2008 .',\n",
       " 'the following table summarizes net cash from operating activities in the statement of cash flows : 2009 2008 2007 .']"
      ]
     },
     "execution_count": 11,
     "metadata": {},
     "output_type": "execute_result"
    }
   ],
   "source": [
    "dataset[\"pre_text\"].values[0]"
   ]
  },
  {
   "cell_type": "markdown",
   "metadata": {},
   "source": [
    "The text in the `pre_text` column seems to provide a general and vague discussion about the company's financial performance. It highlights aspects such as revenue growth, profitability, and liquidity but lacks detailed analysis or comprehensive financial."
   ]
  },
  {
   "cell_type": "code",
   "execution_count": null,
   "metadata": {},
   "outputs": [
    {
     "data": {
      "text/plain": [
       "['year ended june 30 , cash provided by operations increased $ 25587 to $ 206588 for the fiscal year ended june 30 , 2009 as compared to $ 181001 for the fiscal year ended june 30 , 2008 .',\n",
       " 'this increase is primarily attributable to a decrease in receivables compared to the same period a year ago of $ 21214 .',\n",
       " 'this decrease is largely the result of fiscal 2010 annual software maintenance billings being provided to customers earlier than in the prior year , which allowed more cash to be collected before the end of the fiscal year than in previous years .',\n",
       " 'further , we collected more cash overall related to revenues that will be recognized in subsequent periods in the current year than in fiscal 2008 .',\n",
       " 'cash used in investing activities for the fiscal year ended june 2009 was $ 59227 and includes $ 3027 in contingent consideration paid on prior years 2019 acquisitions .',\n",
       " 'cash used in investing activities for the fiscal year ended june 2008 was $ 102148 and includes payments for acquisitions of $ 48109 , plus $ 1215 in contingent consideration paid on prior years 2019 acquisitions .',\n",
       " 'capital expenditures for fiscal 2009 were $ 31562 compared to $ 31105 for fiscal 2008 .',\n",
       " 'cash used for software development in fiscal 2009 was $ 24684 compared to $ 23736 during the prior year .',\n",
       " 'net cash used in financing activities for the current fiscal year was $ 94675 and includes the repurchase of 3106 shares of our common stock for $ 58405 , the payment of dividends of $ 26903 and $ 13489 net repayment on our revolving credit facilities .',\n",
       " 'cash used in financing activities was partially offset by proceeds of $ 3773 from the exercise of stock options and the sale of common stock ( through the employee stock purchase plan ) and $ 348 excess tax benefits from stock option exercises .',\n",
       " 'during fiscal 2008 , net cash used in financing activities for the fiscal year was $ 101905 and includes the repurchase of 4200 shares of our common stock for $ 100996 , the payment of dividends of $ 24683 and $ 429 net repayment on our revolving credit facilities .',\n",
       " 'cash used in financing activities was partially offset by proceeds of $ 20394 from the exercise of stock options and the sale of common stock and $ 3809 excess tax benefits from stock option exercises .',\n",
       " 'beginning during fiscal 2008 , us financial markets and many of the largest us financial institutions have been shaken by negative developments in the home mortgage industry and the mortgage markets , and particularly the markets for subprime mortgage-backed securities .',\n",
       " 'since that time , these and other such developments have resulted in a broad , global economic downturn .',\n",
       " 'while we , as is the case with most companies , have experienced the effects of this downturn , we have not experienced any significant issues with our current collection efforts , and we believe that any future impact to our liquidity will be minimized by cash generated by recurring sources of revenue and due to our access to available lines of credit. .']"
      ]
     },
     "execution_count": 12,
     "metadata": {},
     "output_type": "execute_result"
    }
   ],
   "source": [
    "dataset[\"post_text\"].values[0]"
   ]
  },
  {
   "cell_type": "markdown",
   "metadata": {},
   "source": [
    "The text in the `post_text` column provides a slightly more detailed breakdown of the company's financial activities compared to the `pre_text`. It includes specific figures and explanations related to:\n",
    "\n",
    "- Cash flow from operating, investing, and financing activities.\n",
    "- The drivers behind changes in cash flow, such as early software maintenance billings and stock repurchases.\n",
    "- Context regarding broader economic conditions and their effects on the company's financial stability.\n"
   ]
  },
  {
   "cell_type": "markdown",
   "metadata": {},
   "source": [
    "Now, the third column."
   ]
  },
  {
   "cell_type": "code",
   "execution_count": null,
   "metadata": {},
   "outputs": [],
   "source": [
    "year = set()\n",
    "stocks = set()\n",
    "for i in dataset[\"filename\"].value_counts().index:\n",
    "    year.add(i.split(\"/\")[1])\n",
    "    stocks.add(i.split(\"/\")[0])"
   ]
  },
  {
   "cell_type": "code",
   "execution_count": null,
   "metadata": {},
   "outputs": [
    {
     "name": "stdout",
     "output_type": "stream",
     "text": [
      "Total Years: 20\n",
      "List of years: ['2000', '2001', '2002', '2003', '2004', '2005', '2006', '2007', '2008', '2009', '2010', '2011', '2012', '2013', '2014', '2015', '2016', '2017', '2018', '2019']\n"
     ]
    }
   ],
   "source": [
    "print(f\"Total Years: {len(year)}\")\n",
    "print(f\"List of years: {sorted(year)}\")"
   ]
  },
  {
   "cell_type": "code",
   "execution_count": null,
   "metadata": {},
   "outputs": [
    {
     "name": "stdout",
     "output_type": "stream",
     "text": [
      "Total number of the companies: 133\n"
     ]
    }
   ],
   "source": [
    "print(f\"Total number of the companies: {len(stocks)}\")"
   ]
  },
  {
   "cell_type": "code",
   "execution_count": null,
   "metadata": {},
   "outputs": [
    {
     "data": {
      "text/plain": [
       "{'AAL',\n",
       " 'AAP',\n",
       " 'AAPL',\n",
       " 'ABMD',\n",
       " 'ADBE',\n",
       " 'ADI',\n",
       " 'AES',\n",
       " 'ALLE',\n",
       " 'ALXN',\n",
       " 'AMAT',\n",
       " 'AMT',\n",
       " 'ANET',\n",
       " 'ANSS',\n",
       " 'AON',\n",
       " 'AOS',\n",
       " 'APD',\n",
       " 'APTV',\n",
       " 'AWK',\n",
       " 'BDX',\n",
       " 'BKNG',\n",
       " 'BKR',\n",
       " 'BLK',\n",
       " 'BLL',\n",
       " 'C',\n",
       " 'CAG',\n",
       " 'CAT',\n",
       " 'CB',\n",
       " 'CDNS',\n",
       " 'CDW',\n",
       " 'CE',\n",
       " 'CMCSA',\n",
       " 'CME',\n",
       " 'CNC',\n",
       " 'D',\n",
       " 'DG',\n",
       " 'DISCA',\n",
       " 'DISH',\n",
       " 'DRE',\n",
       " 'DVN',\n",
       " 'ECL',\n",
       " 'EL',\n",
       " 'EMN',\n",
       " 'EMR',\n",
       " 'EOG',\n",
       " 'ETFC',\n",
       " 'ETR',\n",
       " 'EW',\n",
       " 'EXPD',\n",
       " 'EXR',\n",
       " 'FBHS',\n",
       " 'FIS',\n",
       " 'FITB',\n",
       " 'FRT',\n",
       " 'FTV',\n",
       " 'GIS',\n",
       " 'GPN',\n",
       " 'GRMN',\n",
       " 'GS',\n",
       " 'HFC',\n",
       " 'HIG',\n",
       " 'HII',\n",
       " 'HOLX',\n",
       " 'HST',\n",
       " 'HUM',\n",
       " 'HWM',\n",
       " 'ILMN',\n",
       " 'INTC',\n",
       " 'IP',\n",
       " 'IPG',\n",
       " 'IQV',\n",
       " 'JKHY',\n",
       " 'JPM',\n",
       " 'K',\n",
       " 'KHC',\n",
       " 'KIM',\n",
       " 'KMI',\n",
       " 'L',\n",
       " 'LKQ',\n",
       " 'LLY',\n",
       " 'LMT',\n",
       " 'MA',\n",
       " 'MAA',\n",
       " 'MAR',\n",
       " 'MAS',\n",
       " 'MKTX',\n",
       " 'MMM',\n",
       " 'MO',\n",
       " 'MRK',\n",
       " 'MRO',\n",
       " 'MS',\n",
       " 'MSI',\n",
       " 'NCLH',\n",
       " 'NKE',\n",
       " 'NTAP',\n",
       " 'NWS',\n",
       " 'OKE',\n",
       " 'ORLY',\n",
       " 'PKG',\n",
       " 'PM',\n",
       " 'PNC',\n",
       " 'PPG',\n",
       " 'RCL',\n",
       " 'RE',\n",
       " 'REGN',\n",
       " 'RL',\n",
       " 'RSG',\n",
       " 'SLB',\n",
       " 'SLG',\n",
       " 'SNA',\n",
       " 'SNPS',\n",
       " 'SPGI',\n",
       " 'STT',\n",
       " 'STZ',\n",
       " 'SWKS',\n",
       " 'SYY',\n",
       " 'TFX',\n",
       " 'TMUS',\n",
       " 'TROW',\n",
       " 'TSCO',\n",
       " 'TXN',\n",
       " 'UA',\n",
       " 'UAA',\n",
       " 'UNP',\n",
       " 'UPS',\n",
       " 'V',\n",
       " 'VLO',\n",
       " 'VNO',\n",
       " 'VRTX',\n",
       " 'VTR',\n",
       " 'WELL',\n",
       " 'WMT',\n",
       " 'WRK',\n",
       " 'ZBH'}"
      ]
     },
     "execution_count": 16,
     "metadata": {},
     "output_type": "execute_result"
    }
   ],
   "source": [
    "stocks"
   ]
  },
  {
   "cell_type": "markdown",
   "metadata": {},
   "source": [
    "These stocks are seemed to be part of the s&p500 index."
   ]
  },
  {
   "cell_type": "markdown",
   "metadata": {},
   "source": [
    "The fourth and fifth column."
   ]
  },
  {
   "cell_type": "code",
   "execution_count": null,
   "metadata": {},
   "outputs": [
    {
     "data": {
      "text/plain": [
       "[['', 'Year ended June 30, 2009'],\n",
       " ['2008', '2007'],\n",
       " ['Net income', '$103,102', '$104,222', '$104,681'],\n",
       " ['Non-cash expenses', '74,397', '70,420', '56,348'],\n",
       " ['Change in receivables', '21,214', '(2,913)', '(28,853)'],\n",
       " ['Change in deferred revenue', '21,943', '5,100', '24,576'],\n",
       " ['Change in other assets and liabilities', '(14,068)', '4,172', '17,495'],\n",
       " ['Net cash from operating activities', '$206,588', '$181,001', '$174,247']]"
      ]
     },
     "execution_count": 17,
     "metadata": {},
     "output_type": "execute_result"
    }
   ],
   "source": [
    "dataset[\"table_ori\"].values[0]"
   ]
  },
  {
   "cell_type": "code",
   "execution_count": null,
   "metadata": {},
   "outputs": [
    {
     "data": {
      "text/plain": [
       "[['',\n",
       "  'Year Ended December 31, 2008 (Unaudited)',\n",
       "  'Year Ended December 31, 2007 (Unaudited)'],\n",
       " ['Revenue', '$9,362.2', '$9,244.9'],\n",
       " ['Income from continuing operations available to common stockholders',\n",
       "  '285.7',\n",
       "  '423.2'],\n",
       " ['Basic earnings per share', '.76', '1.10'],\n",
       " ['Diluted earnings per share', '.75', '1.09']]"
      ]
     },
     "execution_count": 18,
     "metadata": {},
     "output_type": "execute_result"
    }
   ],
   "source": [
    "dataset[\"table_ori\"].values[5]"
   ]
  },
  {
   "cell_type": "code",
   "execution_count": null,
   "metadata": {},
   "outputs": [
    {
     "data": {
      "text/plain": [
       "[['', '12/31/04', '12/31/05', '12/31/06', '12/31/07', '12/31/08', '12/31/09'],\n",
       " ['United Parcel Service, Inc.',\n",
       "  '$100.00',\n",
       "  '$89.49',\n",
       "  '$91.06',\n",
       "  '$87.88',\n",
       "  '$70.48',\n",
       "  '$75.95'],\n",
       " ['S&P 500 Index',\n",
       "  '$100.00',\n",
       "  '$104.91',\n",
       "  '$121.48',\n",
       "  '$128.15',\n",
       "  '$80.74',\n",
       "  '$102.11'],\n",
       " ['Dow Jones Transportation Average',\n",
       "  '$100.00',\n",
       "  '$111.65',\n",
       "  '$122.61',\n",
       "  '$124.35',\n",
       "  '$97.72',\n",
       "  '$115.88']]"
      ]
     },
     "execution_count": 20,
     "metadata": {},
     "output_type": "execute_result"
    }
   ],
   "source": [
    "dataset[\"table_ori\"].values[15]"
   ]
  },
  {
   "cell_type": "code",
   "execution_count": null,
   "metadata": {},
   "outputs": [
    {
     "data": {
      "text/plain": [
       "[['2008',\n",
       "  'year ended june 30 2009 2008',\n",
       "  'year ended june 30 2009 2008',\n",
       "  'year ended june 30 2009'],\n",
       " ['net income', '$ 103102', '$ 104222', '$ 104681'],\n",
       " ['non-cash expenses', '74397', '70420', '56348'],\n",
       " ['change in receivables', '21214', '-2913 ( 2913 )', '-28853 ( 28853 )'],\n",
       " ['change in deferred revenue', '21943', '5100', '24576'],\n",
       " ['change in other assets and liabilities',\n",
       "  '-14068 ( 14068 )',\n",
       "  '4172',\n",
       "  '17495'],\n",
       " ['net cash from operating activities', '$ 206588', '$ 181001', '$ 174247']]"
      ]
     },
     "execution_count": 19,
     "metadata": {},
     "output_type": "execute_result"
    }
   ],
   "source": [
    "dataset[\"table\"].values[0]"
   ]
  },
  {
   "cell_type": "code",
   "execution_count": null,
   "metadata": {},
   "outputs": [
    {
     "data": {
      "text/plain": [
       "[['',\n",
       "  'year ended december 31 2008 ( unaudited )',\n",
       "  'year ended december 31 2007 ( unaudited )'],\n",
       " ['revenue', '$ 9362.2', '$ 9244.9'],\n",
       " ['income from continuing operations available to common stockholders',\n",
       "  '285.7',\n",
       "  '423.2'],\n",
       " ['basic earnings per share', '.76', '1.10'],\n",
       " ['diluted earnings per share', '.75', '1.09']]"
      ]
     },
     "execution_count": 21,
     "metadata": {},
     "output_type": "execute_result"
    }
   ],
   "source": [
    "dataset[\"table\"].values[5]"
   ]
  },
  {
   "cell_type": "markdown",
   "metadata": {},
   "source": [
    "These seems to be the data extracted from a table."
   ]
  },
  {
   "cell_type": "markdown",
   "metadata": {},
   "source": [
    "The sixth column"
   ]
  },
  {
   "cell_type": "code",
   "execution_count": null,
   "metadata": {},
   "outputs": [
    {
     "data": {
      "text/plain": [
       "{'question': 'what was the percentage change in the net cash from operating activities from 2008 to 2009',\n",
       " 'answer': '14.1%',\n",
       " 'explanation': '',\n",
       " 'ann_table_rows': [6],\n",
       " 'ann_text_rows': [],\n",
       " 'steps': [{'op': 'minus2-1',\n",
       "   'arg1': '206588',\n",
       "   'arg2': '181001',\n",
       "   'res': '25587'},\n",
       "  {'op': 'divide2-2', 'arg1': '#0', 'arg2': '181001', 'res': '14.1%'}],\n",
       " 'program': 'subtract(206588, 181001), divide(#0, 181001)',\n",
       " 'gold_inds': {'table_6': '2008 the net cash from operating activities of year ended june 30 2009 2008 is $ 206588 ; the net cash from operating activities of year ended june 30 2009 2008 is $ 181001 ; the net cash from operating activities of year ended june 30 2009 is $ 174247 ;'},\n",
       " 'exe_ans': 0.14136,\n",
       " 'program_re': 'divide(subtract(206588, 181001), 181001)'}"
      ]
     },
     "execution_count": 22,
     "metadata": {},
     "output_type": "execute_result"
    }
   ],
   "source": [
    "dataset[\"qa\"].values[0]"
   ]
  },
  {
   "cell_type": "markdown",
   "metadata": {},
   "source": [
    "This appears to be a structured format for a question-answer type scenario with steps for the calculations."
   ]
  },
  {
   "cell_type": "markdown",
   "metadata": {},
   "source": [
    "The seventh column."
   ]
  },
  {
   "cell_type": "code",
   "execution_count": null,
   "metadata": {},
   "outputs": [
    {
     "data": {
      "text/plain": [
       "0        Single_JKHY/2009/page_28.pdf-3_0\n",
       "1        Single_JKHY/2009/page_28.pdf-3_1\n",
       "2        Single_JKHY/2009/page_28.pdf-3_2\n",
       "3        Single_JKHY/2009/page_28.pdf-3_3\n",
       "4        Single_RSG/2008/page_114.pdf-2_0\n",
       "                       ...               \n",
       "11099       Double_IPG/2015/page_24.pdf_1\n",
       "11100       Double_IPG/2015/page_24.pdf_2\n",
       "11101       Double_IPG/2015/page_24.pdf_3\n",
       "11102     Single_CDW/2017/page_56.pdf-2_0\n",
       "11103     Single_CDW/2017/page_56.pdf-2_1\n",
       "Name: id, Length: 11104, dtype: object"
      ]
     },
     "execution_count": 23,
     "metadata": {},
     "output_type": "execute_result"
    }
   ],
   "source": [
    "dataset[\"id\"]"
   ]
  },
  {
   "cell_type": "markdown",
   "metadata": {},
   "source": [
    "It seems this column just tells whether the pdf is single paged or not."
   ]
  },
  {
   "cell_type": "markdown",
   "metadata": {},
   "source": [
    "The eighth column"
   ]
  },
  {
   "cell_type": "code",
   "execution_count": null,
   "metadata": {},
   "outputs": [
    {
     "data": {
      "text/plain": [
       "{'amt_table': \"<table class='wikitable'><tr><td>1</td><td>2008</td><td>year ended june 30 2009 2008</td><td>year ended june 30 2009 2008</td><td>year ended june 30 2009</td></tr><tr><td>2</td><td>net income</td><td>$ 103102</td><td>$ 104222</td><td>$ 104681</td></tr><tr><td>3</td><td>non-cash expenses</td><td>74397</td><td>70420</td><td>56348</td></tr><tr><td>4</td><td>change in receivables</td><td>21214</td><td>-2913 ( 2913 )</td><td>-28853 ( 28853 )</td></tr><tr><td>5</td><td>change in deferred revenue</td><td>21943</td><td>5100</td><td>24576</td></tr><tr><td>6</td><td>change in other assets and liabilities</td><td>-14068 ( 14068 )</td><td>4172</td><td>17495</td></tr><tr><td>7</td><td>net cash from operating activities</td><td>$ 206588</td><td>$ 181001</td><td>$ 174247</td></tr></table>\",\n",
       " 'amt_pre_text': '26 | 2009 annual report in fiscal 2008 , revenues in the credit union systems and services business segment increased 14% ( 14 % ) from fiscal 2007 . all revenue components within the segment experienced growth during fiscal 2008 . license revenue generated the largest dollar growth in revenue as episys ae , our flagship core processing system aimed at larger credit unions , experienced strong sales throughout the year . support and service revenue , which is the largest component of total revenues for the credit union segment , experienced 34 percent growth in eft support and 10 percent growth in in-house support . gross profit in this business segment increased $ 9344 in fiscal 2008 compared to fiscal 2007 , due primarily to the increase in license revenue , which carries the highest margins . liquidity and capital resources we have historically generated positive cash flow from operations and have generally used funds generated from operations and short-term borrowings on our revolving credit facility to meet capital requirements . we expect this trend to continue in the future . the company 2019s cash and cash equivalents increased to $ 118251 at june 30 , 2009 from $ 65565 at june 30 , 2008 . the following table summarizes net cash from operating activities in the statement of cash flows : 2009 2008 2007 .',\n",
       " 'amt_post_text': 'year ended june 30 , cash provided by operations increased $ 25587 to $ 206588 for the fiscal year ended june 30 , 2009 as compared to $ 181001 for the fiscal year ended june 30 , 2008 . this increase is primarily attributable to a decrease in receivables compared to the same period a year ago of $ 21214 . this decrease is largely the result of fiscal 2010 annual software maintenance billings being provided to customers earlier than in the prior year , which allowed more cash to be collected before the end of the fiscal year than in previous years . further , we collected more cash overall related to revenues that will be recognized in subsequent periods in the current year than in fiscal 2008 . cash used in investing activities for the fiscal year ended june 2009 was $ 59227 and includes $ 3027 in contingent consideration paid on prior years 2019 acquisitions . cash used in investing activities for the fiscal year ended june 2008 was $ 102148 and includes payments for acquisitions of $ 48109 , plus $ 1215 in contingent consideration paid on prior years 2019 acquisitions . capital expenditures for fiscal 2009 were $ 31562 compared to $ 31105 for fiscal 2008 . cash used for software development in fiscal 2009 was $ 24684 compared to $ 23736 during the prior year . net cash used in financing activities for the current fiscal year was $ 94675 and includes the repurchase of 3106 shares of our common stock for $ 58405 , the payment of dividends of $ 26903 and $ 13489 net repayment on our revolving credit facilities . cash used in financing activities was partially offset by proceeds of $ 3773 from the exercise of stock options and the sale of common stock ( through the employee stock purchase plan ) and $ 348 excess tax benefits from stock option exercises . during fiscal 2008 , net cash used in financing activities for the fiscal year was $ 101905 and includes the repurchase of 4200 shares of our common stock for $ 100996 , the payment of dividends of $ 24683 and $ 429 net repayment on our revolving credit facilities . cash used in financing activities was partially offset by proceeds of $ 20394 from the exercise of stock options and the sale of common stock and $ 3809 excess tax benefits from stock option exercises . beginning during fiscal 2008 , us financial markets and many of the largest us financial institutions have been shaken by negative developments in the home mortgage industry and the mortgage markets , and particularly the markets for subprime mortgage-backed securities . since that time , these and other such developments have resulted in a broad , global economic downturn . while we , as is the case with most companies , have experienced the effects of this downturn , we have not experienced any significant issues with our current collection efforts , and we believe that any future impact to our liquidity will be minimized by cash generated by recurring sources of revenue and due to our access to available lines of credit. .',\n",
       " 'original_program': 'subtract(206588, 181001), divide(A0, 181001)',\n",
       " 'step_list': ['Ask for number 206588',\n",
       "  'Ask for number 181001',\n",
       "  'subtract(206588, 181001)',\n",
       "  'divide(A0, 181001)'],\n",
       " 'answer_list': ['206588', '181001', 'A0', 'A1'],\n",
       " 'dialogue_break': ['what is the net cash from operating activities in 2009?',\n",
       "  'what about in 2008?',\n",
       "  'what is the difference?',\n",
       "  'what percentage change does this represent?'],\n",
       " 'turn_program_ori': ['206588',\n",
       "  '181001',\n",
       "  'subtract(206588, 181001)',\n",
       "  'subtract(206588, 181001), divide(#0, 181001)'],\n",
       " 'dialogue_break_ori': ['what is the net cash from operating activities in 2009?',\n",
       "  'what about in 2008?',\n",
       "  'what is the difference?',\n",
       "  'what percentage change does this represent?'],\n",
       " 'turn_program': ['206588',\n",
       "  '181001',\n",
       "  'subtract(206588, 181001)',\n",
       "  'subtract(206588, 181001), divide(#0, 181001)'],\n",
       " 'qa_split': [0, 0, 0, 0],\n",
       " 'exe_ans_list': [206588.0, 181001.0, 25587.0, 0.14136],\n",
       " 'cur_program': '206588',\n",
       " 'cur_dial': ['what is the net cash from operating activities in 2009?'],\n",
       " 'exe_ans': 206588.0,\n",
       " 'cur_type': 'number_turn',\n",
       " 'turn_ind': 0,\n",
       " 'gold_ind': {'table_6': '2008 the net cash from operating activities of year ended june 30 2009 2008 is $ 206588 ; the net cash from operating activities of year ended june 30 2009 2008 is $ 181001 ; the net cash from operating activities of year ended june 30 2009 is $ 174247 ;'}}"
      ]
     },
     "execution_count": 24,
     "metadata": {},
     "output_type": "execute_result"
    }
   ],
   "source": [
    "dataset[\"annotation\"].values[0]"
   ]
  },
  {
   "cell_type": "markdown",
   "metadata": {},
   "source": [
    "- The 1st key `amt_table` contains the unextracted data from the column `table_uri`.\n",
    "- The 2nd and 3rd keys are same as the columns `pre_text` and `post_text`.\n",
    "- The 4th key `original_program` contains the method used for the calculations.\n",
    "- The 5th key `step_list` contains the steps taken by the automated model for the calculations.\n",
    "- The 6th key `answer_list` holds the values and the answers of the calculations.\n",
    "- The 7th key `dialogue_break` contains all the questions that was asked for the specific pdf in a single session.\n",
    "- The 8th key `turn_program_ori` contains the steps for calculations.\n",
    "- The 9th key `dialogue_break_ori` is the same as that of 7th key `dialogue_break`.\n",
    "- The 10th key `turn_program` is again the same as 8th key `turn_program_ori`.\n",
    "- The 11th key `qa_split`: No idea\n",
    "- The 12th key `exe_ans_list` a list containing the values and answers.\n",
    "- The 13th key `cur_program`, here it contains the answer to the first question.\n",
    "- The 14th key `cur_dial`, it holds the questions asked by the user. (new questions will be appended)\n",
    "- The 15th key `exe_ans`, answer to the question.\n",
    "- The 16th key `cur_type`: No idea\n",
    "- The 17th key `turn_ind`, this might be the ith question the user asked in a session.\n",
    "- The 18th key `gold_ind`, all the final outputs the automated model gave."
   ]
  },
  {
   "cell_type": "markdown",
   "metadata": {},
   "source": [
    "The 9th and 10th columns."
   ]
  },
  {
   "cell_type": "code",
   "execution_count": null,
   "metadata": {},
   "outputs": [
    {
     "name": "stdout",
     "output_type": "stream",
     "text": [
      "<class 'pandas.core.frame.DataFrame'>\n",
      "RangeIndex: 11104 entries, 0 to 11103\n",
      "Data columns (total 10 columns):\n",
      " #   Column      Non-Null Count  Dtype \n",
      "---  ------      --------------  ----- \n",
      " 0   pre_text    11104 non-null  object\n",
      " 1   post_text   11104 non-null  object\n",
      " 2   filename    11104 non-null  object\n",
      " 3   table_ori   11104 non-null  object\n",
      " 4   table       11104 non-null  object\n",
      " 5   qa          7462 non-null   object\n",
      " 6   id          11104 non-null  object\n",
      " 7   annotation  11104 non-null  object\n",
      " 8   qa_0        3642 non-null   object\n",
      " 9   qa_1        3642 non-null   object\n",
      "dtypes: object(10)\n",
      "memory usage: 867.6+ KB\n"
     ]
    }
   ],
   "source": [
    "dataset.info()"
   ]
  },
  {
   "cell_type": "code",
   "execution_count": null,
   "metadata": {},
   "outputs": [
    {
     "data": {
      "text/plain": [
       "11104"
      ]
     },
     "execution_count": 26,
     "metadata": {},
     "output_type": "execute_result"
    }
   ],
   "source": [
    "len(dataset[~dataset[\"qa\"].isna()]) + len(dataset[~dataset[\"qa_0\"].isna()])"
   ]
  },
  {
   "cell_type": "markdown",
   "metadata": {},
   "source": [
    "It seems when the qa is not nan the other columns qa_1 and qa_2 are nan, whereas when qa is nan, there are values in those 2 columns."
   ]
  },
  {
   "cell_type": "code",
   "execution_count": null,
   "metadata": {},
   "outputs": [],
   "source": [
    "dataset_new = dataset[~dataset[\"qa_0\"].isna()].head().copy()"
   ]
  },
  {
   "cell_type": "code",
   "execution_count": null,
   "metadata": {},
   "outputs": [
    {
     "data": {
      "text/html": [
       "<div>\n",
       "<style scoped>\n",
       "    .dataframe tbody tr th:only-of-type {\n",
       "        vertical-align: middle;\n",
       "    }\n",
       "\n",
       "    .dataframe tbody tr th {\n",
       "        vertical-align: top;\n",
       "    }\n",
       "\n",
       "    .dataframe thead th {\n",
       "        text-align: right;\n",
       "    }\n",
       "</style>\n",
       "<table border=\"1\" class=\"dataframe\">\n",
       "  <thead>\n",
       "    <tr style=\"text-align: right;\">\n",
       "      <th></th>\n",
       "      <th>pre_text</th>\n",
       "      <th>post_text</th>\n",
       "      <th>filename</th>\n",
       "      <th>table_ori</th>\n",
       "      <th>table</th>\n",
       "      <th>qa</th>\n",
       "      <th>id</th>\n",
       "      <th>annotation</th>\n",
       "      <th>qa_0</th>\n",
       "      <th>qa_1</th>\n",
       "    </tr>\n",
       "  </thead>\n",
       "  <tbody>\n",
       "    <tr>\n",
       "      <th>18</th>\n",
       "      <td>[( 1 ) includes shares repurchased through our...</td>\n",
       "      <td>[.]</td>\n",
       "      <td>UPS/2009/page_33.pdf</td>\n",
       "      <td>[[, 12/31/04, 12/31/05, 12/31/06, 12/31/07, 12...</td>\n",
       "      <td>[[, 12/31/04, 12/31/05, 12/31/06, 12/31/07, 12...</td>\n",
       "      <td>NaN</td>\n",
       "      <td>Double_UPS/2009/page_33.pdf_0</td>\n",
       "      <td>{'amt_table': '&lt;table class='wikitable'&gt;&lt;tr&gt;&lt;t...</td>\n",
       "      <td>{'question': 'what is the roi of an investment...</td>\n",
       "      <td>{'question': 'what was the difference in perce...</td>\n",
       "    </tr>\n",
       "    <tr>\n",
       "      <th>19</th>\n",
       "      <td>[( 1 ) includes shares repurchased through our...</td>\n",
       "      <td>[.]</td>\n",
       "      <td>UPS/2009/page_33.pdf</td>\n",
       "      <td>[[, 12/31/04, 12/31/05, 12/31/06, 12/31/07, 12...</td>\n",
       "      <td>[[, 12/31/04, 12/31/05, 12/31/06, 12/31/07, 12...</td>\n",
       "      <td>NaN</td>\n",
       "      <td>Double_UPS/2009/page_33.pdf_1</td>\n",
       "      <td>{'amt_table': '&lt;table class='wikitable'&gt;&lt;tr&gt;&lt;t...</td>\n",
       "      <td>{'question': 'what is the roi of an investment...</td>\n",
       "      <td>{'question': 'what was the difference in perce...</td>\n",
       "    </tr>\n",
       "    <tr>\n",
       "      <th>20</th>\n",
       "      <td>[( 1 ) includes shares repurchased through our...</td>\n",
       "      <td>[.]</td>\n",
       "      <td>UPS/2009/page_33.pdf</td>\n",
       "      <td>[[, 12/31/04, 12/31/05, 12/31/06, 12/31/07, 12...</td>\n",
       "      <td>[[, 12/31/04, 12/31/05, 12/31/06, 12/31/07, 12...</td>\n",
       "      <td>NaN</td>\n",
       "      <td>Double_UPS/2009/page_33.pdf_2</td>\n",
       "      <td>{'amt_table': '&lt;table class='wikitable'&gt;&lt;tr&gt;&lt;t...</td>\n",
       "      <td>{'question': 'what is the roi of an investment...</td>\n",
       "      <td>{'question': 'what was the difference in perce...</td>\n",
       "    </tr>\n",
       "    <tr>\n",
       "      <th>21</th>\n",
       "      <td>[( 1 ) includes shares repurchased through our...</td>\n",
       "      <td>[.]</td>\n",
       "      <td>UPS/2009/page_33.pdf</td>\n",
       "      <td>[[, 12/31/04, 12/31/05, 12/31/06, 12/31/07, 12...</td>\n",
       "      <td>[[, 12/31/04, 12/31/05, 12/31/06, 12/31/07, 12...</td>\n",
       "      <td>NaN</td>\n",
       "      <td>Double_UPS/2009/page_33.pdf_3</td>\n",
       "      <td>{'amt_table': '&lt;table class='wikitable'&gt;&lt;tr&gt;&lt;t...</td>\n",
       "      <td>{'question': 'what is the roi of an investment...</td>\n",
       "      <td>{'question': 'what was the difference in perce...</td>\n",
       "    </tr>\n",
       "    <tr>\n",
       "      <th>22</th>\n",
       "      <td>[( 1 ) includes shares repurchased through our...</td>\n",
       "      <td>[.]</td>\n",
       "      <td>UPS/2009/page_33.pdf</td>\n",
       "      <td>[[, 12/31/04, 12/31/05, 12/31/06, 12/31/07, 12...</td>\n",
       "      <td>[[, 12/31/04, 12/31/05, 12/31/06, 12/31/07, 12...</td>\n",
       "      <td>NaN</td>\n",
       "      <td>Double_UPS/2009/page_33.pdf_4</td>\n",
       "      <td>{'amt_table': '&lt;table class='wikitable'&gt;&lt;tr&gt;&lt;t...</td>\n",
       "      <td>{'question': 'what is the roi of an investment...</td>\n",
       "      <td>{'question': 'what was the difference in perce...</td>\n",
       "    </tr>\n",
       "  </tbody>\n",
       "</table>\n",
       "</div>"
      ],
      "text/plain": [
       "                                             pre_text post_text  \\\n",
       "18  [( 1 ) includes shares repurchased through our...       [.]   \n",
       "19  [( 1 ) includes shares repurchased through our...       [.]   \n",
       "20  [( 1 ) includes shares repurchased through our...       [.]   \n",
       "21  [( 1 ) includes shares repurchased through our...       [.]   \n",
       "22  [( 1 ) includes shares repurchased through our...       [.]   \n",
       "\n",
       "                filename                                          table_ori  \\\n",
       "18  UPS/2009/page_33.pdf  [[, 12/31/04, 12/31/05, 12/31/06, 12/31/07, 12...   \n",
       "19  UPS/2009/page_33.pdf  [[, 12/31/04, 12/31/05, 12/31/06, 12/31/07, 12...   \n",
       "20  UPS/2009/page_33.pdf  [[, 12/31/04, 12/31/05, 12/31/06, 12/31/07, 12...   \n",
       "21  UPS/2009/page_33.pdf  [[, 12/31/04, 12/31/05, 12/31/06, 12/31/07, 12...   \n",
       "22  UPS/2009/page_33.pdf  [[, 12/31/04, 12/31/05, 12/31/06, 12/31/07, 12...   \n",
       "\n",
       "                                                table   qa  \\\n",
       "18  [[, 12/31/04, 12/31/05, 12/31/06, 12/31/07, 12...  NaN   \n",
       "19  [[, 12/31/04, 12/31/05, 12/31/06, 12/31/07, 12...  NaN   \n",
       "20  [[, 12/31/04, 12/31/05, 12/31/06, 12/31/07, 12...  NaN   \n",
       "21  [[, 12/31/04, 12/31/05, 12/31/06, 12/31/07, 12...  NaN   \n",
       "22  [[, 12/31/04, 12/31/05, 12/31/06, 12/31/07, 12...  NaN   \n",
       "\n",
       "                               id  \\\n",
       "18  Double_UPS/2009/page_33.pdf_0   \n",
       "19  Double_UPS/2009/page_33.pdf_1   \n",
       "20  Double_UPS/2009/page_33.pdf_2   \n",
       "21  Double_UPS/2009/page_33.pdf_3   \n",
       "22  Double_UPS/2009/page_33.pdf_4   \n",
       "\n",
       "                                           annotation  \\\n",
       "18  {'amt_table': '<table class='wikitable'><tr><t...   \n",
       "19  {'amt_table': '<table class='wikitable'><tr><t...   \n",
       "20  {'amt_table': '<table class='wikitable'><tr><t...   \n",
       "21  {'amt_table': '<table class='wikitable'><tr><t...   \n",
       "22  {'amt_table': '<table class='wikitable'><tr><t...   \n",
       "\n",
       "                                                 qa_0  \\\n",
       "18  {'question': 'what is the roi of an investment...   \n",
       "19  {'question': 'what is the roi of an investment...   \n",
       "20  {'question': 'what is the roi of an investment...   \n",
       "21  {'question': 'what is the roi of an investment...   \n",
       "22  {'question': 'what is the roi of an investment...   \n",
       "\n",
       "                                                 qa_1  \n",
       "18  {'question': 'what was the difference in perce...  \n",
       "19  {'question': 'what was the difference in perce...  \n",
       "20  {'question': 'what was the difference in perce...  \n",
       "21  {'question': 'what was the difference in perce...  \n",
       "22  {'question': 'what was the difference in perce...  "
      ]
     },
     "execution_count": 28,
     "metadata": {},
     "output_type": "execute_result"
    }
   ],
   "source": [
    "dataset_new"
   ]
  },
  {
   "cell_type": "code",
   "execution_count": null,
   "metadata": {},
   "outputs": [
    {
     "data": {
      "text/plain": [
       "{'question': 'what is the roi of an investment in ups in 2004 and sold in 2006?',\n",
       " 'answer': '-8.9%',\n",
       " 'explanation': '',\n",
       " 'ann_table_rows': [1],\n",
       " 'ann_text_rows': [],\n",
       " 'steps': [{'op': 'minus1-1',\n",
       "   'arg1': '91.06',\n",
       "   'arg2': 'const_100',\n",
       "   'res': '-8.94'},\n",
       "  {'op': 'divide1-2', 'arg1': '#0', 'arg2': 'const_100', 'res': '-8.9%'}],\n",
       " 'program': 'subtract(91.06, const_100), divide(#0, const_100)',\n",
       " 'gold_inds': {'table_1': 'the united parcel service inc . of 12/31/04 is $ 100.00 ; the united parcel service inc . of 12/31/05 is $ 89.49 ; the united parcel service inc . of 12/31/06 is $ 91.06 ; the united parcel service inc . of 12/31/07 is $ 87.88 ; the united parcel service inc . of 12/31/08 is $ 70.48 ; the united parcel service inc . of 12/31/09 is $ 75.95 ;'},\n",
       " 'exe_ans': -0.08940000000000001,\n",
       " 'program_re': 'divide(subtract(91.06, const_100), const_100)'}"
      ]
     },
     "execution_count": 29,
     "metadata": {},
     "output_type": "execute_result"
    }
   ],
   "source": [
    "dataset_new[\"qa_0\"].values[0]"
   ]
  },
  {
   "cell_type": "code",
   "execution_count": null,
   "metadata": {},
   "outputs": [
    {
     "data": {
      "text/plain": [
       "{'question': 'what was the difference in percentage cumulative return on investment for united parcel service inc . compared to the s&p 500 index for the five year period ended 12/31/09?',\n",
       " 'answer': '-26.16%',\n",
       " 'explanation': '',\n",
       " 'ann_table_rows': [1, 2],\n",
       " 'ann_text_rows': [],\n",
       " 'steps': [{'op': 'minus2-1',\n",
       "   'arg1': '75.95',\n",
       "   'arg2': 'const_100',\n",
       "   'res': '-24.05'},\n",
       "  {'op': 'divide2-2', 'arg1': '#0', 'arg2': 'const_100', 'res': '-24.05%'},\n",
       "  {'op': 'minus2-3', 'arg1': '102.11', 'arg2': 'const_100', 'res': '2.11'},\n",
       "  {'op': 'divide2-4', 'arg1': '#2', 'arg2': 'const_100', 'res': '2.11%'},\n",
       "  {'op': 'minus2-5', 'arg1': '#1', 'arg2': '#3', 'res': '-26.16%'}],\n",
       " 'program': 'subtract(75.95, const_100), divide(#0, const_100), subtract(102.11, const_100), divide(#2, const_100), subtract(#1, #3)',\n",
       " 'gold_inds': {'table_1': 'the united parcel service inc . of 12/31/04 is $ 100.00 ; the united parcel service inc . of 12/31/05 is $ 89.49 ; the united parcel service inc . of 12/31/06 is $ 91.06 ; the united parcel service inc . of 12/31/07 is $ 87.88 ; the united parcel service inc . of 12/31/08 is $ 70.48 ; the united parcel service inc . of 12/31/09 is $ 75.95 ;',\n",
       "  'table_2': 'the s&p 500 index of 12/31/04 is $ 100.00 ; the s&p 500 index of 12/31/05 is $ 104.91 ; the s&p 500 index of 12/31/06 is $ 121.48 ; the s&p 500 index of 12/31/07 is $ 128.15 ; the s&p 500 index of 12/31/08 is $ 80.74 ; the s&p 500 index of 12/31/09 is $ 102.11 ;'},\n",
       " 'exe_ans': -0.2616,\n",
       " 'program_re': 'subtract(divide(subtract(75.95, const_100), const_100), divide(subtract(102.11, const_100), const_100))'}"
      ]
     },
     "execution_count": 30,
     "metadata": {},
     "output_type": "execute_result"
    }
   ],
   "source": [
    "dataset_new[\"qa_1\"].values[0]"
   ]
  },
  {
   "cell_type": "markdown",
   "metadata": {},
   "source": [
    "Feature Engineering"
   ]
  },
  {
   "cell_type": "markdown",
   "metadata": {},
   "source": [
    "Firstly, we gonna extract the data which is required from the train1.json and create a new dataframe\n"
   ]
  },
  {
   "cell_type": "code",
   "execution_count": null,
   "metadata": {},
   "outputs": [
    {
     "data": {
      "text/html": [
       "<div>\n",
       "<style scoped>\n",
       "    .dataframe tbody tr th:only-of-type {\n",
       "        vertical-align: middle;\n",
       "    }\n",
       "\n",
       "    .dataframe tbody tr th {\n",
       "        vertical-align: top;\n",
       "    }\n",
       "\n",
       "    .dataframe thead th {\n",
       "        text-align: right;\n",
       "    }\n",
       "</style>\n",
       "<table border=\"1\" class=\"dataframe\">\n",
       "  <thead>\n",
       "    <tr style=\"text-align: right;\">\n",
       "      <th></th>\n",
       "      <th>table</th>\n",
       "      <th>paragraphs</th>\n",
       "      <th>questions</th>\n",
       "    </tr>\n",
       "  </thead>\n",
       "  <tbody>\n",
       "    <tr>\n",
       "      <th>0</th>\n",
       "      <td>{'uid': 'e78f8b29-6085-43de-b32f-be1a68641be3'...</td>\n",
       "      <td>[{'uid': '62be4f5a-1693-4e6b-8bb4-0a4e1e40b409...</td>\n",
       "      <td>[{'uid': '9c569bea-e036-4c27-8e41-82c6efab1d31...</td>\n",
       "    </tr>\n",
       "    <tr>\n",
       "      <th>1</th>\n",
       "      <td>{'uid': '98c16699-d385-4631-91de-1bc3c87f9f99'...</td>\n",
       "      <td>[{'uid': '1ef0dbdd-15d0-4577-b068-dca80af4f851...</td>\n",
       "      <td>[{'uid': 'dd2a72ca-f65c-4673-9820-f7cefcb06ee4...</td>\n",
       "    </tr>\n",
       "    <tr>\n",
       "      <th>2</th>\n",
       "      <td>{'uid': '991d23d7-f32d-4954-8e1d-87ad22470fcf'...</td>\n",
       "      <td>[{'uid': '6597634c-716e-4a2d-9a19-22f8563a0b1a...</td>\n",
       "      <td>[{'uid': '9ef99ae1-e17b-4b51-b81e-48cc48a481d1...</td>\n",
       "    </tr>\n",
       "    <tr>\n",
       "      <th>3</th>\n",
       "      <td>{'uid': '806ac467-ab50-428b-8584-baef6d6c4cee'...</td>\n",
       "      <td>[{'uid': 'bc15602d-7889-4e0e-889d-722bec1e9ead...</td>\n",
       "      <td>[{'uid': 'd4919a15-b02b-4392-99ae-9eccd114e0ff...</td>\n",
       "    </tr>\n",
       "    <tr>\n",
       "      <th>4</th>\n",
       "      <td>{'uid': '67111519-017b-4638-9a74-41eb792c2f0f'...</td>\n",
       "      <td>[{'uid': '0a92704a-5cd8-4761-8c5f-afe01f89a820...</td>\n",
       "      <td>[{'uid': 'd6a3a306-fb34-48dc-838e-3d109f60d685...</td>\n",
       "    </tr>\n",
       "  </tbody>\n",
       "</table>\n",
       "</div>"
      ],
      "text/plain": [
       "                                               table  \\\n",
       "0  {'uid': 'e78f8b29-6085-43de-b32f-be1a68641be3'...   \n",
       "1  {'uid': '98c16699-d385-4631-91de-1bc3c87f9f99'...   \n",
       "2  {'uid': '991d23d7-f32d-4954-8e1d-87ad22470fcf'...   \n",
       "3  {'uid': '806ac467-ab50-428b-8584-baef6d6c4cee'...   \n",
       "4  {'uid': '67111519-017b-4638-9a74-41eb792c2f0f'...   \n",
       "\n",
       "                                          paragraphs  \\\n",
       "0  [{'uid': '62be4f5a-1693-4e6b-8bb4-0a4e1e40b409...   \n",
       "1  [{'uid': '1ef0dbdd-15d0-4577-b068-dca80af4f851...   \n",
       "2  [{'uid': '6597634c-716e-4a2d-9a19-22f8563a0b1a...   \n",
       "3  [{'uid': 'bc15602d-7889-4e0e-889d-722bec1e9ead...   \n",
       "4  [{'uid': '0a92704a-5cd8-4761-8c5f-afe01f89a820...   \n",
       "\n",
       "                                           questions  \n",
       "0  [{'uid': '9c569bea-e036-4c27-8e41-82c6efab1d31...  \n",
       "1  [{'uid': 'dd2a72ca-f65c-4673-9820-f7cefcb06ee4...  \n",
       "2  [{'uid': '9ef99ae1-e17b-4b51-b81e-48cc48a481d1...  \n",
       "3  [{'uid': 'd4919a15-b02b-4392-99ae-9eccd114e0ff...  \n",
       "4  [{'uid': 'd6a3a306-fb34-48dc-838e-3d109f60d685...  "
      ]
     },
     "execution_count": 31,
     "metadata": {},
     "output_type": "execute_result"
    }
   ],
   "source": [
    "dataset1 = pd.read_json(\"Data/FinQ&A/train1.json\")\n",
    "dataset1.head()"
   ]
  },
  {
   "cell_type": "code",
   "execution_count": null,
   "metadata": {},
   "outputs": [
    {
     "data": {
      "text/plain": [
       "{'uid': 'e78f8b29-6085-43de-b32f-be1a68641be3',\n",
       " 'table': [['', '2019 %', '2018 %', '2017 %'],\n",
       "  ['Weighted average actuarial assumptions used at 31 March1:', '', '', ''],\n",
       "  ['Rate of inflation2', '2.9', '2.9', '3.0'],\n",
       "  ['Rate of increase in salaries', '2.7', '2.7', '2.6'],\n",
       "  ['Discount rate', '2.3', '2.5', '2.6']]}"
      ]
     },
     "execution_count": 53,
     "metadata": {},
     "output_type": "execute_result"
    }
   ],
   "source": [
    "dataset1['table'].values[0]"
   ]
  },
  {
   "cell_type": "code",
   "execution_count": null,
   "metadata": {},
   "outputs": [
    {
     "data": {
      "text/plain": [
       "[{'uid': '62be4f5a-1693-4e6b-8bb4-0a4e1e40b409',\n",
       "  'order': 1,\n",
       "  'text': 'Actuarial assumptions'},\n",
       " {'uid': 'c63e6ed5-8fe5-46e4-a02a-f923e90e8067',\n",
       "  'order': 2,\n",
       "  'text': 'The Group’s scheme liabilities are measured using the projected unit credit method using the principal actuarial assumptions set out below:'},\n",
       " {'uid': 'b4093fd4-43ea-4b31-9975-13c0012a0b18',\n",
       "  'order': 3,\n",
       "  'text': 'Notes: 1 Figures shown represent a weighted average assumption of the individual schemes.'},\n",
       " {'uid': '9f6ecb32-9e2c-4036-8209-8905855145c0',\n",
       "  'order': 4,\n",
       "  'text': '2 The rate of increases in pensions in payment and deferred revaluation are dependent on the rate of inflation.'}]"
      ]
     },
     "execution_count": 54,
     "metadata": {},
     "output_type": "execute_result"
    }
   ],
   "source": [
    "dataset1['paragraphs'].values[0]"
   ]
  },
  {
   "cell_type": "code",
   "execution_count": null,
   "metadata": {},
   "outputs": [
    {
     "data": {
      "text/plain": [
       "[{'uid': '9c569bea-e036-4c27-8e41-82c6efab1d31',\n",
       "  'order': 1,\n",
       "  'question': 'What does the Weighted average actuarial assumptions consist of?',\n",
       "  'answer': ['Rate of inflation',\n",
       "   'Rate of increase in salaries',\n",
       "   'Discount rate'],\n",
       "  'derivation': '',\n",
       "  'answer_type': 'multi-span',\n",
       "  'answer_from': 'table',\n",
       "  'rel_paragraphs': [],\n",
       "  'req_comparison': False,\n",
       "  'scale': ''},\n",
       " {'uid': '83dcc128-9777-4ae2-ba55-50162ac43257',\n",
       "  'order': 2,\n",
       "  'question': 'How much is the 2019 rate of inflation?',\n",
       "  'answer': ['2.9'],\n",
       "  'derivation': '',\n",
       "  'answer_type': 'span',\n",
       "  'answer_from': 'table',\n",
       "  'rel_paragraphs': [],\n",
       "  'req_comparison': False,\n",
       "  'scale': 'percent'},\n",
       " {'uid': '0384152d-1f9f-4b12-85a9-2ca5e1c97682',\n",
       "  'order': 3,\n",
       "  'question': 'How much is the 2018 rate of inflation?',\n",
       "  'answer': ['2.9'],\n",
       "  'derivation': '',\n",
       "  'answer_type': 'span',\n",
       "  'answer_from': 'table',\n",
       "  'rel_paragraphs': [],\n",
       "  'req_comparison': False,\n",
       "  'scale': 'percent'},\n",
       " {'uid': 'dbee8930-0110-41c7-95fe-0178ddf4f841',\n",
       "  'order': 4,\n",
       "  'question': 'What is the 2019 average rate of inflation?',\n",
       "  'answer': 2.9,\n",
       "  'derivation': '(2.9+2.9)/2',\n",
       "  'answer_type': 'arithmetic',\n",
       "  'answer_from': 'table',\n",
       "  'rel_paragraphs': [],\n",
       "  'req_comparison': False,\n",
       "  'scale': 'percent'},\n",
       " {'uid': '1665b441-93e5-481d-b0b4-2d28ce70e1a8',\n",
       "  'order': 5,\n",
       "  'question': 'What is the 2019 average rate of increase in salaries?',\n",
       "  'answer': 2.7,\n",
       "  'derivation': '(2.7+2.7)/2',\n",
       "  'answer_type': 'arithmetic',\n",
       "  'answer_from': 'table',\n",
       "  'rel_paragraphs': [],\n",
       "  'req_comparison': False,\n",
       "  'scale': 'percent'},\n",
       " {'uid': '2cec8a99-3a83-409b-886b-dbb65a05fb25',\n",
       "  'order': 6,\n",
       "  'question': 'What is the difference between 2019 average rate of inflation and 2019 average rate of increase in salaries?',\n",
       "  'answer': 0.2,\n",
       "  'derivation': '[(2.9+2.9)/2] - [(2.7+2.7)/2]',\n",
       "  'answer_type': 'arithmetic',\n",
       "  'answer_from': 'table',\n",
       "  'rel_paragraphs': [],\n",
       "  'req_comparison': False,\n",
       "  'scale': 'percent'}]"
      ]
     },
     "execution_count": 32,
     "metadata": {},
     "output_type": "execute_result"
    }
   ],
   "source": [
    "dataset1['questions'].values[0]"
   ]
  },
  {
   "cell_type": "markdown",
   "metadata": {},
   "source": [
    "We can see here, the columns question, answer, answer_type and derivation are the main features with which we create a separate dataframe"
   ]
  },
  {
   "cell_type": "code",
   "execution_count": null,
   "metadata": {},
   "outputs": [
    {
     "name": "stdout",
     "output_type": "stream",
     "text": [
      "                                                question  \\\n",
      "0      What does the Weighted average actuarial assum...   \n",
      "1                How much is the 2019 rate of inflation?   \n",
      "2                How much is the 2018 rate of inflation?   \n",
      "3            What is the 2019 average rate of inflation?   \n",
      "4      What is the 2019 average rate of increase in s...   \n",
      "...                                                  ...   \n",
      "13210  What are the types of derivative financial ins...   \n",
      "13211  What are the types of derivative financial ins...   \n",
      "13212  In which year was the amount of forward exchan...   \n",
      "13213  What was the change in interest rate swaps fro...   \n",
      "13214  What was the percentage change in interest rat...   \n",
      "\n",
      "                                                  answer answer_type  \\\n",
      "0      [Rate of inflation, Rate of increase in salari...  multi-span   \n",
      "1                                                  [2.9]        span   \n",
      "2                                                  [2.9]        span   \n",
      "3                                                    2.9  arithmetic   \n",
      "4                                                    2.7  arithmetic   \n",
      "...                                                  ...         ...   \n",
      "13210         [Forward freight agreements, Bunker swaps]  multi-span   \n",
      "13211  [Forward exchange contracts, Interest rate swaps]  multi-span   \n",
      "13212                                             [2018]        span   \n",
      "13213                                              -13.9  arithmetic   \n",
      "13214                                            -496.43  arithmetic   \n",
      "\n",
      "            derivation  \n",
      "0                       \n",
      "1                       \n",
      "2                       \n",
      "3          (2.9+2.9)/2  \n",
      "4          (2.7+2.7)/2  \n",
      "...                ...  \n",
      "13210                   \n",
      "13211                   \n",
      "13212      |1.8|>|0.4|  \n",
      "13213        -11.1-2.8  \n",
      "13214  (-11.1-2.8)/2.8  \n",
      "\n",
      "[13215 rows x 4 columns]\n"
     ]
    }
   ],
   "source": [
    "# Create an empty list to store DataFrames\n",
    "all_questions = []\n",
    "\n",
    "# Iterate through each entry in the data and normalize the 'questions' field\n",
    "for i  in range(0,len(dataset1)):\n",
    "    questions_data = dataset1['questions'][i]  # Extract the questions\n",
    "    df = pd.json_normalize(questions_data)  # Normalize the data\n",
    "    all_questions.append(df)\n",
    "\n",
    "# Concatenate all DataFrames into one\n",
    "df_full = pd.concat(all_questions, ignore_index=True)\n",
    "\n",
    "# Select the relevant columns\n",
    "df_filtered = df_full[['question', 'answer', 'answer_type', 'derivation']]\n",
    "\n",
    "# View the resulting DataFrame\n",
    "print(df_filtered)"
   ]
  },
  {
   "cell_type": "code",
   "execution_count": null,
   "metadata": {},
   "outputs": [
    {
     "data": {
      "text/html": [
       "<div>\n",
       "<style scoped>\n",
       "    .dataframe tbody tr th:only-of-type {\n",
       "        vertical-align: middle;\n",
       "    }\n",
       "\n",
       "    .dataframe tbody tr th {\n",
       "        vertical-align: top;\n",
       "    }\n",
       "\n",
       "    .dataframe thead th {\n",
       "        text-align: right;\n",
       "    }\n",
       "</style>\n",
       "<table border=\"1\" class=\"dataframe\">\n",
       "  <thead>\n",
       "    <tr style=\"text-align: right;\">\n",
       "      <th></th>\n",
       "      <th>uid</th>\n",
       "      <th>order</th>\n",
       "      <th>question</th>\n",
       "      <th>answer</th>\n",
       "      <th>derivation</th>\n",
       "      <th>answer_type</th>\n",
       "      <th>answer_from</th>\n",
       "      <th>rel_paragraphs</th>\n",
       "      <th>req_comparison</th>\n",
       "      <th>scale</th>\n",
       "    </tr>\n",
       "  </thead>\n",
       "  <tbody>\n",
       "    <tr>\n",
       "      <th>0</th>\n",
       "      <td>9c569bea-e036-4c27-8e41-82c6efab1d31</td>\n",
       "      <td>1</td>\n",
       "      <td>What does the Weighted average actuarial assum...</td>\n",
       "      <td>[Rate of inflation, Rate of increase in salari...</td>\n",
       "      <td></td>\n",
       "      <td>multi-span</td>\n",
       "      <td>table</td>\n",
       "      <td>[]</td>\n",
       "      <td>False</td>\n",
       "      <td></td>\n",
       "    </tr>\n",
       "    <tr>\n",
       "      <th>1</th>\n",
       "      <td>83dcc128-9777-4ae2-ba55-50162ac43257</td>\n",
       "      <td>2</td>\n",
       "      <td>How much is the 2019 rate of inflation?</td>\n",
       "      <td>[2.9]</td>\n",
       "      <td></td>\n",
       "      <td>span</td>\n",
       "      <td>table</td>\n",
       "      <td>[]</td>\n",
       "      <td>False</td>\n",
       "      <td>percent</td>\n",
       "    </tr>\n",
       "    <tr>\n",
       "      <th>2</th>\n",
       "      <td>0384152d-1f9f-4b12-85a9-2ca5e1c97682</td>\n",
       "      <td>3</td>\n",
       "      <td>How much is the 2018 rate of inflation?</td>\n",
       "      <td>[2.9]</td>\n",
       "      <td></td>\n",
       "      <td>span</td>\n",
       "      <td>table</td>\n",
       "      <td>[]</td>\n",
       "      <td>False</td>\n",
       "      <td>percent</td>\n",
       "    </tr>\n",
       "    <tr>\n",
       "      <th>3</th>\n",
       "      <td>dbee8930-0110-41c7-95fe-0178ddf4f841</td>\n",
       "      <td>4</td>\n",
       "      <td>What is the 2019 average rate of inflation?</td>\n",
       "      <td>2.9</td>\n",
       "      <td>(2.9+2.9)/2</td>\n",
       "      <td>arithmetic</td>\n",
       "      <td>table</td>\n",
       "      <td>[]</td>\n",
       "      <td>False</td>\n",
       "      <td>percent</td>\n",
       "    </tr>\n",
       "    <tr>\n",
       "      <th>4</th>\n",
       "      <td>1665b441-93e5-481d-b0b4-2d28ce70e1a8</td>\n",
       "      <td>5</td>\n",
       "      <td>What is the 2019 average rate of increase in s...</td>\n",
       "      <td>2.7</td>\n",
       "      <td>(2.7+2.7)/2</td>\n",
       "      <td>arithmetic</td>\n",
       "      <td>table</td>\n",
       "      <td>[]</td>\n",
       "      <td>False</td>\n",
       "      <td>percent</td>\n",
       "    </tr>\n",
       "    <tr>\n",
       "      <th>...</th>\n",
       "      <td>...</td>\n",
       "      <td>...</td>\n",
       "      <td>...</td>\n",
       "      <td>...</td>\n",
       "      <td>...</td>\n",
       "      <td>...</td>\n",
       "      <td>...</td>\n",
       "      <td>...</td>\n",
       "      <td>...</td>\n",
       "      <td>...</td>\n",
       "    </tr>\n",
       "    <tr>\n",
       "      <th>13210</th>\n",
       "      <td>a05237d9-71e8-4043-b730-bddbf60484e5</td>\n",
       "      <td>2</td>\n",
       "      <td>What are the types of derivative financial ins...</td>\n",
       "      <td>[Forward freight agreements, Bunker swaps]</td>\n",
       "      <td></td>\n",
       "      <td>multi-span</td>\n",
       "      <td>table-text</td>\n",
       "      <td>[1]</td>\n",
       "      <td>False</td>\n",
       "      <td></td>\n",
       "    </tr>\n",
       "    <tr>\n",
       "      <th>13211</th>\n",
       "      <td>8521a4f9-8d1b-4c09-8986-8d7a256820f8</td>\n",
       "      <td>3</td>\n",
       "      <td>What are the types of derivative financial ins...</td>\n",
       "      <td>[Forward exchange contracts, Interest rate swaps]</td>\n",
       "      <td></td>\n",
       "      <td>multi-span</td>\n",
       "      <td>table-text</td>\n",
       "      <td>[1]</td>\n",
       "      <td>False</td>\n",
       "      <td></td>\n",
       "    </tr>\n",
       "    <tr>\n",
       "      <th>13212</th>\n",
       "      <td>913f9b6d-f925-4db6-8045-5974bf39054b</td>\n",
       "      <td>4</td>\n",
       "      <td>In which year was the amount of forward exchan...</td>\n",
       "      <td>[2018]</td>\n",
       "      <td>|1.8|&gt;|0.4|</td>\n",
       "      <td>span</td>\n",
       "      <td>table</td>\n",
       "      <td>[]</td>\n",
       "      <td>True</td>\n",
       "      <td></td>\n",
       "    </tr>\n",
       "    <tr>\n",
       "      <th>13213</th>\n",
       "      <td>10d013fa-2416-4d88-a98b-b9b7cb5e568d</td>\n",
       "      <td>5</td>\n",
       "      <td>What was the change in interest rate swaps fro...</td>\n",
       "      <td>-13.9</td>\n",
       "      <td>-11.1-2.8</td>\n",
       "      <td>arithmetic</td>\n",
       "      <td>table</td>\n",
       "      <td>[]</td>\n",
       "      <td>False</td>\n",
       "      <td>million</td>\n",
       "    </tr>\n",
       "    <tr>\n",
       "      <th>13214</th>\n",
       "      <td>4fe47a4b-a393-4a3c-88a9-f6cce08fa9c8</td>\n",
       "      <td>6</td>\n",
       "      <td>What was the percentage change in interest rat...</td>\n",
       "      <td>-496.43</td>\n",
       "      <td>(-11.1-2.8)/2.8</td>\n",
       "      <td>arithmetic</td>\n",
       "      <td>table</td>\n",
       "      <td>[]</td>\n",
       "      <td>False</td>\n",
       "      <td>percent</td>\n",
       "    </tr>\n",
       "  </tbody>\n",
       "</table>\n",
       "<p>13215 rows × 10 columns</p>\n",
       "</div>"
      ],
      "text/plain": [
       "                                        uid  order  \\\n",
       "0      9c569bea-e036-4c27-8e41-82c6efab1d31      1   \n",
       "1      83dcc128-9777-4ae2-ba55-50162ac43257      2   \n",
       "2      0384152d-1f9f-4b12-85a9-2ca5e1c97682      3   \n",
       "3      dbee8930-0110-41c7-95fe-0178ddf4f841      4   \n",
       "4      1665b441-93e5-481d-b0b4-2d28ce70e1a8      5   \n",
       "...                                     ...    ...   \n",
       "13210  a05237d9-71e8-4043-b730-bddbf60484e5      2   \n",
       "13211  8521a4f9-8d1b-4c09-8986-8d7a256820f8      3   \n",
       "13212  913f9b6d-f925-4db6-8045-5974bf39054b      4   \n",
       "13213  10d013fa-2416-4d88-a98b-b9b7cb5e568d      5   \n",
       "13214  4fe47a4b-a393-4a3c-88a9-f6cce08fa9c8      6   \n",
       "\n",
       "                                                question  \\\n",
       "0      What does the Weighted average actuarial assum...   \n",
       "1                How much is the 2019 rate of inflation?   \n",
       "2                How much is the 2018 rate of inflation?   \n",
       "3            What is the 2019 average rate of inflation?   \n",
       "4      What is the 2019 average rate of increase in s...   \n",
       "...                                                  ...   \n",
       "13210  What are the types of derivative financial ins...   \n",
       "13211  What are the types of derivative financial ins...   \n",
       "13212  In which year was the amount of forward exchan...   \n",
       "13213  What was the change in interest rate swaps fro...   \n",
       "13214  What was the percentage change in interest rat...   \n",
       "\n",
       "                                                  answer       derivation  \\\n",
       "0      [Rate of inflation, Rate of increase in salari...                    \n",
       "1                                                  [2.9]                    \n",
       "2                                                  [2.9]                    \n",
       "3                                                    2.9      (2.9+2.9)/2   \n",
       "4                                                    2.7      (2.7+2.7)/2   \n",
       "...                                                  ...              ...   \n",
       "13210         [Forward freight agreements, Bunker swaps]                    \n",
       "13211  [Forward exchange contracts, Interest rate swaps]                    \n",
       "13212                                             [2018]      |1.8|>|0.4|   \n",
       "13213                                              -13.9        -11.1-2.8   \n",
       "13214                                            -496.43  (-11.1-2.8)/2.8   \n",
       "\n",
       "      answer_type answer_from rel_paragraphs  req_comparison    scale  \n",
       "0      multi-span       table             []           False           \n",
       "1            span       table             []           False  percent  \n",
       "2            span       table             []           False  percent  \n",
       "3      arithmetic       table             []           False  percent  \n",
       "4      arithmetic       table             []           False  percent  \n",
       "...           ...         ...            ...             ...      ...  \n",
       "13210  multi-span  table-text            [1]           False           \n",
       "13211  multi-span  table-text            [1]           False           \n",
       "13212        span       table             []            True           \n",
       "13213  arithmetic       table             []           False  million  \n",
       "13214  arithmetic       table             []           False  percent  \n",
       "\n",
       "[13215 rows x 10 columns]"
      ]
     },
     "execution_count": 52,
     "metadata": {},
     "output_type": "execute_result"
    }
   ],
   "source": [
    "df_full"
   ]
  },
  {
   "cell_type": "code",
   "execution_count": null,
   "metadata": {},
   "outputs": [
    {
     "name": "stdout",
     "output_type": "stream",
     "text": [
      "                                            question  \\\n",
      "0  What does the Weighted average actuarial assum...   \n",
      "1            How much is the 2019 rate of inflation?   \n",
      "2            How much is the 2018 rate of inflation?   \n",
      "3        What is the 2019 average rate of inflation?   \n",
      "4  What is the 2019 average rate of increase in s...   \n",
      "5  What is the difference between 2019 average ra...   \n",
      "6  How was internally developed software capitali...   \n",
      "7  How much was the closing net book amount for s...   \n",
      "8                  What was the total cost for 2019?   \n",
      "9  What was the percentage change in cost of soft...   \n",
      "\n",
      "                                              answer answer_type  \\\n",
      "0  [Rate of inflation, Rate of increase in salari...  multi-span   \n",
      "1                                              [2.9]        span   \n",
      "2                                              [2.9]        span   \n",
      "3                                                2.9  arithmetic   \n",
      "4                                                2.7  arithmetic   \n",
      "5                                                0.2  arithmetic   \n",
      "6           [at cost less accumulated amortisation.]        span   \n",
      "7                                           [16,284]        span   \n",
      "8                                           [29,259]        span   \n",
      "9                                             150.18  arithmetic   \n",
      "\n",
      "                      derivation  \n",
      "0                                 \n",
      "1                                 \n",
      "2                                 \n",
      "3                    (2.9+2.9)/2  \n",
      "4                    (2.7+2.7)/2  \n",
      "5  [(2.9+2.9)/2] - [(2.7+2.7)/2]  \n",
      "6                                 \n",
      "7                                 \n",
      "8                                 \n",
      "9      (16,284 - 6,509) / 6,509   \n"
     ]
    }
   ],
   "source": [
    "print(df_filtered.head(10))"
   ]
  },
  {
   "cell_type": "code",
   "execution_count": null,
   "metadata": {},
   "outputs": [
    {
     "ename": "NameError",
     "evalue": "name 'df_filtered' is not defined",
     "output_type": "error",
     "traceback": [
      "\u001b[31m---------------------------------------------------------------------------\u001b[39m",
      "\u001b[31mNameError\u001b[39m                                 Traceback (most recent call last)",
      "\u001b[36mCell\u001b[39m\u001b[36m \u001b[39m\u001b[32mIn[1]\u001b[39m\u001b[32m, line 2\u001b[39m\n\u001b[32m      1\u001b[39m \u001b[38;5;66;03m# Save the DataFrame as a CSV file just to check the data\u001b[39;00m\n\u001b[32m----> \u001b[39m\u001b[32m2\u001b[39m \u001b[43mdf_filtered\u001b[49m.to_csv(\u001b[33m'\u001b[39m\u001b[33mData/questions_table.csv\u001b[39m\u001b[33m'\u001b[39m, index=\u001b[38;5;28;01mFalse\u001b[39;00m)\n",
      "\u001b[31mNameError\u001b[39m: name 'df_filtered' is not defined"
     ]
    }
   ],
   "source": [
    "# Save the DataFrame as a CSV file just to check the data\n",
    "df_filtered.to_csv('Data/questions_table.csv', index=False)\n"
   ]
  },
  {
   "cell_type": "code",
   "execution_count": null,
   "metadata": {},
   "outputs": [],
   "source": []
  }
 ],
 "metadata": {
  "kernelspec": {
   "display_name": ".venv",
   "language": "python",
   "name": "python3"
  },
  "language_info": {
   "codemirror_mode": {
    "name": "ipython",
    "version": 3
   },
   "file_extension": ".py",
   "mimetype": "text/x-python",
   "name": "python",
   "nbconvert_exporter": "python",
   "pygments_lexer": "ipython3",
   "version": "3.11.9"
  }
 },
 "nbformat": 4,
 "nbformat_minor": 2
}
