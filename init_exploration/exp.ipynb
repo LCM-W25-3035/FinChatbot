{
 "cells": [
  {
   "cell_type": "markdown",
   "metadata": {},
   "source": [
    "To load the data, first we need to change the current working directory to the main folder, so that we can have access to the Data folder."
   ]
  },
  {
   "cell_type": "code",
   "execution_count": 1,
   "metadata": {},
   "outputs": [
    {
     "data": {
      "text/plain": [
       "'c:\\\\Users\\\\rahul\\\\Desktop\\\\Capstone Project\\\\FinChatbot\\\\init_exploration'"
      ]
     },
     "execution_count": 1,
     "metadata": {},
     "output_type": "execute_result"
    }
   ],
   "source": [
    "%pwd"
   ]
  },
  {
   "cell_type": "code",
   "execution_count": 2,
   "metadata": {},
   "outputs": [],
   "source": [
    "import os"
   ]
  },
  {
   "cell_type": "code",
   "execution_count": 3,
   "metadata": {},
   "outputs": [],
   "source": [
    "os.chdir(\"../\")"
   ]
  },
  {
   "cell_type": "code",
   "execution_count": 4,
   "metadata": {},
   "outputs": [
    {
     "data": {
      "text/plain": [
       "'c:\\\\Users\\\\rahul\\\\Desktop\\\\Capstone Project\\\\FinChatbot'"
      ]
     },
     "execution_count": 4,
     "metadata": {},
     "output_type": "execute_result"
    }
   ],
   "source": [
    "%pwd"
   ]
  },
  {
   "cell_type": "markdown",
   "metadata": {},
   "source": [
    "Calling the Data"
   ]
  },
  {
   "cell_type": "code",
   "execution_count": 5,
   "metadata": {},
   "outputs": [],
   "source": [
    "import numpy as np\n",
    "import pandas as pd"
   ]
  },
  {
   "cell_type": "code",
   "execution_count": 6,
   "metadata": {},
   "outputs": [
    {
     "data": {
      "text/html": [
       "<div>\n",
       "<style scoped>\n",
       "    .dataframe tbody tr th:only-of-type {\n",
       "        vertical-align: middle;\n",
       "    }\n",
       "\n",
       "    .dataframe tbody tr th {\n",
       "        vertical-align: top;\n",
       "    }\n",
       "\n",
       "    .dataframe thead th {\n",
       "        text-align: right;\n",
       "    }\n",
       "</style>\n",
       "<table border=\"1\" class=\"dataframe\">\n",
       "  <thead>\n",
       "    <tr style=\"text-align: right;\">\n",
       "      <th></th>\n",
       "      <th>pre_text</th>\n",
       "      <th>post_text</th>\n",
       "      <th>filename</th>\n",
       "      <th>table_ori</th>\n",
       "      <th>table</th>\n",
       "      <th>qa</th>\n",
       "      <th>id</th>\n",
       "      <th>annotation</th>\n",
       "      <th>qa_0</th>\n",
       "      <th>qa_1</th>\n",
       "    </tr>\n",
       "  </thead>\n",
       "  <tbody>\n",
       "    <tr>\n",
       "      <th>0</th>\n",
       "      <td>[26 | 2009 annual report in fiscal 2008 , reve...</td>\n",
       "      <td>[year ended june 30 , cash provided by operati...</td>\n",
       "      <td>JKHY/2009/page_28.pdf</td>\n",
       "      <td>[[, Year ended June 30, 2009], [2008, 2007], [...</td>\n",
       "      <td>[[2008, year ended june 30 2009 2008, year end...</td>\n",
       "      <td>{'question': 'what was the percentage change i...</td>\n",
       "      <td>Single_JKHY/2009/page_28.pdf-3_0</td>\n",
       "      <td>{'amt_table': '&lt;table class='wikitable'&gt;&lt;tr&gt;&lt;t...</td>\n",
       "      <td>NaN</td>\n",
       "      <td>NaN</td>\n",
       "    </tr>\n",
       "    <tr>\n",
       "      <th>1</th>\n",
       "      <td>[26 | 2009 annual report in fiscal 2008 , reve...</td>\n",
       "      <td>[year ended june 30 , cash provided by operati...</td>\n",
       "      <td>JKHY/2009/page_28.pdf</td>\n",
       "      <td>[[, Year ended June 30, 2009], [2008, 2007], [...</td>\n",
       "      <td>[[2008, year ended june 30 2009 2008, year end...</td>\n",
       "      <td>{'question': 'what was the percentage change i...</td>\n",
       "      <td>Single_JKHY/2009/page_28.pdf-3_1</td>\n",
       "      <td>{'amt_table': '&lt;table class='wikitable'&gt;&lt;tr&gt;&lt;t...</td>\n",
       "      <td>NaN</td>\n",
       "      <td>NaN</td>\n",
       "    </tr>\n",
       "    <tr>\n",
       "      <th>2</th>\n",
       "      <td>[26 | 2009 annual report in fiscal 2008 , reve...</td>\n",
       "      <td>[year ended june 30 , cash provided by operati...</td>\n",
       "      <td>JKHY/2009/page_28.pdf</td>\n",
       "      <td>[[, Year ended June 30, 2009], [2008, 2007], [...</td>\n",
       "      <td>[[2008, year ended june 30 2009 2008, year end...</td>\n",
       "      <td>{'question': 'what was the percentage change i...</td>\n",
       "      <td>Single_JKHY/2009/page_28.pdf-3_2</td>\n",
       "      <td>{'amt_table': '&lt;table class='wikitable'&gt;&lt;tr&gt;&lt;t...</td>\n",
       "      <td>NaN</td>\n",
       "      <td>NaN</td>\n",
       "    </tr>\n",
       "    <tr>\n",
       "      <th>3</th>\n",
       "      <td>[26 | 2009 annual report in fiscal 2008 , reve...</td>\n",
       "      <td>[year ended june 30 , cash provided by operati...</td>\n",
       "      <td>JKHY/2009/page_28.pdf</td>\n",
       "      <td>[[, Year ended June 30, 2009], [2008, 2007], [...</td>\n",
       "      <td>[[2008, year ended june 30 2009 2008, year end...</td>\n",
       "      <td>{'question': 'what was the percentage change i...</td>\n",
       "      <td>Single_JKHY/2009/page_28.pdf-3_3</td>\n",
       "      <td>{'amt_table': '&lt;table class='wikitable'&gt;&lt;tr&gt;&lt;t...</td>\n",
       "      <td>NaN</td>\n",
       "      <td>NaN</td>\n",
       "    </tr>\n",
       "    <tr>\n",
       "      <th>4</th>\n",
       "      <td>[substantially all of the goodwill and other i...</td>\n",
       "      <td>[the above unaudited pro forma financial infor...</td>\n",
       "      <td>RSG/2008/page_114.pdf</td>\n",
       "      <td>[[, Year Ended December 31, 2008 (Unaudited), ...</td>\n",
       "      <td>[[, year ended december 31 2008 ( unaudited ),...</td>\n",
       "      <td>{'question': 'what was the percent of the grow...</td>\n",
       "      <td>Single_RSG/2008/page_114.pdf-2_0</td>\n",
       "      <td>{'amt_table': '&lt;table class='wikitable'&gt;&lt;tr&gt;&lt;t...</td>\n",
       "      <td>NaN</td>\n",
       "      <td>NaN</td>\n",
       "    </tr>\n",
       "  </tbody>\n",
       "</table>\n",
       "</div>"
      ],
      "text/plain": [
       "                                            pre_text  \\\n",
       "0  [26 | 2009 annual report in fiscal 2008 , reve...   \n",
       "1  [26 | 2009 annual report in fiscal 2008 , reve...   \n",
       "2  [26 | 2009 annual report in fiscal 2008 , reve...   \n",
       "3  [26 | 2009 annual report in fiscal 2008 , reve...   \n",
       "4  [substantially all of the goodwill and other i...   \n",
       "\n",
       "                                           post_text               filename  \\\n",
       "0  [year ended june 30 , cash provided by operati...  JKHY/2009/page_28.pdf   \n",
       "1  [year ended june 30 , cash provided by operati...  JKHY/2009/page_28.pdf   \n",
       "2  [year ended june 30 , cash provided by operati...  JKHY/2009/page_28.pdf   \n",
       "3  [year ended june 30 , cash provided by operati...  JKHY/2009/page_28.pdf   \n",
       "4  [the above unaudited pro forma financial infor...  RSG/2008/page_114.pdf   \n",
       "\n",
       "                                           table_ori  \\\n",
       "0  [[, Year ended June 30, 2009], [2008, 2007], [...   \n",
       "1  [[, Year ended June 30, 2009], [2008, 2007], [...   \n",
       "2  [[, Year ended June 30, 2009], [2008, 2007], [...   \n",
       "3  [[, Year ended June 30, 2009], [2008, 2007], [...   \n",
       "4  [[, Year Ended December 31, 2008 (Unaudited), ...   \n",
       "\n",
       "                                               table  \\\n",
       "0  [[2008, year ended june 30 2009 2008, year end...   \n",
       "1  [[2008, year ended june 30 2009 2008, year end...   \n",
       "2  [[2008, year ended june 30 2009 2008, year end...   \n",
       "3  [[2008, year ended june 30 2009 2008, year end...   \n",
       "4  [[, year ended december 31 2008 ( unaudited ),...   \n",
       "\n",
       "                                                  qa  \\\n",
       "0  {'question': 'what was the percentage change i...   \n",
       "1  {'question': 'what was the percentage change i...   \n",
       "2  {'question': 'what was the percentage change i...   \n",
       "3  {'question': 'what was the percentage change i...   \n",
       "4  {'question': 'what was the percent of the grow...   \n",
       "\n",
       "                                 id  \\\n",
       "0  Single_JKHY/2009/page_28.pdf-3_0   \n",
       "1  Single_JKHY/2009/page_28.pdf-3_1   \n",
       "2  Single_JKHY/2009/page_28.pdf-3_2   \n",
       "3  Single_JKHY/2009/page_28.pdf-3_3   \n",
       "4  Single_RSG/2008/page_114.pdf-2_0   \n",
       "\n",
       "                                          annotation qa_0 qa_1  \n",
       "0  {'amt_table': '<table class='wikitable'><tr><t...  NaN  NaN  \n",
       "1  {'amt_table': '<table class='wikitable'><tr><t...  NaN  NaN  \n",
       "2  {'amt_table': '<table class='wikitable'><tr><t...  NaN  NaN  \n",
       "3  {'amt_table': '<table class='wikitable'><tr><t...  NaN  NaN  \n",
       "4  {'amt_table': '<table class='wikitable'><tr><t...  NaN  NaN  "
      ]
     },
     "execution_count": 6,
     "metadata": {},
     "output_type": "execute_result"
    }
   ],
   "source": [
    "dataset = pd.read_json(\"Data/FinQ&A/train_t.json\")\n",
    "dataset.head()"
   ]
  },
  {
   "cell_type": "markdown",
   "metadata": {},
   "source": [
    "Exploring the first 2 columns data.\n",
    "- pre_text\n",
    "- post_text"
   ]
  },
  {
   "cell_type": "code",
   "execution_count": 7,
   "metadata": {},
   "outputs": [
    {
     "data": {
      "text/plain": [
       "['26 | 2009 annual report in fiscal 2008 , revenues in the credit union systems and services business segment increased 14% ( 14 % ) from fiscal 2007 .',\n",
       " 'all revenue components within the segment experienced growth during fiscal 2008 .',\n",
       " 'license revenue generated the largest dollar growth in revenue as episys ae , our flagship core processing system aimed at larger credit unions , experienced strong sales throughout the year .',\n",
       " 'support and service revenue , which is the largest component of total revenues for the credit union segment , experienced 34 percent growth in eft support and 10 percent growth in in-house support .',\n",
       " 'gross profit in this business segment increased $ 9344 in fiscal 2008 compared to fiscal 2007 , due primarily to the increase in license revenue , which carries the highest margins .',\n",
       " 'liquidity and capital resources we have historically generated positive cash flow from operations and have generally used funds generated from operations and short-term borrowings on our revolving credit facility to meet capital requirements .',\n",
       " 'we expect this trend to continue in the future .',\n",
       " 'the company 2019s cash and cash equivalents increased to $ 118251 at june 30 , 2009 from $ 65565 at june 30 , 2008 .',\n",
       " 'the following table summarizes net cash from operating activities in the statement of cash flows : 2009 2008 2007 .']"
      ]
     },
     "execution_count": 7,
     "metadata": {},
     "output_type": "execute_result"
    }
   ],
   "source": [
    "dataset[\"pre_text\"].values[0]"
   ]
  },
  {
   "cell_type": "markdown",
   "metadata": {},
   "source": [
    "The text in the `pre_text` column seems to provide a general and vague discussion about the company's financial performance. It highlights aspects such as revenue growth, profitability, and liquidity but lacks detailed analysis or comprehensive financial."
   ]
  },
  {
   "cell_type": "code",
   "execution_count": 8,
   "metadata": {},
   "outputs": [
    {
     "data": {
      "text/plain": [
       "['year ended june 30 , cash provided by operations increased $ 25587 to $ 206588 for the fiscal year ended june 30 , 2009 as compared to $ 181001 for the fiscal year ended june 30 , 2008 .',\n",
       " 'this increase is primarily attributable to a decrease in receivables compared to the same period a year ago of $ 21214 .',\n",
       " 'this decrease is largely the result of fiscal 2010 annual software maintenance billings being provided to customers earlier than in the prior year , which allowed more cash to be collected before the end of the fiscal year than in previous years .',\n",
       " 'further , we collected more cash overall related to revenues that will be recognized in subsequent periods in the current year than in fiscal 2008 .',\n",
       " 'cash used in investing activities for the fiscal year ended june 2009 was $ 59227 and includes $ 3027 in contingent consideration paid on prior years 2019 acquisitions .',\n",
       " 'cash used in investing activities for the fiscal year ended june 2008 was $ 102148 and includes payments for acquisitions of $ 48109 , plus $ 1215 in contingent consideration paid on prior years 2019 acquisitions .',\n",
       " 'capital expenditures for fiscal 2009 were $ 31562 compared to $ 31105 for fiscal 2008 .',\n",
       " 'cash used for software development in fiscal 2009 was $ 24684 compared to $ 23736 during the prior year .',\n",
       " 'net cash used in financing activities for the current fiscal year was $ 94675 and includes the repurchase of 3106 shares of our common stock for $ 58405 , the payment of dividends of $ 26903 and $ 13489 net repayment on our revolving credit facilities .',\n",
       " 'cash used in financing activities was partially offset by proceeds of $ 3773 from the exercise of stock options and the sale of common stock ( through the employee stock purchase plan ) and $ 348 excess tax benefits from stock option exercises .',\n",
       " 'during fiscal 2008 , net cash used in financing activities for the fiscal year was $ 101905 and includes the repurchase of 4200 shares of our common stock for $ 100996 , the payment of dividends of $ 24683 and $ 429 net repayment on our revolving credit facilities .',\n",
       " 'cash used in financing activities was partially offset by proceeds of $ 20394 from the exercise of stock options and the sale of common stock and $ 3809 excess tax benefits from stock option exercises .',\n",
       " 'beginning during fiscal 2008 , us financial markets and many of the largest us financial institutions have been shaken by negative developments in the home mortgage industry and the mortgage markets , and particularly the markets for subprime mortgage-backed securities .',\n",
       " 'since that time , these and other such developments have resulted in a broad , global economic downturn .',\n",
       " 'while we , as is the case with most companies , have experienced the effects of this downturn , we have not experienced any significant issues with our current collection efforts , and we believe that any future impact to our liquidity will be minimized by cash generated by recurring sources of revenue and due to our access to available lines of credit. .']"
      ]
     },
     "execution_count": 8,
     "metadata": {},
     "output_type": "execute_result"
    }
   ],
   "source": [
    "dataset[\"post_text\"].values[0]"
   ]
  },
  {
   "cell_type": "markdown",
   "metadata": {},
   "source": [
    "The text in the `post_text` column provides a slightly more detailed breakdown of the company's financial activities compared to the `pre_text`. It includes specific figures and explanations related to:\n",
    "\n",
    "- Cash flow from operating, investing, and financing activities.\n",
    "- The drivers behind changes in cash flow, such as early software maintenance billings and stock repurchases.\n",
    "- Context regarding broader economic conditions and their effects on the company's financial stability.\n"
   ]
  },
  {
   "cell_type": "markdown",
   "metadata": {},
   "source": [
    "Now, the third column."
   ]
  },
  {
   "cell_type": "code",
   "execution_count": 9,
   "metadata": {},
   "outputs": [],
   "source": [
    "year = set()\n",
    "stocks = set()\n",
    "for i in dataset[\"filename\"].value_counts().index:\n",
    "    year.add(i.split(\"/\")[1])\n",
    "    stocks.add(i.split(\"/\")[0])"
   ]
  },
  {
   "cell_type": "code",
   "execution_count": 10,
   "metadata": {},
   "outputs": [
    {
     "name": "stdout",
     "output_type": "stream",
     "text": [
      "Total Years: 20\n",
      "List of years: ['2000', '2001', '2002', '2003', '2004', '2005', '2006', '2007', '2008', '2009', '2010', '2011', '2012', '2013', '2014', '2015', '2016', '2017', '2018', '2019']\n"
     ]
    }
   ],
   "source": [
    "print(f\"Total Years: {len(year)}\")\n",
    "print(f\"List of years: {sorted(year)}\")"
   ]
  },
  {
   "cell_type": "code",
   "execution_count": 11,
   "metadata": {},
   "outputs": [
    {
     "name": "stdout",
     "output_type": "stream",
     "text": [
      "Total number of the companies: 133\n"
     ]
    }
   ],
   "source": [
    "print(f\"Total number of the companies: {len(stocks)}\")"
   ]
  },
  {
   "cell_type": "code",
   "execution_count": 12,
   "metadata": {},
   "outputs": [
    {
     "data": {
      "text/plain": [
       "{'AAL',\n",
       " 'AAP',\n",
       " 'AAPL',\n",
       " 'ABMD',\n",
       " 'ADBE',\n",
       " 'ADI',\n",
       " 'AES',\n",
       " 'ALLE',\n",
       " 'ALXN',\n",
       " 'AMAT',\n",
       " 'AMT',\n",
       " 'ANET',\n",
       " 'ANSS',\n",
       " 'AON',\n",
       " 'AOS',\n",
       " 'APD',\n",
       " 'APTV',\n",
       " 'AWK',\n",
       " 'BDX',\n",
       " 'BKNG',\n",
       " 'BKR',\n",
       " 'BLK',\n",
       " 'BLL',\n",
       " 'C',\n",
       " 'CAG',\n",
       " 'CAT',\n",
       " 'CB',\n",
       " 'CDNS',\n",
       " 'CDW',\n",
       " 'CE',\n",
       " 'CMCSA',\n",
       " 'CME',\n",
       " 'CNC',\n",
       " 'D',\n",
       " 'DG',\n",
       " 'DISCA',\n",
       " 'DISH',\n",
       " 'DRE',\n",
       " 'DVN',\n",
       " 'ECL',\n",
       " 'EL',\n",
       " 'EMN',\n",
       " 'EMR',\n",
       " 'EOG',\n",
       " 'ETFC',\n",
       " 'ETR',\n",
       " 'EW',\n",
       " 'EXPD',\n",
       " 'EXR',\n",
       " 'FBHS',\n",
       " 'FIS',\n",
       " 'FITB',\n",
       " 'FRT',\n",
       " 'FTV',\n",
       " 'GIS',\n",
       " 'GPN',\n",
       " 'GRMN',\n",
       " 'GS',\n",
       " 'HFC',\n",
       " 'HIG',\n",
       " 'HII',\n",
       " 'HOLX',\n",
       " 'HST',\n",
       " 'HUM',\n",
       " 'HWM',\n",
       " 'ILMN',\n",
       " 'INTC',\n",
       " 'IP',\n",
       " 'IPG',\n",
       " 'IQV',\n",
       " 'JKHY',\n",
       " 'JPM',\n",
       " 'K',\n",
       " 'KHC',\n",
       " 'KIM',\n",
       " 'KMI',\n",
       " 'L',\n",
       " 'LKQ',\n",
       " 'LLY',\n",
       " 'LMT',\n",
       " 'MA',\n",
       " 'MAA',\n",
       " 'MAR',\n",
       " 'MAS',\n",
       " 'MKTX',\n",
       " 'MMM',\n",
       " 'MO',\n",
       " 'MRK',\n",
       " 'MRO',\n",
       " 'MS',\n",
       " 'MSI',\n",
       " 'NCLH',\n",
       " 'NKE',\n",
       " 'NTAP',\n",
       " 'NWS',\n",
       " 'OKE',\n",
       " 'ORLY',\n",
       " 'PKG',\n",
       " 'PM',\n",
       " 'PNC',\n",
       " 'PPG',\n",
       " 'RCL',\n",
       " 'RE',\n",
       " 'REGN',\n",
       " 'RL',\n",
       " 'RSG',\n",
       " 'SLB',\n",
       " 'SLG',\n",
       " 'SNA',\n",
       " 'SNPS',\n",
       " 'SPGI',\n",
       " 'STT',\n",
       " 'STZ',\n",
       " 'SWKS',\n",
       " 'SYY',\n",
       " 'TFX',\n",
       " 'TMUS',\n",
       " 'TROW',\n",
       " 'TSCO',\n",
       " 'TXN',\n",
       " 'UA',\n",
       " 'UAA',\n",
       " 'UNP',\n",
       " 'UPS',\n",
       " 'V',\n",
       " 'VLO',\n",
       " 'VNO',\n",
       " 'VRTX',\n",
       " 'VTR',\n",
       " 'WELL',\n",
       " 'WMT',\n",
       " 'WRK',\n",
       " 'ZBH'}"
      ]
     },
     "execution_count": 12,
     "metadata": {},
     "output_type": "execute_result"
    }
   ],
   "source": [
    "stocks"
   ]
  },
  {
   "cell_type": "markdown",
   "metadata": {},
   "source": [
    "These stocks are seemed to be part of the s&p500 index."
   ]
  },
  {
   "cell_type": "markdown",
   "metadata": {},
   "source": [
    "The fourth and fifth column."
   ]
  },
  {
   "cell_type": "code",
   "execution_count": 13,
   "metadata": {},
   "outputs": [
    {
     "data": {
      "text/plain": [
       "[['', 'Year ended June 30, 2009'],\n",
       " ['2008', '2007'],\n",
       " ['Net income', '$103,102', '$104,222', '$104,681'],\n",
       " ['Non-cash expenses', '74,397', '70,420', '56,348'],\n",
       " ['Change in receivables', '21,214', '(2,913)', '(28,853)'],\n",
       " ['Change in deferred revenue', '21,943', '5,100', '24,576'],\n",
       " ['Change in other assets and liabilities', '(14,068)', '4,172', '17,495'],\n",
       " ['Net cash from operating activities', '$206,588', '$181,001', '$174,247']]"
      ]
     },
     "execution_count": 13,
     "metadata": {},
     "output_type": "execute_result"
    }
   ],
   "source": [
    "dataset[\"table_ori\"].values[0]"
   ]
  },
  {
   "cell_type": "code",
   "execution_count": 14,
   "metadata": {},
   "outputs": [
    {
     "data": {
      "text/plain": [
       "[['',\n",
       "  'Year Ended December 31, 2008 (Unaudited)',\n",
       "  'Year Ended December 31, 2007 (Unaudited)'],\n",
       " ['Revenue', '$9,362.2', '$9,244.9'],\n",
       " ['Income from continuing operations available to common stockholders',\n",
       "  '285.7',\n",
       "  '423.2'],\n",
       " ['Basic earnings per share', '.76', '1.10'],\n",
       " ['Diluted earnings per share', '.75', '1.09']]"
      ]
     },
     "execution_count": 14,
     "metadata": {},
     "output_type": "execute_result"
    }
   ],
   "source": [
    "dataset[\"table_ori\"].values[5]"
   ]
  },
  {
   "cell_type": "code",
   "execution_count": 15,
   "metadata": {},
   "outputs": [
    {
     "data": {
      "text/plain": [
       "[['', '12/31/04', '12/31/05', '12/31/06', '12/31/07', '12/31/08', '12/31/09'],\n",
       " ['United Parcel Service, Inc.',\n",
       "  '$100.00',\n",
       "  '$89.49',\n",
       "  '$91.06',\n",
       "  '$87.88',\n",
       "  '$70.48',\n",
       "  '$75.95'],\n",
       " ['S&P 500 Index',\n",
       "  '$100.00',\n",
       "  '$104.91',\n",
       "  '$121.48',\n",
       "  '$128.15',\n",
       "  '$80.74',\n",
       "  '$102.11'],\n",
       " ['Dow Jones Transportation Average',\n",
       "  '$100.00',\n",
       "  '$111.65',\n",
       "  '$122.61',\n",
       "  '$124.35',\n",
       "  '$97.72',\n",
       "  '$115.88']]"
      ]
     },
     "execution_count": 15,
     "metadata": {},
     "output_type": "execute_result"
    }
   ],
   "source": [
    "dataset[\"table_ori\"].values[15]"
   ]
  },
  {
   "cell_type": "code",
   "execution_count": 16,
   "metadata": {},
   "outputs": [
    {
     "data": {
      "text/plain": [
       "[['2008',\n",
       "  'year ended june 30 2009 2008',\n",
       "  'year ended june 30 2009 2008',\n",
       "  'year ended june 30 2009'],\n",
       " ['net income', '$ 103102', '$ 104222', '$ 104681'],\n",
       " ['non-cash expenses', '74397', '70420', '56348'],\n",
       " ['change in receivables', '21214', '-2913 ( 2913 )', '-28853 ( 28853 )'],\n",
       " ['change in deferred revenue', '21943', '5100', '24576'],\n",
       " ['change in other assets and liabilities',\n",
       "  '-14068 ( 14068 )',\n",
       "  '4172',\n",
       "  '17495'],\n",
       " ['net cash from operating activities', '$ 206588', '$ 181001', '$ 174247']]"
      ]
     },
     "execution_count": 16,
     "metadata": {},
     "output_type": "execute_result"
    }
   ],
   "source": [
    "dataset[\"table\"].values[0]"
   ]
  },
  {
   "cell_type": "code",
   "execution_count": 17,
   "metadata": {},
   "outputs": [
    {
     "data": {
      "text/plain": [
       "[['',\n",
       "  'year ended december 31 2008 ( unaudited )',\n",
       "  'year ended december 31 2007 ( unaudited )'],\n",
       " ['revenue', '$ 9362.2', '$ 9244.9'],\n",
       " ['income from continuing operations available to common stockholders',\n",
       "  '285.7',\n",
       "  '423.2'],\n",
       " ['basic earnings per share', '.76', '1.10'],\n",
       " ['diluted earnings per share', '.75', '1.09']]"
      ]
     },
     "execution_count": 17,
     "metadata": {},
     "output_type": "execute_result"
    }
   ],
   "source": [
    "dataset[\"table\"].values[5]"
   ]
  },
  {
   "cell_type": "markdown",
   "metadata": {},
   "source": [
    "These seems to be the data extracted from a table."
   ]
  },
  {
   "cell_type": "markdown",
   "metadata": {},
   "source": [
    "The sixth column"
   ]
  },
  {
   "cell_type": "code",
   "execution_count": 18,
   "metadata": {},
   "outputs": [
    {
     "data": {
      "text/plain": [
       "{'question': 'what was the percentage change in the net cash from operating activities from 2008 to 2009',\n",
       " 'answer': '14.1%',\n",
       " 'explanation': '',\n",
       " 'ann_table_rows': [6],\n",
       " 'ann_text_rows': [],\n",
       " 'steps': [{'op': 'minus2-1',\n",
       "   'arg1': '206588',\n",
       "   'arg2': '181001',\n",
       "   'res': '25587'},\n",
       "  {'op': 'divide2-2', 'arg1': '#0', 'arg2': '181001', 'res': '14.1%'}],\n",
       " 'program': 'subtract(206588, 181001), divide(#0, 181001)',\n",
       " 'gold_inds': {'table_6': '2008 the net cash from operating activities of year ended june 30 2009 2008 is $ 206588 ; the net cash from operating activities of year ended june 30 2009 2008 is $ 181001 ; the net cash from operating activities of year ended june 30 2009 is $ 174247 ;'},\n",
       " 'exe_ans': 0.14136,\n",
       " 'program_re': 'divide(subtract(206588, 181001), 181001)'}"
      ]
     },
     "execution_count": 18,
     "metadata": {},
     "output_type": "execute_result"
    }
   ],
   "source": [
    "dataset[\"qa\"].values[0]"
   ]
  },
  {
   "cell_type": "markdown",
   "metadata": {},
   "source": [
    "This appears to be a structured format for a question-answer type scenario with steps for the calculations."
   ]
  },
  {
   "cell_type": "markdown",
   "metadata": {},
   "source": [
    "The seventh column."
   ]
  },
  {
   "cell_type": "code",
   "execution_count": 19,
   "metadata": {},
   "outputs": [
    {
     "data": {
      "text/plain": [
       "0        Single_JKHY/2009/page_28.pdf-3_0\n",
       "1        Single_JKHY/2009/page_28.pdf-3_1\n",
       "2        Single_JKHY/2009/page_28.pdf-3_2\n",
       "3        Single_JKHY/2009/page_28.pdf-3_3\n",
       "4        Single_RSG/2008/page_114.pdf-2_0\n",
       "                       ...               \n",
       "11099       Double_IPG/2015/page_24.pdf_1\n",
       "11100       Double_IPG/2015/page_24.pdf_2\n",
       "11101       Double_IPG/2015/page_24.pdf_3\n",
       "11102     Single_CDW/2017/page_56.pdf-2_0\n",
       "11103     Single_CDW/2017/page_56.pdf-2_1\n",
       "Name: id, Length: 11104, dtype: object"
      ]
     },
     "execution_count": 19,
     "metadata": {},
     "output_type": "execute_result"
    }
   ],
   "source": [
    "dataset[\"id\"]"
   ]
  },
  {
   "cell_type": "markdown",
   "metadata": {},
   "source": [
    "It seems this column just tells whether the pdf is single paged or not."
   ]
  },
  {
   "cell_type": "markdown",
   "metadata": {},
   "source": [
    "The eighth column"
   ]
  },
  {
   "cell_type": "code",
   "execution_count": 20,
   "metadata": {},
   "outputs": [
    {
     "data": {
      "text/plain": [
       "{'amt_table': \"<table class='wikitable'><tr><td>1</td><td>2008</td><td>year ended june 30 2009 2008</td><td>year ended june 30 2009 2008</td><td>year ended june 30 2009</td></tr><tr><td>2</td><td>net income</td><td>$ 103102</td><td>$ 104222</td><td>$ 104681</td></tr><tr><td>3</td><td>non-cash expenses</td><td>74397</td><td>70420</td><td>56348</td></tr><tr><td>4</td><td>change in receivables</td><td>21214</td><td>-2913 ( 2913 )</td><td>-28853 ( 28853 )</td></tr><tr><td>5</td><td>change in deferred revenue</td><td>21943</td><td>5100</td><td>24576</td></tr><tr><td>6</td><td>change in other assets and liabilities</td><td>-14068 ( 14068 )</td><td>4172</td><td>17495</td></tr><tr><td>7</td><td>net cash from operating activities</td><td>$ 206588</td><td>$ 181001</td><td>$ 174247</td></tr></table>\",\n",
       " 'amt_pre_text': '26 | 2009 annual report in fiscal 2008 , revenues in the credit union systems and services business segment increased 14% ( 14 % ) from fiscal 2007 . all revenue components within the segment experienced growth during fiscal 2008 . license revenue generated the largest dollar growth in revenue as episys ae , our flagship core processing system aimed at larger credit unions , experienced strong sales throughout the year . support and service revenue , which is the largest component of total revenues for the credit union segment , experienced 34 percent growth in eft support and 10 percent growth in in-house support . gross profit in this business segment increased $ 9344 in fiscal 2008 compared to fiscal 2007 , due primarily to the increase in license revenue , which carries the highest margins . liquidity and capital resources we have historically generated positive cash flow from operations and have generally used funds generated from operations and short-term borrowings on our revolving credit facility to meet capital requirements . we expect this trend to continue in the future . the company 2019s cash and cash equivalents increased to $ 118251 at june 30 , 2009 from $ 65565 at june 30 , 2008 . the following table summarizes net cash from operating activities in the statement of cash flows : 2009 2008 2007 .',\n",
       " 'amt_post_text': 'year ended june 30 , cash provided by operations increased $ 25587 to $ 206588 for the fiscal year ended june 30 , 2009 as compared to $ 181001 for the fiscal year ended june 30 , 2008 . this increase is primarily attributable to a decrease in receivables compared to the same period a year ago of $ 21214 . this decrease is largely the result of fiscal 2010 annual software maintenance billings being provided to customers earlier than in the prior year , which allowed more cash to be collected before the end of the fiscal year than in previous years . further , we collected more cash overall related to revenues that will be recognized in subsequent periods in the current year than in fiscal 2008 . cash used in investing activities for the fiscal year ended june 2009 was $ 59227 and includes $ 3027 in contingent consideration paid on prior years 2019 acquisitions . cash used in investing activities for the fiscal year ended june 2008 was $ 102148 and includes payments for acquisitions of $ 48109 , plus $ 1215 in contingent consideration paid on prior years 2019 acquisitions . capital expenditures for fiscal 2009 were $ 31562 compared to $ 31105 for fiscal 2008 . cash used for software development in fiscal 2009 was $ 24684 compared to $ 23736 during the prior year . net cash used in financing activities for the current fiscal year was $ 94675 and includes the repurchase of 3106 shares of our common stock for $ 58405 , the payment of dividends of $ 26903 and $ 13489 net repayment on our revolving credit facilities . cash used in financing activities was partially offset by proceeds of $ 3773 from the exercise of stock options and the sale of common stock ( through the employee stock purchase plan ) and $ 348 excess tax benefits from stock option exercises . during fiscal 2008 , net cash used in financing activities for the fiscal year was $ 101905 and includes the repurchase of 4200 shares of our common stock for $ 100996 , the payment of dividends of $ 24683 and $ 429 net repayment on our revolving credit facilities . cash used in financing activities was partially offset by proceeds of $ 20394 from the exercise of stock options and the sale of common stock and $ 3809 excess tax benefits from stock option exercises . beginning during fiscal 2008 , us financial markets and many of the largest us financial institutions have been shaken by negative developments in the home mortgage industry and the mortgage markets , and particularly the markets for subprime mortgage-backed securities . since that time , these and other such developments have resulted in a broad , global economic downturn . while we , as is the case with most companies , have experienced the effects of this downturn , we have not experienced any significant issues with our current collection efforts , and we believe that any future impact to our liquidity will be minimized by cash generated by recurring sources of revenue and due to our access to available lines of credit. .',\n",
       " 'original_program': 'subtract(206588, 181001), divide(A0, 181001)',\n",
       " 'step_list': ['Ask for number 206588',\n",
       "  'Ask for number 181001',\n",
       "  'subtract(206588, 181001)',\n",
       "  'divide(A0, 181001)'],\n",
       " 'answer_list': ['206588', '181001', 'A0', 'A1'],\n",
       " 'dialogue_break': ['what is the net cash from operating activities in 2009?',\n",
       "  'what about in 2008?',\n",
       "  'what is the difference?',\n",
       "  'what percentage change does this represent?'],\n",
       " 'turn_program_ori': ['206588',\n",
       "  '181001',\n",
       "  'subtract(206588, 181001)',\n",
       "  'subtract(206588, 181001), divide(#0, 181001)'],\n",
       " 'dialogue_break_ori': ['what is the net cash from operating activities in 2009?',\n",
       "  'what about in 2008?',\n",
       "  'what is the difference?',\n",
       "  'what percentage change does this represent?'],\n",
       " 'turn_program': ['206588',\n",
       "  '181001',\n",
       "  'subtract(206588, 181001)',\n",
       "  'subtract(206588, 181001), divide(#0, 181001)'],\n",
       " 'qa_split': [0, 0, 0, 0],\n",
       " 'exe_ans_list': [206588.0, 181001.0, 25587.0, 0.14136],\n",
       " 'cur_program': '206588',\n",
       " 'cur_dial': ['what is the net cash from operating activities in 2009?'],\n",
       " 'exe_ans': 206588.0,\n",
       " 'cur_type': 'number_turn',\n",
       " 'turn_ind': 0,\n",
       " 'gold_ind': {'table_6': '2008 the net cash from operating activities of year ended june 30 2009 2008 is $ 206588 ; the net cash from operating activities of year ended june 30 2009 2008 is $ 181001 ; the net cash from operating activities of year ended june 30 2009 is $ 174247 ;'}}"
      ]
     },
     "execution_count": 20,
     "metadata": {},
     "output_type": "execute_result"
    }
   ],
   "source": [
    "dataset[\"annotation\"].values[0]"
   ]
  },
  {
   "cell_type": "markdown",
   "metadata": {},
   "source": [
    "- The 1st key `amt_table` contains the unextracted data from the column `table_uri`.\n",
    "- The 2nd and 3rd keys are same as the columns `pre_text` and `post_text`.\n",
    "- The 4th key `original_program` contains the method used for the calculations.\n",
    "- The 5th key `step_list` contains the steps taken by the automated model for the calculations.\n",
    "- The 6th key `answer_list` holds the values and the answers of the calculations.\n",
    "- The 7th key `dialogue_break` contains all the questions that was asked for the specific pdf in a single session.\n",
    "- The 8th key `turn_program_ori` contains the steps for calculations.\n",
    "- The 9th key `dialogue_break_ori` is the same as that of 7th key `dialogue_break`.\n",
    "- The 10th key `turn_program` is again the same as 8th key `turn_program_ori`.\n",
    "- The 11th key `qa_split`: No idea\n",
    "- The 12th key `exe_ans_list` a list containing the values and answers.\n",
    "- The 13th key `cur_program`, here it contains the answer to the first question.\n",
    "- The 14th key `cur_dial`, it holds the questions asked by the user. (new questions will be appended)\n",
    "- The 15th key `exe_ans`, answer to the question.\n",
    "- The 16th key `cur_type`: No idea\n",
    "- The 17th key `turn_ind`, this might be the ith question the user asked in a session.\n",
    "- The 18th key `gold_ind`, all the final outputs the automated model gave."
   ]
  },
  {
   "cell_type": "markdown",
   "metadata": {},
   "source": [
    "The 9th and 10th columns."
   ]
  },
  {
   "cell_type": "code",
   "execution_count": 21,
   "metadata": {},
   "outputs": [
    {
     "name": "stdout",
     "output_type": "stream",
     "text": [
      "<class 'pandas.core.frame.DataFrame'>\n",
      "RangeIndex: 11104 entries, 0 to 11103\n",
      "Data columns (total 10 columns):\n",
      " #   Column      Non-Null Count  Dtype \n",
      "---  ------      --------------  ----- \n",
      " 0   pre_text    11104 non-null  object\n",
      " 1   post_text   11104 non-null  object\n",
      " 2   filename    11104 non-null  object\n",
      " 3   table_ori   11104 non-null  object\n",
      " 4   table       11104 non-null  object\n",
      " 5   qa          7462 non-null   object\n",
      " 6   id          11104 non-null  object\n",
      " 7   annotation  11104 non-null  object\n",
      " 8   qa_0        3642 non-null   object\n",
      " 9   qa_1        3642 non-null   object\n",
      "dtypes: object(10)\n",
      "memory usage: 867.6+ KB\n"
     ]
    }
   ],
   "source": [
    "dataset.info()"
   ]
  },
  {
   "cell_type": "code",
   "execution_count": 22,
   "metadata": {},
   "outputs": [
    {
     "data": {
      "text/plain": [
       "11104"
      ]
     },
     "execution_count": 22,
     "metadata": {},
     "output_type": "execute_result"
    }
   ],
   "source": [
    "len(dataset[~dataset[\"qa\"].isna()]) + len(dataset[~dataset[\"qa_0\"].isna()])"
   ]
  },
  {
   "cell_type": "markdown",
   "metadata": {},
   "source": [
    "It seems when the qa is not nan the other columns qa_1 and qa_2 are nan, whereas when qa is nan, there are values in those 2 columns."
   ]
  },
  {
   "cell_type": "code",
   "execution_count": 24,
   "metadata": {},
   "outputs": [],
   "source": [
    "dataset_new = dataset[~dataset[\"qa_0\"].isna()].head().copy()"
   ]
  },
  {
   "cell_type": "code",
   "execution_count": 25,
   "metadata": {},
   "outputs": [
    {
     "data": {
      "text/html": [
       "<div>\n",
       "<style scoped>\n",
       "    .dataframe tbody tr th:only-of-type {\n",
       "        vertical-align: middle;\n",
       "    }\n",
       "\n",
       "    .dataframe tbody tr th {\n",
       "        vertical-align: top;\n",
       "    }\n",
       "\n",
       "    .dataframe thead th {\n",
       "        text-align: right;\n",
       "    }\n",
       "</style>\n",
       "<table border=\"1\" class=\"dataframe\">\n",
       "  <thead>\n",
       "    <tr style=\"text-align: right;\">\n",
       "      <th></th>\n",
       "      <th>pre_text</th>\n",
       "      <th>post_text</th>\n",
       "      <th>filename</th>\n",
       "      <th>table_ori</th>\n",
       "      <th>table</th>\n",
       "      <th>qa</th>\n",
       "      <th>id</th>\n",
       "      <th>annotation</th>\n",
       "      <th>qa_0</th>\n",
       "      <th>qa_1</th>\n",
       "    </tr>\n",
       "  </thead>\n",
       "  <tbody>\n",
       "    <tr>\n",
       "      <th>18</th>\n",
       "      <td>[( 1 ) includes shares repurchased through our...</td>\n",
       "      <td>[.]</td>\n",
       "      <td>UPS/2009/page_33.pdf</td>\n",
       "      <td>[[, 12/31/04, 12/31/05, 12/31/06, 12/31/07, 12...</td>\n",
       "      <td>[[, 12/31/04, 12/31/05, 12/31/06, 12/31/07, 12...</td>\n",
       "      <td>NaN</td>\n",
       "      <td>Double_UPS/2009/page_33.pdf_0</td>\n",
       "      <td>{'amt_table': '&lt;table class='wikitable'&gt;&lt;tr&gt;&lt;t...</td>\n",
       "      <td>{'question': 'what is the roi of an investment...</td>\n",
       "      <td>{'question': 'what was the difference in perce...</td>\n",
       "    </tr>\n",
       "    <tr>\n",
       "      <th>19</th>\n",
       "      <td>[( 1 ) includes shares repurchased through our...</td>\n",
       "      <td>[.]</td>\n",
       "      <td>UPS/2009/page_33.pdf</td>\n",
       "      <td>[[, 12/31/04, 12/31/05, 12/31/06, 12/31/07, 12...</td>\n",
       "      <td>[[, 12/31/04, 12/31/05, 12/31/06, 12/31/07, 12...</td>\n",
       "      <td>NaN</td>\n",
       "      <td>Double_UPS/2009/page_33.pdf_1</td>\n",
       "      <td>{'amt_table': '&lt;table class='wikitable'&gt;&lt;tr&gt;&lt;t...</td>\n",
       "      <td>{'question': 'what is the roi of an investment...</td>\n",
       "      <td>{'question': 'what was the difference in perce...</td>\n",
       "    </tr>\n",
       "    <tr>\n",
       "      <th>20</th>\n",
       "      <td>[( 1 ) includes shares repurchased through our...</td>\n",
       "      <td>[.]</td>\n",
       "      <td>UPS/2009/page_33.pdf</td>\n",
       "      <td>[[, 12/31/04, 12/31/05, 12/31/06, 12/31/07, 12...</td>\n",
       "      <td>[[, 12/31/04, 12/31/05, 12/31/06, 12/31/07, 12...</td>\n",
       "      <td>NaN</td>\n",
       "      <td>Double_UPS/2009/page_33.pdf_2</td>\n",
       "      <td>{'amt_table': '&lt;table class='wikitable'&gt;&lt;tr&gt;&lt;t...</td>\n",
       "      <td>{'question': 'what is the roi of an investment...</td>\n",
       "      <td>{'question': 'what was the difference in perce...</td>\n",
       "    </tr>\n",
       "    <tr>\n",
       "      <th>21</th>\n",
       "      <td>[( 1 ) includes shares repurchased through our...</td>\n",
       "      <td>[.]</td>\n",
       "      <td>UPS/2009/page_33.pdf</td>\n",
       "      <td>[[, 12/31/04, 12/31/05, 12/31/06, 12/31/07, 12...</td>\n",
       "      <td>[[, 12/31/04, 12/31/05, 12/31/06, 12/31/07, 12...</td>\n",
       "      <td>NaN</td>\n",
       "      <td>Double_UPS/2009/page_33.pdf_3</td>\n",
       "      <td>{'amt_table': '&lt;table class='wikitable'&gt;&lt;tr&gt;&lt;t...</td>\n",
       "      <td>{'question': 'what is the roi of an investment...</td>\n",
       "      <td>{'question': 'what was the difference in perce...</td>\n",
       "    </tr>\n",
       "    <tr>\n",
       "      <th>22</th>\n",
       "      <td>[( 1 ) includes shares repurchased through our...</td>\n",
       "      <td>[.]</td>\n",
       "      <td>UPS/2009/page_33.pdf</td>\n",
       "      <td>[[, 12/31/04, 12/31/05, 12/31/06, 12/31/07, 12...</td>\n",
       "      <td>[[, 12/31/04, 12/31/05, 12/31/06, 12/31/07, 12...</td>\n",
       "      <td>NaN</td>\n",
       "      <td>Double_UPS/2009/page_33.pdf_4</td>\n",
       "      <td>{'amt_table': '&lt;table class='wikitable'&gt;&lt;tr&gt;&lt;t...</td>\n",
       "      <td>{'question': 'what is the roi of an investment...</td>\n",
       "      <td>{'question': 'what was the difference in perce...</td>\n",
       "    </tr>\n",
       "  </tbody>\n",
       "</table>\n",
       "</div>"
      ],
      "text/plain": [
       "                                             pre_text post_text  \\\n",
       "18  [( 1 ) includes shares repurchased through our...       [.]   \n",
       "19  [( 1 ) includes shares repurchased through our...       [.]   \n",
       "20  [( 1 ) includes shares repurchased through our...       [.]   \n",
       "21  [( 1 ) includes shares repurchased through our...       [.]   \n",
       "22  [( 1 ) includes shares repurchased through our...       [.]   \n",
       "\n",
       "                filename                                          table_ori  \\\n",
       "18  UPS/2009/page_33.pdf  [[, 12/31/04, 12/31/05, 12/31/06, 12/31/07, 12...   \n",
       "19  UPS/2009/page_33.pdf  [[, 12/31/04, 12/31/05, 12/31/06, 12/31/07, 12...   \n",
       "20  UPS/2009/page_33.pdf  [[, 12/31/04, 12/31/05, 12/31/06, 12/31/07, 12...   \n",
       "21  UPS/2009/page_33.pdf  [[, 12/31/04, 12/31/05, 12/31/06, 12/31/07, 12...   \n",
       "22  UPS/2009/page_33.pdf  [[, 12/31/04, 12/31/05, 12/31/06, 12/31/07, 12...   \n",
       "\n",
       "                                                table   qa  \\\n",
       "18  [[, 12/31/04, 12/31/05, 12/31/06, 12/31/07, 12...  NaN   \n",
       "19  [[, 12/31/04, 12/31/05, 12/31/06, 12/31/07, 12...  NaN   \n",
       "20  [[, 12/31/04, 12/31/05, 12/31/06, 12/31/07, 12...  NaN   \n",
       "21  [[, 12/31/04, 12/31/05, 12/31/06, 12/31/07, 12...  NaN   \n",
       "22  [[, 12/31/04, 12/31/05, 12/31/06, 12/31/07, 12...  NaN   \n",
       "\n",
       "                               id  \\\n",
       "18  Double_UPS/2009/page_33.pdf_0   \n",
       "19  Double_UPS/2009/page_33.pdf_1   \n",
       "20  Double_UPS/2009/page_33.pdf_2   \n",
       "21  Double_UPS/2009/page_33.pdf_3   \n",
       "22  Double_UPS/2009/page_33.pdf_4   \n",
       "\n",
       "                                           annotation  \\\n",
       "18  {'amt_table': '<table class='wikitable'><tr><t...   \n",
       "19  {'amt_table': '<table class='wikitable'><tr><t...   \n",
       "20  {'amt_table': '<table class='wikitable'><tr><t...   \n",
       "21  {'amt_table': '<table class='wikitable'><tr><t...   \n",
       "22  {'amt_table': '<table class='wikitable'><tr><t...   \n",
       "\n",
       "                                                 qa_0  \\\n",
       "18  {'question': 'what is the roi of an investment...   \n",
       "19  {'question': 'what is the roi of an investment...   \n",
       "20  {'question': 'what is the roi of an investment...   \n",
       "21  {'question': 'what is the roi of an investment...   \n",
       "22  {'question': 'what is the roi of an investment...   \n",
       "\n",
       "                                                 qa_1  \n",
       "18  {'question': 'what was the difference in perce...  \n",
       "19  {'question': 'what was the difference in perce...  \n",
       "20  {'question': 'what was the difference in perce...  \n",
       "21  {'question': 'what was the difference in perce...  \n",
       "22  {'question': 'what was the difference in perce...  "
      ]
     },
     "execution_count": 25,
     "metadata": {},
     "output_type": "execute_result"
    }
   ],
   "source": [
    "dataset_new"
   ]
  },
  {
   "cell_type": "code",
   "execution_count": 28,
   "metadata": {},
   "outputs": [
    {
     "data": {
      "text/plain": [
       "{'question': 'what is the roi of an investment in ups in 2004 and sold in 2006?',\n",
       " 'answer': '-8.9%',\n",
       " 'explanation': '',\n",
       " 'ann_table_rows': [1],\n",
       " 'ann_text_rows': [],\n",
       " 'steps': [{'op': 'minus1-1',\n",
       "   'arg1': '91.06',\n",
       "   'arg2': 'const_100',\n",
       "   'res': '-8.94'},\n",
       "  {'op': 'divide1-2', 'arg1': '#0', 'arg2': 'const_100', 'res': '-8.9%'}],\n",
       " 'program': 'subtract(91.06, const_100), divide(#0, const_100)',\n",
       " 'gold_inds': {'table_1': 'the united parcel service inc . of 12/31/04 is $ 100.00 ; the united parcel service inc . of 12/31/05 is $ 89.49 ; the united parcel service inc . of 12/31/06 is $ 91.06 ; the united parcel service inc . of 12/31/07 is $ 87.88 ; the united parcel service inc . of 12/31/08 is $ 70.48 ; the united parcel service inc . of 12/31/09 is $ 75.95 ;'},\n",
       " 'exe_ans': -0.08940000000000001,\n",
       " 'program_re': 'divide(subtract(91.06, const_100), const_100)'}"
      ]
     },
     "execution_count": 28,
     "metadata": {},
     "output_type": "execute_result"
    }
   ],
   "source": [
    "dataset_new[\"qa_0\"].values[0]"
   ]
  },
  {
   "cell_type": "code",
   "execution_count": 29,
   "metadata": {},
   "outputs": [
    {
     "data": {
      "text/plain": [
       "{'question': 'what was the difference in percentage cumulative return on investment for united parcel service inc . compared to the s&p 500 index for the five year period ended 12/31/09?',\n",
       " 'answer': '-26.16%',\n",
       " 'explanation': '',\n",
       " 'ann_table_rows': [1, 2],\n",
       " 'ann_text_rows': [],\n",
       " 'steps': [{'op': 'minus2-1',\n",
       "   'arg1': '75.95',\n",
       "   'arg2': 'const_100',\n",
       "   'res': '-24.05'},\n",
       "  {'op': 'divide2-2', 'arg1': '#0', 'arg2': 'const_100', 'res': '-24.05%'},\n",
       "  {'op': 'minus2-3', 'arg1': '102.11', 'arg2': 'const_100', 'res': '2.11'},\n",
       "  {'op': 'divide2-4', 'arg1': '#2', 'arg2': 'const_100', 'res': '2.11%'},\n",
       "  {'op': 'minus2-5', 'arg1': '#1', 'arg2': '#3', 'res': '-26.16%'}],\n",
       " 'program': 'subtract(75.95, const_100), divide(#0, const_100), subtract(102.11, const_100), divide(#2, const_100), subtract(#1, #3)',\n",
       " 'gold_inds': {'table_1': 'the united parcel service inc . of 12/31/04 is $ 100.00 ; the united parcel service inc . of 12/31/05 is $ 89.49 ; the united parcel service inc . of 12/31/06 is $ 91.06 ; the united parcel service inc . of 12/31/07 is $ 87.88 ; the united parcel service inc . of 12/31/08 is $ 70.48 ; the united parcel service inc . of 12/31/09 is $ 75.95 ;',\n",
       "  'table_2': 'the s&p 500 index of 12/31/04 is $ 100.00 ; the s&p 500 index of 12/31/05 is $ 104.91 ; the s&p 500 index of 12/31/06 is $ 121.48 ; the s&p 500 index of 12/31/07 is $ 128.15 ; the s&p 500 index of 12/31/08 is $ 80.74 ; the s&p 500 index of 12/31/09 is $ 102.11 ;'},\n",
       " 'exe_ans': -0.2616,\n",
       " 'program_re': 'subtract(divide(subtract(75.95, const_100), const_100), divide(subtract(102.11, const_100), const_100))'}"
      ]
     },
     "execution_count": 29,
     "metadata": {},
     "output_type": "execute_result"
    }
   ],
   "source": [
    "dataset_new[\"qa_1\"].values[0]"
   ]
  }
 ],
 "metadata": {
  "kernelspec": {
   "display_name": ".venv",
   "language": "python",
   "name": "python3"
  },
  "language_info": {
   "codemirror_mode": {
    "name": "ipython",
    "version": 3
   },
   "file_extension": ".py",
   "mimetype": "text/x-python",
   "name": "python",
   "nbconvert_exporter": "python",
   "pygments_lexer": "ipython3",
   "version": "3.11.8"
  }
 },
 "nbformat": 4,
 "nbformat_minor": 2
}
