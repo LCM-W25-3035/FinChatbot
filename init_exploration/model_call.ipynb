{
 "cells": [
  {
   "cell_type": "code",
   "execution_count": null,
   "metadata": {},
   "outputs": [
    {
     "name": "stdout",
     "output_type": "stream",
     "text": [
      "[{'label': 'LABEL_1', 'score': 0.9984090924263}]\n"
     ]
    }
   ],
   "source": [
    "import boto3\n",
    "import json\n",
    "\n",
    "# Initialize the SageMaker Runtime client\n",
    "sagemaker_runtime = boto3.client('sagemaker-runtime', region_name=\"us-east-1\")\n",
    "\n",
    "# Define your input payload\n",
    "payload = {\n",
    "    \"inputs\": \"What was the total cost for 2019?\"\n",
    "}\n",
    "\n",
    "# Convert payload to JSON\n",
    "payload_json = json.dumps(payload)\n",
    "\n",
    "# Invoke the endpoint\n",
    "response = sagemaker_runtime.invoke_endpoint(\n",
    "    EndpointName=\"huggingface-pytorch-inference-2025-03-30-21-03-28-537\",\n",
    "    ContentType=\"application/json\",\n",
    "    Body=payload_json\n",
    ")\n",
    "\n",
    "# Parse the response\n",
    "result = json.loads(response['Body'].read().decode())\n",
    "print(result[\"label\"])"
   ]
  },
  {
   "cell_type": "code",
   "execution_count": 5,
   "metadata": {},
   "outputs": [],
   "source": [
    "import boto3\n",
    "import os\n",
    "import json\n",
    "from dotenv import load_dotenv\n",
    "\n",
    "load_dotenv()\n",
    "\n",
    "REGION_NAME = os.getenv(\"REGION_NAME\")\n",
    "END_POINT = os.getenv(\"END_POINT\")\n",
    "\n",
    "def predict_query(input):\n",
    "    sagemaker_runtime = boto3.client(\"sagemaker-runtime\", region_name = REGION_NAME)\n",
    "\n",
    "    payload = {\n",
    "    \"inputs\": input\n",
    "    }\n",
    "\n",
    "    payload_json = json.dumps(payload)\n",
    "\n",
    "    # Invoke the endpoint\n",
    "    response = sagemaker_runtime.invoke_endpoint(\n",
    "    EndpointName = END_POINT,\n",
    "    ContentType = \"application/json\",\n",
    "    Body = payload_json\n",
    "    )\n",
    "\n",
    "    output = json.loads(response['Body'].read().decode())\n",
    "    \n",
    "    return pred_label(output[0][\"label\"])\n",
    "\n",
    "def pred_label(pred):\n",
    "    if pred == \"LABEL_0\":\n",
    "        return \"arithmetic\"\n",
    "    return \"span\""
   ]
  },
  {
   "cell_type": "code",
   "execution_count": 6,
   "metadata": {},
   "outputs": [
    {
     "data": {
      "text/plain": [
       "'span'"
      ]
     },
     "execution_count": 6,
     "metadata": {},
     "output_type": "execute_result"
    }
   ],
   "source": [
    "predict_query(\"How much is the 2018 rate of inflation?\")"
   ]
  },
  {
   "cell_type": "code",
   "execution_count": null,
   "metadata": {},
   "outputs": [],
   "source": []
  }
 ],
 "metadata": {
  "kernelspec": {
   "display_name": ".venv",
   "language": "python",
   "name": "python3"
  },
  "language_info": {
   "codemirror_mode": {
    "name": "ipython",
    "version": 3
   },
   "file_extension": ".py",
   "mimetype": "text/x-python",
   "name": "python",
   "nbconvert_exporter": "python",
   "pygments_lexer": "ipython3",
   "version": "3.11.8"
  }
 },
 "nbformat": 4,
 "nbformat_minor": 2
}
