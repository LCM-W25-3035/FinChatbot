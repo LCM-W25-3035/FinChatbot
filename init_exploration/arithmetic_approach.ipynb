{
 "cells": [
  {
   "cell_type": "code",
   "execution_count": null,
   "metadata": {},
   "outputs": [
    {
     "data": {
      "text/plain": [
       "True"
      ]
     },
     "execution_count": 1,
     "metadata": {},
     "output_type": "execute_result"
    }
   ],
   "source": [
    "import openai\n",
    "from dotenv import find_dotenv, load_dotenv\n",
    "import pickle\n",
    "#importing the required libraries and loading the environment\n",
    "load_dotenv(find_dotenv())"
   ]
  },
  {
   "cell_type": "code",
   "execution_count": null,
   "metadata": {},
   "outputs": [],
   "source": [
    "#opening the file content\n",
    "with open(\"../artifacts/summaries/table_summaries.pkl\", \"rb\") as table_file:\n",
    "    table_summaries = pickle.load(table_file)\n",
    "with open(\"../artifacts/summaries/text_summaries.pkl\", \"rb\") as text_file:\n",
    "    text_summaries = pickle.load(text_file)"
   ]
  },
  {
   "cell_type": "code",
   "execution_count": 3,
   "metadata": {},
   "outputs": [],
   "source": [
    "# User query\n",
    "query = \"What is the change in Revenues in the year 2022 and 2023 in Quarter ended December 31?\""
   ]
  },
  {
   "cell_type": "code",
   "execution_count": 4,
   "metadata": {},
   "outputs": [],
   "source": [
    "from langchain.chat_models import ChatOpenAI\n",
    "from langchain.prompts import ChatPromptTemplate\n",
    "\n",
    "def parse_query_with_llm(question, context):\n",
    "    \n",
    "    template = \"\"\"You are an assistant that parses mathematical questions.\n",
    "    \n",
    "    Given the context and question, extract:\n",
    "    - The mathematical operation (e.g., sum, average, difference, etc.)\n",
    "    - The values involved\n",
    "    - The formula to compute the result\n",
    "    \n",
    "    Current context:\n",
    "    {context}\n",
    "    \n",
    "    Current question: {question}\n",
    "    \n",
    "    Please provide a structured response with:\n",
    "    Operation: <operation>\n",
    "    Values: <list of values>\n",
    "    Formula: <formula>\n",
    "    Answer: <answer>\n",
    "    \n",
    "    KEEP RESPONSES CONCISE AND FOCUSED.\n",
    "    ONLY USE INFORMATION PROVIDED IN THE CONTEXT.\n",
    "    \"\"\"\n",
    "    \n",
    "    # Create prompt template\n",
    "    prompt = ChatPromptTemplate.from_template(template)\n",
    "    \n",
    "    # Initialize LLM\n",
    "    model = ChatOpenAI(\n",
    "        temperature=0,\n",
    "        model=\"gpt-4o-mini\",\n",
    "        max_tokens=200  # Limit response length\n",
    "    )\n",
    "    \n",
    "    # Format prompt with input variables\n",
    "    formatted_prompt = prompt.format_messages(\n",
    "        context=context,\n",
    "        question=question\n",
    "    )\n",
    "    \n",
    "    # Get response from LLM\n",
    "    response = model(formatted_prompt)\n",
    "    \n",
    "    # Parse the response into structured format\n",
    "    response_lines = response.content.strip().split('\\n')\n",
    "    parsed_response = {}\n",
    "    \n",
    "    for line in response_lines:\n",
    "        if ':' in line:\n",
    "            key, value = line.split(':', 1)\n",
    "            parsed_response[key.strip()] = value.strip()\n",
    "    \n",
    "    return parsed_response"
   ]
  },
  {
   "cell_type": "code",
   "execution_count": 5,
   "metadata": {},
   "outputs": [
    {
     "name": "stderr",
     "output_type": "stream",
     "text": [
      "C:\\Users\\sehaj\\AppData\\Local\\Temp\\ipykernel_20900\\2719519498.py:32: LangChainDeprecationWarning: The class `ChatOpenAI` was deprecated in LangChain 0.0.10 and will be removed in 1.0. An updated version of the class exists in the :class:`~langchain-openai package and should be used instead. To use it run `pip install -U :class:`~langchain-openai` and import as `from :class:`~langchain_openai import ChatOpenAI``.\n",
      "  model = ChatOpenAI(\n",
      "C:\\Users\\sehaj\\AppData\\Local\\Temp\\ipykernel_20900\\2719519498.py:45: LangChainDeprecationWarning: The method `BaseChatModel.__call__` was deprecated in langchain-core 0.1.7 and will be removed in 1.0. Use :meth:`~invoke` instead.\n",
      "  response = model(formatted_prompt)\n"
     ]
    },
    {
     "name": "stdout",
     "output_type": "stream",
     "text": [
      "Parsed Response: {'Operation': 'Difference', 'Values': '[86,310, 76,048]', 'Formula': 'Change in Revenues = Revenues (2023) - Revenues (2022)', 'Answer': '10,262'}\n",
      "Answer: 10,262\n"
     ]
    }
   ],
   "source": [
    "# Parse the query\n",
    "parsed_response = parse_query_with_llm(query, table_summaries)\n",
    "print(\"Parsed Response:\", parsed_response)\n",
    "print(\"Answer:\", parsed_response[\"Answer\"])"
   ]
  }
 ],
 "metadata": {
  "kernelspec": {
   "display_name": ".venv",
   "language": "python",
   "name": "python3"
  },
  "language_info": {
   "codemirror_mode": {
    "name": "ipython",
    "version": 3
   },
   "file_extension": ".py",
   "mimetype": "text/x-python",
   "name": "python",
   "nbconvert_exporter": "python",
   "pygments_lexer": "ipython3",
   "version": "3.11.8"
  }
 },
 "nbformat": 4,
 "nbformat_minor": 2
}
