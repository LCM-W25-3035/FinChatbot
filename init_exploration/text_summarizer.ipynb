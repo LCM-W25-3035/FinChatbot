{
 "cells": [
  {
   "cell_type": "markdown",
   "metadata": {},
   "source": [
    "We will be using the transformer to summarize the combined_text (pre_text and post_text) and take that summarized data as a context for our QnA Transformer.  "
   ]
  },
  {
   "cell_type": "code",
   "execution_count": 1,
   "metadata": {},
   "outputs": [
    {
     "name": "stderr",
     "output_type": "stream",
     "text": [
      "c:\\Users\\sehaj\\OneDrive\\Desktop\\Capstone\\FinChatbot\\.venv\\Lib\\site-packages\\tqdm\\auto.py:21: TqdmWarning: IProgress not found. Please update jupyter and ipywidgets. See https://ipywidgets.readthedocs.io/en/stable/user_install.html\n",
      "  from .autonotebook import tqdm as notebook_tqdm\n"
     ]
    },
    {
     "ename": "ImportError",
     "evalue": "\nPegasusTokenizer requires the SentencePiece library but it was not found in your environment. Checkout the instructions on the\ninstallation page of its repo: https://github.com/google/sentencepiece#installation and follow the ones\nthat match your environment. Please note that you may need to restart your runtime after installation.\n",
     "output_type": "error",
     "traceback": [
      "\u001b[1;31m---------------------------------------------------------------------------\u001b[0m",
      "\u001b[1;31mImportError\u001b[0m                               Traceback (most recent call last)",
      "Cell \u001b[1;32mIn[1], line 4\u001b[0m\n\u001b[0;32m      1\u001b[0m \u001b[38;5;28;01mfrom\u001b[39;00m\u001b[38;5;250m \u001b[39m\u001b[38;5;21;01mtransformers\u001b[39;00m\u001b[38;5;250m \u001b[39m\u001b[38;5;28;01mimport\u001b[39;00m PegasusTokenizer, PegasusForConditionalGeneration\n\u001b[0;32m      3\u001b[0m model_name \u001b[38;5;241m=\u001b[39m \u001b[38;5;124m\"\u001b[39m\u001b[38;5;124mhuman-centered-summarization/financial-summarization-pegasus\u001b[39m\u001b[38;5;124m\"\u001b[39m\n\u001b[1;32m----> 4\u001b[0m tokenizer \u001b[38;5;241m=\u001b[39m \u001b[43mPegasusTokenizer\u001b[49m\u001b[38;5;241;43m.\u001b[39;49m\u001b[43mfrom_pretrained\u001b[49m(model_name)\n\u001b[0;32m      5\u001b[0m model \u001b[38;5;241m=\u001b[39m PegasusForConditionalGeneration\u001b[38;5;241m.\u001b[39mfrom_pretrained(model_name)\n",
      "File \u001b[1;32mc:\\Users\\sehaj\\OneDrive\\Desktop\\Capstone\\FinChatbot\\.venv\\Lib\\site-packages\\transformers\\utils\\import_utils.py:1690\u001b[0m, in \u001b[0;36mDummyObject.__getattribute__\u001b[1;34m(cls, key)\u001b[0m\n\u001b[0;32m   1688\u001b[0m \u001b[38;5;28;01mif\u001b[39;00m key\u001b[38;5;241m.\u001b[39mstartswith(\u001b[38;5;124m\"\u001b[39m\u001b[38;5;124m_\u001b[39m\u001b[38;5;124m\"\u001b[39m) \u001b[38;5;129;01mand\u001b[39;00m key \u001b[38;5;241m!=\u001b[39m \u001b[38;5;124m\"\u001b[39m\u001b[38;5;124m_from_config\u001b[39m\u001b[38;5;124m\"\u001b[39m:\n\u001b[0;32m   1689\u001b[0m     \u001b[38;5;28;01mreturn\u001b[39;00m \u001b[38;5;28msuper\u001b[39m()\u001b[38;5;241m.\u001b[39m\u001b[38;5;21m__getattribute__\u001b[39m(key)\n\u001b[1;32m-> 1690\u001b[0m \u001b[43mrequires_backends\u001b[49m\u001b[43m(\u001b[49m\u001b[38;5;28;43mcls\u001b[39;49m\u001b[43m,\u001b[49m\u001b[43m \u001b[49m\u001b[38;5;28;43mcls\u001b[39;49m\u001b[38;5;241;43m.\u001b[39;49m\u001b[43m_backends\u001b[49m\u001b[43m)\u001b[49m\n",
      "File \u001b[1;32mc:\\Users\\sehaj\\OneDrive\\Desktop\\Capstone\\FinChatbot\\.venv\\Lib\\site-packages\\transformers\\utils\\import_utils.py:1678\u001b[0m, in \u001b[0;36mrequires_backends\u001b[1;34m(obj, backends)\u001b[0m\n\u001b[0;32m   1676\u001b[0m failed \u001b[38;5;241m=\u001b[39m [msg\u001b[38;5;241m.\u001b[39mformat(name) \u001b[38;5;28;01mfor\u001b[39;00m available, msg \u001b[38;5;129;01min\u001b[39;00m checks \u001b[38;5;28;01mif\u001b[39;00m \u001b[38;5;129;01mnot\u001b[39;00m available()]\n\u001b[0;32m   1677\u001b[0m \u001b[38;5;28;01mif\u001b[39;00m failed:\n\u001b[1;32m-> 1678\u001b[0m     \u001b[38;5;28;01mraise\u001b[39;00m \u001b[38;5;167;01mImportError\u001b[39;00m(\u001b[38;5;124m\"\u001b[39m\u001b[38;5;124m\"\u001b[39m\u001b[38;5;241m.\u001b[39mjoin(failed))\n",
      "\u001b[1;31mImportError\u001b[0m: \nPegasusTokenizer requires the SentencePiece library but it was not found in your environment. Checkout the instructions on the\ninstallation page of its repo: https://github.com/google/sentencepiece#installation and follow the ones\nthat match your environment. Please note that you may need to restart your runtime after installation.\n"
     ]
    }
   ],
   "source": [
    "from transformers import PegasusTokenizer, PegasusForConditionalGeneration\n",
    "\n",
    "model_name = \"human-centered-summarization/financial-summarization-pegasus\"\n",
    "tokenizer = PegasusTokenizer.from_pretrained(model_name)\n",
    "model = PegasusForConditionalGeneration.from_pretrained(model_name)"
   ]
  },
  {
   "cell_type": "code",
   "execution_count": 2,
   "metadata": {},
   "outputs": [],
   "source": [
    "def summarize_text(text):\n",
    "    inputs = tokenizer(text, return_tensors=\"pt\", truncation=True, max_length=1024)\n",
    "    summary_ids = model.generate(inputs.input_ids, num_beams=5, max_length=150, min_length=50, early_stopping=True)\n",
    "    return tokenizer.decode(summary_ids[0], skip_special_tokens=True)"
   ]
  },
  {
   "cell_type": "code",
   "execution_count": 3,
   "metadata": {},
   "outputs": [],
   "source": [
    "import pandas as pd"
   ]
  },
  {
   "cell_type": "code",
   "execution_count": 4,
   "metadata": {},
   "outputs": [],
   "source": [
    "df = pd.read_json(\"../Data/FinQ&A/train_t.json\")"
   ]
  },
  {
   "cell_type": "code",
   "execution_count": 5,
   "metadata": {},
   "outputs": [],
   "source": [
    "df2 = df.head(7).copy()"
   ]
  },
  {
   "cell_type": "code",
   "execution_count": 6,
   "metadata": {},
   "outputs": [
    {
     "data": {
      "text/plain": [
       "(7, 10)"
      ]
     },
     "execution_count": 6,
     "metadata": {},
     "output_type": "execute_result"
    }
   ],
   "source": [
    "df2.shape"
   ]
  },
  {
   "cell_type": "code",
   "execution_count": 16,
   "metadata": {},
   "outputs": [],
   "source": [
    "def flatten_list(nested_list):\n",
    "    # Join characters within each sublist without spaces, then join sublists with a space\n",
    "    return \" \".join([\"\".join(sublist) for sublist in nested_list])\n",
    "\n",
    "# Apply the function to flatten pre_text and post_text\n",
    "df2[\"combined_text\"] = df2[\"pre_text\"].apply(flatten_list) + \" \" + df2[\"post_text\"].apply(flatten_list)"
   ]
  },
  {
   "cell_type": "code",
   "execution_count": 17,
   "metadata": {},
   "outputs": [
    {
     "data": {
      "text/html": [
       "<div>\n",
       "<style scoped>\n",
       "    .dataframe tbody tr th:only-of-type {\n",
       "        vertical-align: middle;\n",
       "    }\n",
       "\n",
       "    .dataframe tbody tr th {\n",
       "        vertical-align: top;\n",
       "    }\n",
       "\n",
       "    .dataframe thead th {\n",
       "        text-align: right;\n",
       "    }\n",
       "</style>\n",
       "<table border=\"1\" class=\"dataframe\">\n",
       "  <thead>\n",
       "    <tr style=\"text-align: right;\">\n",
       "      <th></th>\n",
       "      <th>pre_text</th>\n",
       "      <th>post_text</th>\n",
       "      <th>filename</th>\n",
       "      <th>table_ori</th>\n",
       "      <th>table</th>\n",
       "      <th>qa</th>\n",
       "      <th>id</th>\n",
       "      <th>annotation</th>\n",
       "      <th>qa_0</th>\n",
       "      <th>qa_1</th>\n",
       "      <th>combined_text</th>\n",
       "    </tr>\n",
       "  </thead>\n",
       "  <tbody>\n",
       "    <tr>\n",
       "      <th>0</th>\n",
       "      <td>[26 | 2009 annual report in fiscal 2008 , reve...</td>\n",
       "      <td>[year ended june 30 , cash provided by operati...</td>\n",
       "      <td>JKHY/2009/page_28.pdf</td>\n",
       "      <td>[[, Year ended June 30, 2009], [2008, 2007], [...</td>\n",
       "      <td>[[2008, year ended june 30 2009 2008, year end...</td>\n",
       "      <td>{'question': 'what was the percentage change i...</td>\n",
       "      <td>Single_JKHY/2009/page_28.pdf-3_0</td>\n",
       "      <td>{'amt_table': '&lt;table class='wikitable'&gt;&lt;tr&gt;&lt;t...</td>\n",
       "      <td>NaN</td>\n",
       "      <td>NaN</td>\n",
       "      <td>26 | 2009 annual report in fiscal 2008 , reven...</td>\n",
       "    </tr>\n",
       "    <tr>\n",
       "      <th>1</th>\n",
       "      <td>[26 | 2009 annual report in fiscal 2008 , reve...</td>\n",
       "      <td>[year ended june 30 , cash provided by operati...</td>\n",
       "      <td>JKHY/2009/page_28.pdf</td>\n",
       "      <td>[[, Year ended June 30, 2009], [2008, 2007], [...</td>\n",
       "      <td>[[2008, year ended june 30 2009 2008, year end...</td>\n",
       "      <td>{'question': 'what was the percentage change i...</td>\n",
       "      <td>Single_JKHY/2009/page_28.pdf-3_1</td>\n",
       "      <td>{'amt_table': '&lt;table class='wikitable'&gt;&lt;tr&gt;&lt;t...</td>\n",
       "      <td>NaN</td>\n",
       "      <td>NaN</td>\n",
       "      <td>26 | 2009 annual report in fiscal 2008 , reven...</td>\n",
       "    </tr>\n",
       "    <tr>\n",
       "      <th>2</th>\n",
       "      <td>[26 | 2009 annual report in fiscal 2008 , reve...</td>\n",
       "      <td>[year ended june 30 , cash provided by operati...</td>\n",
       "      <td>JKHY/2009/page_28.pdf</td>\n",
       "      <td>[[, Year ended June 30, 2009], [2008, 2007], [...</td>\n",
       "      <td>[[2008, year ended june 30 2009 2008, year end...</td>\n",
       "      <td>{'question': 'what was the percentage change i...</td>\n",
       "      <td>Single_JKHY/2009/page_28.pdf-3_2</td>\n",
       "      <td>{'amt_table': '&lt;table class='wikitable'&gt;&lt;tr&gt;&lt;t...</td>\n",
       "      <td>NaN</td>\n",
       "      <td>NaN</td>\n",
       "      <td>26 | 2009 annual report in fiscal 2008 , reven...</td>\n",
       "    </tr>\n",
       "    <tr>\n",
       "      <th>3</th>\n",
       "      <td>[26 | 2009 annual report in fiscal 2008 , reve...</td>\n",
       "      <td>[year ended june 30 , cash provided by operati...</td>\n",
       "      <td>JKHY/2009/page_28.pdf</td>\n",
       "      <td>[[, Year ended June 30, 2009], [2008, 2007], [...</td>\n",
       "      <td>[[2008, year ended june 30 2009 2008, year end...</td>\n",
       "      <td>{'question': 'what was the percentage change i...</td>\n",
       "      <td>Single_JKHY/2009/page_28.pdf-3_3</td>\n",
       "      <td>{'amt_table': '&lt;table class='wikitable'&gt;&lt;tr&gt;&lt;t...</td>\n",
       "      <td>NaN</td>\n",
       "      <td>NaN</td>\n",
       "      <td>26 | 2009 annual report in fiscal 2008 , reven...</td>\n",
       "    </tr>\n",
       "    <tr>\n",
       "      <th>4</th>\n",
       "      <td>[substantially all of the goodwill and other i...</td>\n",
       "      <td>[the above unaudited pro forma financial infor...</td>\n",
       "      <td>RSG/2008/page_114.pdf</td>\n",
       "      <td>[[, Year Ended December 31, 2008 (Unaudited), ...</td>\n",
       "      <td>[[, year ended december 31 2008 ( unaudited ),...</td>\n",
       "      <td>{'question': 'what was the percent of the grow...</td>\n",
       "      <td>Single_RSG/2008/page_114.pdf-2_0</td>\n",
       "      <td>{'amt_table': '&lt;table class='wikitable'&gt;&lt;tr&gt;&lt;t...</td>\n",
       "      <td>NaN</td>\n",
       "      <td>NaN</td>\n",
       "      <td>substantially all of the goodwill and other in...</td>\n",
       "    </tr>\n",
       "    <tr>\n",
       "      <th>5</th>\n",
       "      <td>[substantially all of the goodwill and other i...</td>\n",
       "      <td>[the above unaudited pro forma financial infor...</td>\n",
       "      <td>RSG/2008/page_114.pdf</td>\n",
       "      <td>[[, Year Ended December 31, 2008 (Unaudited), ...</td>\n",
       "      <td>[[, year ended december 31 2008 ( unaudited ),...</td>\n",
       "      <td>{'question': 'what was the percent of the grow...</td>\n",
       "      <td>Single_RSG/2008/page_114.pdf-2_1</td>\n",
       "      <td>{'amt_table': '&lt;table class='wikitable'&gt;&lt;tr&gt;&lt;t...</td>\n",
       "      <td>NaN</td>\n",
       "      <td>NaN</td>\n",
       "      <td>substantially all of the goodwill and other in...</td>\n",
       "    </tr>\n",
       "    <tr>\n",
       "      <th>6</th>\n",
       "      <td>[substantially all of the goodwill and other i...</td>\n",
       "      <td>[the above unaudited pro forma financial infor...</td>\n",
       "      <td>RSG/2008/page_114.pdf</td>\n",
       "      <td>[[, Year Ended December 31, 2008 (Unaudited), ...</td>\n",
       "      <td>[[, year ended december 31 2008 ( unaudited ),...</td>\n",
       "      <td>{'question': 'what was the percent of the grow...</td>\n",
       "      <td>Single_RSG/2008/page_114.pdf-2_2</td>\n",
       "      <td>{'amt_table': '&lt;table class='wikitable'&gt;&lt;tr&gt;&lt;t...</td>\n",
       "      <td>NaN</td>\n",
       "      <td>NaN</td>\n",
       "      <td>substantially all of the goodwill and other in...</td>\n",
       "    </tr>\n",
       "  </tbody>\n",
       "</table>\n",
       "</div>"
      ],
      "text/plain": [
       "                                            pre_text  \\\n",
       "0  [26 | 2009 annual report in fiscal 2008 , reve...   \n",
       "1  [26 | 2009 annual report in fiscal 2008 , reve...   \n",
       "2  [26 | 2009 annual report in fiscal 2008 , reve...   \n",
       "3  [26 | 2009 annual report in fiscal 2008 , reve...   \n",
       "4  [substantially all of the goodwill and other i...   \n",
       "5  [substantially all of the goodwill and other i...   \n",
       "6  [substantially all of the goodwill and other i...   \n",
       "\n",
       "                                           post_text               filename  \\\n",
       "0  [year ended june 30 , cash provided by operati...  JKHY/2009/page_28.pdf   \n",
       "1  [year ended june 30 , cash provided by operati...  JKHY/2009/page_28.pdf   \n",
       "2  [year ended june 30 , cash provided by operati...  JKHY/2009/page_28.pdf   \n",
       "3  [year ended june 30 , cash provided by operati...  JKHY/2009/page_28.pdf   \n",
       "4  [the above unaudited pro forma financial infor...  RSG/2008/page_114.pdf   \n",
       "5  [the above unaudited pro forma financial infor...  RSG/2008/page_114.pdf   \n",
       "6  [the above unaudited pro forma financial infor...  RSG/2008/page_114.pdf   \n",
       "\n",
       "                                           table_ori  \\\n",
       "0  [[, Year ended June 30, 2009], [2008, 2007], [...   \n",
       "1  [[, Year ended June 30, 2009], [2008, 2007], [...   \n",
       "2  [[, Year ended June 30, 2009], [2008, 2007], [...   \n",
       "3  [[, Year ended June 30, 2009], [2008, 2007], [...   \n",
       "4  [[, Year Ended December 31, 2008 (Unaudited), ...   \n",
       "5  [[, Year Ended December 31, 2008 (Unaudited), ...   \n",
       "6  [[, Year Ended December 31, 2008 (Unaudited), ...   \n",
       "\n",
       "                                               table  \\\n",
       "0  [[2008, year ended june 30 2009 2008, year end...   \n",
       "1  [[2008, year ended june 30 2009 2008, year end...   \n",
       "2  [[2008, year ended june 30 2009 2008, year end...   \n",
       "3  [[2008, year ended june 30 2009 2008, year end...   \n",
       "4  [[, year ended december 31 2008 ( unaudited ),...   \n",
       "5  [[, year ended december 31 2008 ( unaudited ),...   \n",
       "6  [[, year ended december 31 2008 ( unaudited ),...   \n",
       "\n",
       "                                                  qa  \\\n",
       "0  {'question': 'what was the percentage change i...   \n",
       "1  {'question': 'what was the percentage change i...   \n",
       "2  {'question': 'what was the percentage change i...   \n",
       "3  {'question': 'what was the percentage change i...   \n",
       "4  {'question': 'what was the percent of the grow...   \n",
       "5  {'question': 'what was the percent of the grow...   \n",
       "6  {'question': 'what was the percent of the grow...   \n",
       "\n",
       "                                 id  \\\n",
       "0  Single_JKHY/2009/page_28.pdf-3_0   \n",
       "1  Single_JKHY/2009/page_28.pdf-3_1   \n",
       "2  Single_JKHY/2009/page_28.pdf-3_2   \n",
       "3  Single_JKHY/2009/page_28.pdf-3_3   \n",
       "4  Single_RSG/2008/page_114.pdf-2_0   \n",
       "5  Single_RSG/2008/page_114.pdf-2_1   \n",
       "6  Single_RSG/2008/page_114.pdf-2_2   \n",
       "\n",
       "                                          annotation qa_0 qa_1  \\\n",
       "0  {'amt_table': '<table class='wikitable'><tr><t...  NaN  NaN   \n",
       "1  {'amt_table': '<table class='wikitable'><tr><t...  NaN  NaN   \n",
       "2  {'amt_table': '<table class='wikitable'><tr><t...  NaN  NaN   \n",
       "3  {'amt_table': '<table class='wikitable'><tr><t...  NaN  NaN   \n",
       "4  {'amt_table': '<table class='wikitable'><tr><t...  NaN  NaN   \n",
       "5  {'amt_table': '<table class='wikitable'><tr><t...  NaN  NaN   \n",
       "6  {'amt_table': '<table class='wikitable'><tr><t...  NaN  NaN   \n",
       "\n",
       "                                       combined_text  \n",
       "0  26 | 2009 annual report in fiscal 2008 , reven...  \n",
       "1  26 | 2009 annual report in fiscal 2008 , reven...  \n",
       "2  26 | 2009 annual report in fiscal 2008 , reven...  \n",
       "3  26 | 2009 annual report in fiscal 2008 , reven...  \n",
       "4  substantially all of the goodwill and other in...  \n",
       "5  substantially all of the goodwill and other in...  \n",
       "6  substantially all of the goodwill and other in...  "
      ]
     },
     "execution_count": 17,
     "metadata": {},
     "output_type": "execute_result"
    }
   ],
   "source": [
    "df2"
   ]
  },
  {
   "cell_type": "code",
   "execution_count": 21,
   "metadata": {},
   "outputs": [],
   "source": [
    "df2 = df2.drop([\"pre_text\", \"post_text\"], axis = 1)"
   ]
  },
  {
   "cell_type": "code",
   "execution_count": 28,
   "metadata": {},
   "outputs": [],
   "source": [
    "def summarize_text(text):\n",
    "    # Reduce the maximum length for both input and output\n",
    "    inputs = tokenizer(text, return_tensors=\"pt\", truncation=True, max_length=400)  # Reduced from 1024\n",
    "    summary_ids = model.generate(\n",
    "        inputs.input_ids,\n",
    "        num_beams=5,\n",
    "        max_length=256,  # Reduced from 150\n",
    "        min_length=30,   # Reduced from 50\n",
    "        early_stopping=True\n",
    "    )\n",
    "    return tokenizer.decode(summary_ids[0], skip_special_tokens=True)\n",
    "\n",
    "# Apply the summarization\n",
    "try:\n",
    "    df2[\"summary\"] = df2[\"combined_text\"].apply(summarize_text)\n",
    "except Exception as e:\n",
    "    print(f\"Error during summarization: {e}\")"
   ]
  },
  {
   "cell_type": "code",
   "execution_count": 27,
   "metadata": {},
   "outputs": [
    {
     "data": {
      "text/plain": [
       "'26 | 2009 annual report in fiscal 2008 , revenues in the credit union systems and services business segment increased 14% ( 14 % ) from fiscal 2007 . all revenue components within the segment experienced growth during fiscal 2008 . license revenue generated the largest dollar growth in revenue as episys ae , our flagship core processing system aimed at larger credit unions , experienced strong sales throughout the year . support and service revenue , which is the largest component of total revenues for the credit union segment , experienced 34 percent growth in eft support and 10 percent growth in in-house support . gross profit in this business segment increased $ 9344 in fiscal 2008 compared to fiscal 2007 , due primarily to the increase in license revenue , which carries the highest margins . liquidity and capital resources we have historically generated positive cash flow from operations and have generally used funds generated from operations and short-term borrowings on our revolving credit facility to meet capital requirements . we expect this trend to continue in the future . the company 2019s cash and cash equivalents increased to $ 118251 at june 30 , 2009 from $ 65565 at june 30 , 2008 . the following table summarizes net cash from operating activities in the statement of cash flows : 2009 2008 2007 . year ended june 30 , cash provided by operations increased $ 25587 to $ 206588 for the fiscal year ended june 30 , 2009 as compared to $ 181001 for the fiscal year ended june 30 , 2008 . this increase is primarily attributable to a decrease in receivables compared to the same period a year ago of $ 21214 . this decrease is largely the result of fiscal 2010 annual software maintenance billings being provided to customers earlier than in the prior year , which allowed more cash to be collected before the end of the fiscal year than in previous years . further , we collected more cash overall related to revenues that will be recognized in subsequent periods in the current year than in fiscal 2008 . cash used in investing activities for the fiscal year ended june 2009 was $ 59227 and includes $ 3027 in contingent consideration paid on prior years 2019 acquisitions . cash used in investing activities for the fiscal year ended june 2008 was $ 102148 and includes payments for acquisitions of $ 48109 , plus $ 1215 in contingent consideration paid on prior years 2019 acquisitions . capital expenditures for fiscal 2009 were $ 31562 compared to $ 31105 for fiscal 2008 . cash used for software development in fiscal 2009 was $ 24684 compared to $ 23736 during the prior year . net cash used in financing activities for the current fiscal year was $ 94675 and includes the repurchase of 3106 shares of our common stock for $ 58405 , the payment of dividends of $ 26903 and $ 13489 net repayment on our revolving credit facilities . cash used in financing activities was partially offset by proceeds of $ 3773 from the exercise of stock options and the sale of common stock ( through the employee stock purchase plan ) and $ 348 excess tax benefits from stock option exercises . during fiscal 2008 , net cash used in financing activities for the fiscal year was $ 101905 and includes the repurchase of 4200 shares of our common stock for $ 100996 , the payment of dividends of $ 24683 and $ 429 net repayment on our revolving credit facilities . cash used in financing activities was partially offset by proceeds of $ 20394 from the exercise of stock options and the sale of common stock and $ 3809 excess tax benefits from stock option exercises . beginning during fiscal 2008 , us financial markets and many of the largest us financial institutions have been shaken by negative developments in the home mortgage industry and the mortgage markets , and particularly the markets for subprime mortgage-backed securities . since that time , these and other such developments have resulted in a broad , global economic downturn . while we , as is the case with most companies , have experienced the effects of this downturn , we have not experienced any significant issues with our current collection efforts , and we believe that any future impact to our liquidity will be minimized by cash generated by recurring sources of revenue and due to our access to available lines of credit. .'"
      ]
     },
     "execution_count": 27,
     "metadata": {},
     "output_type": "execute_result"
    }
   ],
   "source": [
    "df2[\"combined_text\"][0]"
   ]
  },
  {
   "cell_type": "code",
   "execution_count": 29,
   "metadata": {},
   "outputs": [
    {
     "data": {
      "text/plain": [
       "'License revenue generated the largest dollar in revenue as episys ae. support and service revenue grew 34 percent in fiscal 2008 compared to fiscal 2007'"
      ]
     },
     "execution_count": 29,
     "metadata": {},
     "output_type": "execute_result"
    }
   ],
   "source": [
    "df2[\"summary\"][0]"
   ]
  },
  {
   "cell_type": "markdown",
   "metadata": {},
   "source": [
    "The transformer is not working as expected thus, we will be using some other method to do it."
   ]
  }
 ],
 "metadata": {
  "kernelspec": {
   "display_name": ".venv",
   "language": "python",
   "name": "python3"
  },
  "language_info": {
   "codemirror_mode": {
    "name": "ipython",
    "version": 3
   },
   "file_extension": ".py",
   "mimetype": "text/x-python",
   "name": "python",
   "nbconvert_exporter": "python",
   "pygments_lexer": "ipython3",
   "version": "3.11.8"
  }
 },
 "nbformat": 4,
 "nbformat_minor": 2
}
