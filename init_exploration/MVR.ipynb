{
 "cells": [
  {
   "cell_type": "code",
   "execution_count": 1,
   "metadata": {},
   "outputs": [],
   "source": [
    "import uuid\n",
    "from langchain.retrievers.multi_vector import MultiVectorRetriever\n",
    "from langchain.storage import InMemoryStore\n",
    "from langchain_community.vectorstores import Chroma\n",
    "from langchain_core.documents import Document\n",
    "from langchain_openai import OpenAIEmbeddings"
   ]
  },
  {
   "cell_type": "code",
   "execution_count": 2,
   "metadata": {},
   "outputs": [],
   "source": [
    "import pickle"
   ]
  },
  {
   "cell_type": "code",
   "execution_count": 3,
   "metadata": {},
   "outputs": [],
   "source": [
    "with open(\"../artifacts/summaries/table_summaries.pkl\", \"rb\") as table_file:\n",
    "    table_summaries = pickle.load(table_file)\n",
    "with open(\"../artifacts/summaries/text_summaries.pkl\", \"rb\") as text_file:\n",
    "    text_summaries = pickle.load(text_file)"
   ]
  },
  {
   "cell_type": "code",
   "execution_count": 4,
   "metadata": {},
   "outputs": [],
   "source": [
    "with open(\"../artifacts/original/table_original.pkl\", \"rb\") as table_file:\n",
    "    table = pickle.load(table_file)\n",
    "with open(\"../artifacts/original/text_original.pkl\", \"rb\") as text_file:\n",
    "    text = pickle.load(text_file)"
   ]
  },
  {
   "cell_type": "code",
   "execution_count": 5,
   "metadata": {},
   "outputs": [],
   "source": [
    "def create_multi_vector_retriever(vectorstore, text_summaries, texts, table_summaries, tables):\n",
    "\n",
    "    store = InMemoryStore()\n",
    "    id_key = \"fintech-rag\"\n",
    "    \n",
    "    retriever = MultiVectorRetriever(\n",
    "        vectorstore = vectorstore,\n",
    "        docstore = store,\n",
    "        id_key = id_key,\n",
    "    )\n",
    "    \n",
    "    def add_documents(retriever, doc_summaries, doc_contents):\n",
    "\n",
    "        doc_ids = [str(uuid.uuid4()) for _ in doc_contents]\n",
    "\n",
    "        summary_docs = [\n",
    "            Document(page_content = str(s), metadata = {id_key: doc_ids[i]}) \n",
    "            for i, s in enumerate(doc_summaries)\n",
    "        ]\n",
    "\n",
    "        retriever.vectorstore.add_documents(summary_docs)\n",
    "        retriever.docstore.mset(list(zip(doc_ids, doc_contents)))\n",
    "    \n",
    "    if text_summaries:\n",
    "        add_documents(retriever, text_summaries, texts)\n",
    "    \n",
    "    if table_summaries:\n",
    "        add_documents(retriever, table_summaries, tables)\n",
    "    \n",
    "    return retriever\n"
   ]
  },
  {
   "cell_type": "code",
   "execution_count": 6,
   "metadata": {},
   "outputs": [
    {
     "name": "stderr",
     "output_type": "stream",
     "text": [
      "C:\\Users\\rahul\\AppData\\Local\\Temp\\ipykernel_42136\\2609086988.py:1: LangChainDeprecationWarning: The class `Chroma` was deprecated in LangChain 0.2.9 and will be removed in 1.0. An updated version of the class exists in the :class:`~langchain-chroma package and should be used instead. To use it run `pip install -U :class:`~langchain-chroma` and import as `from :class:`~langchain_chroma import Chroma``.\n",
      "  vectorestore = Chroma(\n"
     ]
    }
   ],
   "source": [
    "vectorestore = Chroma(\n",
    "    collection_name = \"rag-model\",\n",
    "    embedding_function = OpenAIEmbeddings()\n",
    ")"
   ]
  },
  {
   "cell_type": "code",
   "execution_count": 7,
   "metadata": {},
   "outputs": [],
   "source": [
    "retriever = create_multi_vector_retriever(\n",
    "    vectorstore = vectorestore,\n",
    "    table_summaries = table_summaries,\n",
    "    tables = table,\n",
    "    text_summaries = text_summaries,\n",
    "    texts = text\n",
    ")"
   ]
  },
  {
   "cell_type": "code",
   "execution_count": 8,
   "metadata": {},
   "outputs": [
    {
     "data": {
      "text/plain": [
       "MultiVectorRetriever(vectorstore=<langchain_community.vectorstores.chroma.Chroma object at 0x00000294B5B614D0>, docstore=<langchain_core.stores.InMemoryStore object at 0x00000294B6DD9C90>, id_key='fintech-rag', search_kwargs={})"
      ]
     },
     "execution_count": 8,
     "metadata": {},
     "output_type": "execute_result"
    }
   ],
   "source": [
    "retriever"
   ]
  },
  {
   "cell_type": "code",
   "execution_count": 9,
   "metadata": {},
   "outputs": [],
   "source": [
    "query = \"what is total current assets as of dec 31 2022 for alphabet inc?\"\n",
    "docs = retriever.invoke(query)"
   ]
  },
  {
   "cell_type": "code",
   "execution_count": 10,
   "metadata": {},
   "outputs": [
    {
     "data": {
      "text/plain": [
       "['<table><thead><tr><th></th><th colspan=\"2\">As of December 31,</th></tr><tr><th></th><th>2022</th><th>2023 (unaudited)</th></tr></thead><tbody><tr><td colspan=\"3\">Assets</td></tr><tr><td colspan=\"3\">Current assets:</td></tr><tr><td>Cash and cash equivalents</td><td>21,879 $</td><td>24,048</td></tr><tr><td>Marketable securities</td><td>91,883</td><td>86,868</td></tr><tr><td>Total cash, cash equivalents, and marketable securities</td><td>113,762</td><td>110,916</td></tr><tr><td>Accounts receivable, net</td><td>40,258</td><td>47,964</td></tr><tr><td>Other current assets</td><td>10,775</td><td>12,650</td></tr><tr><td>Total current assets</td><td>164,795</td><td>171,530</td></tr><tr><td>Non-marketable securities</td><td>30,492</td><td>31,008</td></tr><tr><td>Deferred income taxes</td><td>5,261</td><td>12,169</td></tr><tr><td>Property and equipment, net</td><td>112,668</td><td>134,345</td></tr><tr><td>Operating lease assets</td><td>14,381</td><td>14,091</td></tr><tr><td>Goodwill</td><td>28,960</td><td>29,198</td></tr><tr><td>Other non-current assets</td><td>8,707</td><td>10,051</td></tr><tr><td>Total assets</td><td>365,264 $</td><td>402,392</td></tr><tr><td>Liabilities and Stockholders’ Equity</td><td></td><td></td></tr><tr><td colspan=\"3\">Current liabilities:</td></tr><tr><td>Accounts payable</td><td>5,128 $</td><td>7,493</td></tr><tr><td>Accrued compensation and benefits</td><td>14,028</td><td>15,140</td></tr><tr><td>Accrued expenses and other current liabilities</td><td>37,866</td><td>46,168</td></tr><tr><td>Accrued revenue share</td><td>8,370</td><td>8,876</td></tr><tr><td>Deferred revenue</td><td>3,908</td><td>4,137</td></tr><tr><td>Total current liabilities</td><td>69,300</td><td>81,814</td></tr><tr><td>Long-term debt</td><td>14,701</td><td>13,253</td></tr><tr><td>Deferred revenue, non-current</td><td>599</td><td>911</td></tr><tr><td>Income taxes payable, non-current</td><td>9,258</td><td>8,474</td></tr><tr><td>Deferred income taxes</td><td>514</td><td>485</td></tr><tr><td>Operating lease liabilities</td><td>12,501</td><td>12,460</td></tr><tr><td>Other long-term liabilities</td><td>2,247</td><td>1,616</td></tr><tr><td>Total liabilities</td><td>109,120</td><td>119,013</td></tr><tr><td colspan=\"3\">Commitments and contingencies</td></tr><tr><td colspan=\"3\">Stockholders’ equity:</td></tr><tr><td>Preferred stock, $0.001 par value per share, 100 shares authorized; no shares issued and outstanding</td><td>0</td><td>0</td></tr><tr><td>Class A, Class B, and Class C stock and additional paid-in capital, $0.001 par value per share: 300,000 shares authorized (Class A 180,000, Class B 60,000, Class C 60,000); 12,849 (Class A 5,964, Class B 883, Class C 6,002) and 12,460 (Class A 5,899, Class B 870, Class C 5,691) shares issued and outstanding</td><td>68,184</td><td>76,534</td></tr><tr><td>Accumulated other comprehensive income (loss)</td><td>(7,603)</td><td>(4,402)</td></tr><tr><td>Retained earnings</td><td>195,563</td><td>211,247</td></tr><tr><td>Total stockholders’ equity</td><td>256,144</td><td>283,379</td></tr><tr><td>Total liabilities and stockholders’ equity</td><td>365,264 $</td><td>§ 402,392</td></tr></tbody></table>',\n",
       " '(1) Formerly “corporate costs, unallocated.” In addition to the costs included in Alphabet-level activities, hedging gains (losses) related to revenue were $669 million and $150 million for the three months ended December 31, 2022 and 2023, respectively. For the quarter ended December 31, 2023, Alphabet-level activities included charges related to the reduction in force and our office space optimization efforts totaling $1.2 billion and $62 million in accelerated rent and accelerated depreciation.',\n",
       " 'MOUNTAIN VIEW, Calif. – January 30, 2024 – Alphabet Inc. (NASDAQ: GOOG, GOOGL) today announced financial results for the quarter and fiscal year ended December 31, 2023.',\n",
       " '<table><thead><tr><th></th><th colspan=\"2\">Quarter Ended December 31, 2022 2023</th></tr></thead><tbody><tr><td colspan=\"3\">Operating income (loss):</td></tr><tr><td>Google Services</td><td>20,222 $</td><td>$ 26,730</td></tr><tr><td>Google Cloud</td><td>(186)</td><td>864</td></tr><tr><td>Other Bets</td><td>(1,237)</td><td>(863)</td></tr><tr><td>Alphabet-level activities\\'\"</td><td>(639)</td><td>(3,034)</td></tr><tr><td>Total income from operations</td><td>18,160 $</td><td>$ 23,697</td></tr></tbody></table>']"
      ]
     },
     "execution_count": 10,
     "metadata": {},
     "output_type": "execute_result"
    }
   ],
   "source": [
    "docs"
   ]
  },
  {
   "cell_type": "code",
   "execution_count": 11,
   "metadata": {},
   "outputs": [],
   "source": [
    "from langchain_core.output_parsers import StrOutputParser\n",
    "from langchain_core.prompts import ChatPromptTemplate\n",
    "from langchain_openai import ChatOpenAI"
   ]
  },
  {
   "cell_type": "code",
   "execution_count": 15,
   "metadata": {},
   "outputs": [],
   "source": [
    "from operator import itemgetter\n",
    "from langchain.schema.runnable import RunnablePassthrough\n",
    "\n",
    "# Prompt template\n",
    "template = \"\"\"Answer the question based only on the following context, which can include text and tables:\n",
    "{context}\n",
    "Question: {question}\n",
    "\"\"\"\n",
    "prompt = ChatPromptTemplate.from_template(template)\n",
    "\n",
    "# LLM\n",
    "model = ChatOpenAI(temperature=0,model=\"gpt-4o-mini\")\n",
    "\n",
    "# RAG pipeline\n",
    "chain = (\n",
    "    {\"context\": retriever, \"question\": RunnablePassthrough()}\n",
    "    | prompt\n",
    "    | model\n",
    "    | StrOutputParser()\n",
    ")"
   ]
  },
  {
   "cell_type": "code",
   "execution_count": 16,
   "metadata": {},
   "outputs": [
    {
     "name": "stdout",
     "output_type": "stream",
     "text": [
      "Total current assets as of December 31, 2022 for Alphabet Inc. is $164,795.\n"
     ]
    }
   ],
   "source": [
    "response = chain.invoke(query)\n",
    "print(response)"
   ]
  },
  {
   "cell_type": "code",
   "execution_count": 17,
   "metadata": {},
   "outputs": [
    {
     "name": "stdout",
     "output_type": "stream",
     "text": [
      "The company uses the following non-GAAP financial measures: free cash flow, constant currency revenues, and percentage change in constant currency revenues.\n"
     ]
    }
   ],
   "source": [
    "query2 = \"What non-GAAP financial measures does the company use?\"\n",
    "\n",
    "response = chain.invoke(query2)\n",
    "print(response)"
   ]
  },
  {
   "cell_type": "code",
   "execution_count": 21,
   "metadata": {},
   "outputs": [
    {
     "name": "stdout",
     "output_type": "stream",
     "text": [
      "The net income in the quarter ended December 31, 2022, is $13,624.\n"
     ]
    }
   ],
   "source": [
    "query3 = \"What is the net income in the quarter ended in 2022 in cash flow?\"\n",
    "\n",
    "response = chain.invoke(query3)\n",
    "print(response)"
   ]
  }
 ],
 "metadata": {
  "kernelspec": {
   "display_name": ".venv",
   "language": "python",
   "name": "python3"
  },
  "language_info": {
   "codemirror_mode": {
    "name": "ipython",
    "version": 3
   },
   "file_extension": ".py",
   "mimetype": "text/x-python",
   "name": "python",
   "nbconvert_exporter": "python",
   "pygments_lexer": "ipython3",
   "version": "3.11.8"
  }
 },
 "nbformat": 4,
 "nbformat_minor": 2
}
