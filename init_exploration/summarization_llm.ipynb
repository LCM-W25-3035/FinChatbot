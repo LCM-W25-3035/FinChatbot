{
 "cells": [
  {
   "cell_type": "code",
   "execution_count": 2,
   "metadata": {},
   "outputs": [],
   "source": [
    "from FinChatbot.utils.common import call_data\n",
    "import pickle\n",
    "import os"
   ]
  },
  {
   "cell_type": "code",
   "execution_count": 3,
   "metadata": {},
   "outputs": [],
   "source": [
    "tables, texts = call_data(file_path = \"../Data/example_pdf/2023q4-alphabet-earnings-release.pdf\")"
   ]
  },
  {
   "cell_type": "code",
   "execution_count": 5,
   "metadata": {},
   "outputs": [
    {
     "data": {
      "text/plain": [
       "(15, 51)"
      ]
     },
     "execution_count": 5,
     "metadata": {},
     "output_type": "execute_result"
    }
   ],
   "source": [
    "len(tables), len(texts)"
   ]
  },
  {
   "cell_type": "code",
   "execution_count": 25,
   "metadata": {},
   "outputs": [],
   "source": [
    "def save_data(data, file_name, type):\n",
    "    os.makedirs(\"../artifacts\", exist_ok = True)\n",
    "    if type == \"summary\" or type == \"original\":\n",
    "        os.makedirs(f\"../artifacts/{str(type)}\", exist_ok = True)\n",
    "        file_path = f\"../artifacts/{str(type)}/{str(file_name)}.pkl\"\n",
    "        with open(file_path, \"wb\") as file:\n",
    "            pickle.dump(data, file)\n",
    "        print(f\"Data saved succesfully at: {file_path}\")"
   ]
  },
  {
   "cell_type": "code",
   "execution_count": 26,
   "metadata": {},
   "outputs": [
    {
     "name": "stdout",
     "output_type": "stream",
     "text": [
      "Data saved succesfully at: ../artifacts/original/table_original.pkl\n",
      "Data saved succesfully at: ../artifacts/original/text_original.pkl\n"
     ]
    }
   ],
   "source": [
    "save_data(data = tables,\n",
    "          file_name = \"table_original\",\n",
    "          type = \"original\")\n",
    "\n",
    "save_data(data = texts,\n",
    "          file_name = \"text_original\",\n",
    "          type = \"original\")"
   ]
  },
  {
   "cell_type": "code",
   "execution_count": 7,
   "metadata": {},
   "outputs": [
    {
     "data": {
      "text/plain": [
       "True"
      ]
     },
     "execution_count": 7,
     "metadata": {},
     "output_type": "execute_result"
    }
   ],
   "source": [
    "from dotenv import load_dotenv, find_dotenv\n",
    "\n",
    "load_dotenv(find_dotenv())"
   ]
  },
  {
   "cell_type": "code",
   "execution_count": 8,
   "metadata": {},
   "outputs": [],
   "source": [
    "import os"
   ]
  },
  {
   "cell_type": "code",
   "execution_count": 9,
   "metadata": {},
   "outputs": [],
   "source": [
    "openai_api_key = os.getenv(\"OPENAI_API_KEY\")"
   ]
  },
  {
   "cell_type": "code",
   "execution_count": 10,
   "metadata": {},
   "outputs": [],
   "source": [
    "from langchain_core.output_parsers import StrOutputParser\n",
    "from langchain_core.prompts import ChatPromptTemplate\n",
    "from langchain_openai import ChatOpenAI"
   ]
  },
  {
   "cell_type": "code",
   "execution_count": 11,
   "metadata": {},
   "outputs": [],
   "source": [
    "prompt_text = '''   \n",
    "Generate a concise and accurate financial summary of a company's performance in a single paragraph based on the provided data, the data can be either table or a text. \\\n",
    "The summary should report precise values and trends directly from the data, emphasizing critical metrics such as revenue, profit, growth trends, significant changes, and anomalies. \\\n",
    "It must use clear, professional language without jargon, focusing on key aspects like profitability, cash flow, debt levels, and performance ratios. Assumptions or estimates should not be included. \\\n",
    "The paragraph should also highlight trends or insights relevant for predictive or comparative queries, such as growth expectations, decline patterns, or industry benchmarks.\n",
    "\n",
    "Data: {element}\n",
    "'''"
   ]
  },
  {
   "cell_type": "code",
   "execution_count": 12,
   "metadata": {},
   "outputs": [],
   "source": [
    "prompt = ChatPromptTemplate.from_template(prompt_text)"
   ]
  },
  {
   "cell_type": "code",
   "execution_count": 13,
   "metadata": {},
   "outputs": [],
   "source": [
    "model = ChatOpenAI(temperature=0, model = \"gpt-4o-mini\")\n",
    "summary_chain = {\"element\": lambda x : x} | prompt | model | StrOutputParser()"
   ]
  },
  {
   "cell_type": "code",
   "execution_count": 14,
   "metadata": {},
   "outputs": [],
   "source": [
    "table_summaries = []\n",
    "table_summaries = summary_chain.batch(tables, {'max_concurrency':5})"
   ]
  },
  {
   "cell_type": "code",
   "execution_count": 15,
   "metadata": {},
   "outputs": [
    {
     "data": {
      "text/plain": [
       "['For the year ended December 31, 2023, the company reported revenues of $307,394, reflecting a 9% increase from $282,836 in 2022, with a notable 13% growth in the fourth quarter compared to the previous year. Operating income rose to $84,293, up from $74,842, maintaining a consistent operating margin of 27%. Net income also improved significantly, reaching $73,795, a 23% increase from $59,972 in 2022, while diluted earnings per share increased from $4.56 to $5.80. Additionally, the company reversed prior losses in other income, reporting a net gain of $1,424 in 2023 compared to a loss of $3,514 in 2022. Overall, the financial performance indicates strong growth trends and improved profitability, positioning the company favorably for future periods.',\n",
       " 'For the quarter ended December 31, 2023, the company reported total revenues of $86,310 million, reflecting a robust increase of 13.5% from $76,048 million in the same quarter of 2022. Google Services, which includes Google Search and YouTube ads, contributed significantly to this growth, rising from $67,838 million to $76,311 million, with YouTube ads alone increasing from $7,963 million to $9,200 million. Google Cloud also showed strong performance, growing from $7,315 million to $9,192 million. However, revenue from the Google Network declined slightly from $8,475 million to $8,297 million. Total traffic acquisition costs (TAC) increased from $12,925 million to $13,986 million, indicating a rise in expenses associated with acquiring traffic. The workforce decreased from 190,234 to 182,502 employees, suggesting a potential focus on operational efficiency. Overall, the company demonstrated solid revenue growth and improved profitability, positioning itself favorably for future performance despite some mixed results in specific segments.',\n",
       " 'For the quarter ended December 31, 2023, Alphabet Inc. reported a total income from operations of $23,697 million, reflecting a significant increase of 30.4% from $18,160 million in the same quarter of 2022. The Google Services segment showed robust growth, with operating income rising from $20,222 million to $26,730 million. Meanwhile, Google Cloud turned around from a loss of $186 million to a profit of $864 million, indicating strong performance in this area. However, the Other Bets segment continued to incur losses, though reduced from $1,237 million to $863 million. Alphabet-level activities also saw a notable increase in losses, escalating from $639 million to $3,034 million. Overall, the company demonstrated improved operational efficiency and profitability, particularly in its core services and cloud offerings, suggesting positive growth trends moving forward.',\n",
       " 'For the quarter ended December 31, 2023, the company reported total charges of $1,203 million, a slight increase from $1,196 million in the previous quarter, while for the year ended December 31, 2023, total charges rose to $3,933 million from $2,088 million, indicating a significant year-over-year increase. The cost of revenues for the quarter was $237 million, contributing to a total of $960 million for the year, which reflects a consistent expenditure pattern. Research and development expenses totaled $603 million for the quarter and $1,718 million for the year, highlighting a strong commitment to innovation despite rising costs. Sales and marketing expenses also increased, totaling $201 million for the quarter and $754 million for the year. General and administrative costs were $162 million for the quarter and $501 million for the year. Overall, the company is experiencing rising operational costs, which may impact profitability if revenue growth does not keep pace.',\n",
       " \"As of December 31, 2023, the company reported total assets of $402,392, reflecting a 10.2% increase from $365,264 in 2022, driven by growth in current assets, particularly accounts receivable, which rose from $40,258 to $47,964. Total liabilities increased to $119,013 from $109,120, primarily due to higher current liabilities, which grew from $69,300 to $81,814. Despite this, long-term debt decreased from $14,701 to $13,253, indicating improved debt management. Stockholders' equity also saw a significant rise, increasing from $256,144 to $283,379, supported by retained earnings growth from $195,563 to $211,247. The company's cash and cash equivalents increased from $21,879 to $24,048, enhancing liquidity. Overall, the financial performance indicates a positive trend in asset growth and equity, alongside effective debt reduction strategies, positioning the company favorably for future growth.\",\n",
       " 'For the year ended December 31, 2023, the company reported revenues of $307,394, a 8.7% increase from $282,836 in 2022. The net income also rose significantly to $73,795, up from $59,972, reflecting a 23.1% growth year-over-year. In the fourth quarter alone, revenues increased to $86,310 from $76,048 in the same period last year, while net income surged to $20,687 compared to $13,624, indicating strong operational performance. Total costs and expenses for the year increased to $223,101 from $207,994, primarily driven by higher research and development costs, which rose to $45,427 from $39,500. The company’s basic earnings per share improved to $5.84 from $4.59, showcasing enhanced profitability. Overall, the financial results indicate a positive growth trajectory, with improved profitability metrics and effective cost management, positioning the company favorably for future performance.',\n",
       " 'For the year ended December 31, 2023, the company reported a net income of $73,795, reflecting a 23% increase from $59,972 in 2022, while quarterly net income for Q4 2023 reached $20,687, up from $13,624 in Q4 2022. Operating cash flow decreased slightly to $101,746 from $91,495 year-over-year, with Q4 cash flow at $18,915, down from $23,614. The company experienced a notable increase in stock-based compensation expenses, rising from $19,362 in 2022 to $22,460 in 2023. Total cash and cash equivalents at year-end improved to $24,048 from $21,879 in the previous year. However, net cash used in investing activities increased significantly to $27,063 from $20,298, indicating a more aggressive investment strategy. Overall, the company demonstrates strong profitability and cash reserves, although rising expenses and increased investment outflows warrant close monitoring.',\n",
       " 'For the quarter ended December 31, 2023, the company reported total revenues of $86,310 million, reflecting a 13.5% increase from $76,048 million in the same quarter of 2022. Revenue growth was driven primarily by Google Services, which rose from $67,838 million to $76,311 million, and Google Cloud, which improved from a loss of $186 million to a profit of $864 million. Other Bets also showed significant growth, increasing from $226 million to $657 million. However, hedging gains decreased from $669 million to $150 million. Operating income increased to $23,697 million from $18,160 million, with notable improvements in Google Services and Google Cloud, while losses in Other Bets and Alphabet-level activities narrowed. Overall, the company demonstrated strong profitability and operational efficiency, positioning itself favorably for future growth.',\n",
       " 'For the quarter ended December 31, 2023, the company reported a significant increase in interest income, rising to $1,110 from $659 in the previous year, while interest expenses emerged at $69, marking a shift from no expenses in 2022. However, the company faced challenges with foreign currency exchange losses, which deepened from a loss of $185 to $449. Gains on equity securities improved notably, shifting from a loss of $1,487 to a gain of $586, although performance fees turned negative, dropping from $193 to a loss of $45. Additionally, losses from equity method investments increased substantially from $31 to $256. Overall, the net other income transitioned from a loss of $1,013 in 2022 to a gain of $715 in 2023, indicating a recovery in certain areas despite ongoing volatility in foreign exchange and investment performance.',\n",
       " 'For the quarter ended December 31, 2023, the company reported net cash provided by operating activities of $18,915, indicating strong operational efficiency. After accounting for purchases of property and equipment totaling $11,019, the free cash flow stood at $7,896. This positive free cash flow suggests the company is generating sufficient cash to support its investments while maintaining liquidity. The ability to generate cash from operations, coupled with a manageable level of capital expenditures, positions the company favorably for future growth and investment opportunities.',\n",
       " 'For the quarter ended December 31, 2023, the company reported total revenues of $86,310, reflecting a 13% increase from $76,048 in the same period of 2022. Excluding the hedging effect, revenues rose to $86,160, marking a 14% growth year-over-year. The United States market led this performance with reported revenues of $41,995, up 14%, while EMEA and APAC regions also showed strong growth at 15% and 17%, respectively. Notably, the Other Americas region experienced a modest increase of 11%. The overall revenue growth was consistent across constant currency metrics, indicating robust demand despite foreign exchange fluctuations. The company’s hedging losses decreased significantly from $669 to $150, suggesting improved risk management. These trends indicate a positive outlook for continued revenue growth, supported by strong regional performances and effective hedging strategies.',\n",
       " \"For the quarter ended December 31, 2023, the company reported total revenues of $86,310 million, reflecting a 13% increase from the previous quarter's $76,693 million. Excluding the hedging effect, revenues rose to $87,015 million, also up 13%, with a notable 16% growth in the United States market. The EMEA region experienced a 10% increase in constant currency revenues, while APAC and Other Americas saw growth rates of 13% and 14%, respectively. Despite a minor negative impact from foreign exchange fluctuations, the overall performance indicates strong demand across all regions, positioning the company favorably for continued growth in the upcoming quarters.\",\n",
       " 'For the year ended December 31, 2023, the company reported total revenues of $307,394 million, reflecting a 9% increase from $282,836 million in 2022. Excluding the hedging effect, revenues reached $309,111 million, with a constant currency growth of 10%. The United States market contributed $146,286 million, while EMEA, APAC, and Other Americas generated $90,578 million, $53,273 million, and $18,974 million, respectively, with EMEA showing the highest growth at 11%. Notably, hedging losses significantly decreased from $1,960 million in 2022 to $236 million in 2023, indicating improved financial management. Overall, the company demonstrated strong revenue growth across all regions, positioning itself favorably for future performance.',\n",
       " 'For the quarter ended December 31, 2022, the company reported total revenues of $75,325, a slight increase of 1% compared to $76,048 in the same quarter of the previous year. Excluding the effects of hedging, revenues were $75,122, reflecting a decline of 4.7% from $80,112 in the prior year. The constant currency revenues also showed a decrease of 7%, indicating challenges in maintaining growth amidst foreign exchange fluctuations. Hedging gains contributed $203, a decrease from $669 in the previous year, further impacting overall revenue performance. These results suggest a need for strategic adjustments to enhance profitability and stabilize revenue streams in the face of currency volatility.',\n",
       " 'For the year ended December 31, 2022, the company reported total revenues of $282,836, reflecting a 10% increase from $257,637 in 2021. Excluding the hedging effect, revenues rose to $280,876, marking a 9% growth, while constant currency revenues increased by 14%. Notably, hedging gains significantly improved from $149 in 2021 to $1,960 in 2022, contributing positively to overall financial performance. However, the company experienced a 5% decline when accounting for foreign exchange effects. These results indicate a strong underlying growth trend, particularly in constant currency terms, suggesting resilience against currency fluctuations and positioning for continued revenue expansion in the upcoming periods.']"
      ]
     },
     "execution_count": 15,
     "metadata": {},
     "output_type": "execute_result"
    }
   ],
   "source": [
    "table_summaries"
   ]
  },
  {
   "cell_type": "code",
   "execution_count": 16,
   "metadata": {},
   "outputs": [],
   "source": [
    "text_summaries = []\n",
    "text_summaries = summary_chain.batch(texts, {'max_concurrency':5})"
   ]
  },
  {
   "cell_type": "code",
   "execution_count": 17,
   "metadata": {},
   "outputs": [
    {
     "data": {
      "text/plain": [
       "[\"In the fourth quarter and fiscal year ended December 31, 2023, Alphabet Inc. reported a revenue of $76.5 billion, reflecting a year-over-year increase of 10% from $69.5 billion in 2022. The company's net income for the quarter was $18.2 billion, up from $15.1 billion in the same period last year, resulting in a profit margin of 23.8%. For the full year, Alphabet achieved a net income of $70.5 billion, compared to $59.0 billion in 2022, indicating a robust growth trend in profitability. Operating cash flow remained strong at $25 billion for the quarter, contributing to a healthy cash position. The company's total debt levels were stable at $14 billion, maintaining a low debt-to-equity ratio, which supports its financial resilience. Overall, Alphabet's performance demonstrates solid growth expectations and a strong competitive position within the technology sector.\",\n",
       " 'In the latest performance update, Sundar Pichai, CEO, highlighted the robust growth in the Search segment, alongside increasing contributions from YouTube and Cloud services, all of which are enhanced by strategic investments in AI. While specific financial metrics were not disclosed, the emphasis on these key areas suggests a positive trajectory for revenue generation and profitability. The mention of the \"Gemini era\" indicates a forward-looking approach that may further leverage AI innovations to drive future growth. This positions the company favorably against industry benchmarks, suggesting potential for sustained performance improvements and competitive advantage in the digital landscape.',\n",
       " 'In the fourth quarter of 2023, the company reported consolidated revenues of $86 billion, reflecting a robust year-over-year growth of 13%. This performance underscores the effectiveness of their strategic initiatives aimed at re-engineering the cost base while simultaneously investing in growth opportunities. The strong revenue increase indicates a positive trajectory in demand and operational efficiency, positioning the company favorably for future growth.',\n",
       " 'To generate a financial summary, I would need the specific data from the table you mentioned, including key metrics such as revenue, profit, growth rates, and any other relevant figures. Please provide the data, and I will create the summary for you.',\n",
       " \"The company's financial performance for the period shows a notable increase in revenue, reaching $500 million, which represents a 10% growth compared to the previous year. Profit margins have improved, with net income rising to $75 million, reflecting a profit margin of 15%. Cash flow from operations remains strong at $100 million, indicating robust liquidity. However, total debt has increased to $200 million, resulting in a debt-to-equity ratio of 0.5, which is within industry norms but warrants monitoring. The non-GAAP constant currency revenue growth aligns with the reported figures, suggesting stable performance across international markets. Overall, the company demonstrates solid profitability and growth potential, although the rising debt levels may pose future risks if not managed effectively.\"]"
      ]
     },
     "execution_count": 17,
     "metadata": {},
     "output_type": "execute_result"
    }
   ],
   "source": [
    "text_summaries[:5]"
   ]
  },
  {
   "cell_type": "code",
   "execution_count": 22,
   "metadata": {},
   "outputs": [
    {
     "name": "stdout",
     "output_type": "stream",
     "text": [
      "Data saved succesfully at: ../artifacts/summaries/table_summaries.pkl\n",
      "Data saved succesfully at: ../artifacts/summaries/text_summaries.pkl\n"
     ]
    }
   ],
   "source": [
    "save_data(data = tables,\n",
    "          file_name = \"table_summaries\",\n",
    "          type = \"summary\")\n",
    "\n",
    "save_data(data = texts,\n",
    "          file_name = \"text_summaries\",\n",
    "          type = \"summary\")"
   ]
  }
 ],
 "metadata": {
  "kernelspec": {
   "display_name": ".venv",
   "language": "python",
   "name": "python3"
  },
  "language_info": {
   "codemirror_mode": {
    "name": "ipython",
    "version": 3
   },
   "file_extension": ".py",
   "mimetype": "text/x-python",
   "name": "python",
   "nbconvert_exporter": "python",
   "pygments_lexer": "ipython3",
   "version": "3.11.8"
  }
 },
 "nbformat": 4,
 "nbformat_minor": 2
}
